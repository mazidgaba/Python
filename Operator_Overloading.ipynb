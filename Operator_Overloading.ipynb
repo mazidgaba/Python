{
  "nbformat": 4,
  "nbformat_minor": 0,
  "metadata": {
    "colab": {
      "provenance": [],
      "authorship_tag": "ABX9TyOdoG4cipZ1Zpr+ccOYCkfv",
      "include_colab_link": true
    },
    "kernelspec": {
      "name": "python3",
      "display_name": "Python 3"
    },
    "language_info": {
      "name": "python"
    }
  },
  "cells": [
    {
      "cell_type": "markdown",
      "metadata": {
        "id": "view-in-github",
        "colab_type": "text"
      },
      "source": [
        "<a href=\"https://colab.research.google.com/github/mazidgaba/Python/blob/main/Operator_Overloading.ipynb\" target=\"_parent\"><img src=\"https://colab.research.google.com/assets/colab-badge.svg\" alt=\"Open In Colab\"/></a>"
      ]
    },
    {
      "cell_type": "code",
      "execution_count": 3,
      "metadata": {
        "id": "07fuPdpm75Kv",
        "colab": {
          "base_uri": "https://localhost:8080/"
        },
        "outputId": "6d836b0c-6bb3-41fe-f378-4c0ce59b46c8"
      },
      "outputs": [
        {
          "output_type": "stream",
          "name": "stdout",
          "text": [
            "1i + 2j + 3k\n"
          ]
        }
      ],
      "source": [
        "class Vector:\n",
        "  def __init__(self, i, j, k):\n",
        "    self.i = i\n",
        "    self.j = j\n",
        "    self.k = k\n",
        "\n",
        "  def __str__(self):\n",
        "    return f\"{self.i}i + {self.j}j + {self.k}k\"\n",
        "\n",
        "V = (Vector(7, 5, 3))\n",
        "print(V)"
      ]
    },
    {
      "cell_type": "code",
      "source": [
        "class Vector:\n",
        "  def __init__(self, i, j, k):\n",
        "    self.i = i\n",
        "    self.j = j\n",
        "    self.k = k\n",
        "\n",
        "  def __str__(self):\n",
        "    return f\"{self.i}i + {self.j}j + {self.k}k\"\n",
        "\n",
        "  def __add__(self, x):\n",
        "    return f\"{self.i + x.i}i + {self.j + x.j}j + {self.k + x.k}k\"\n",
        "\n",
        "V1 = (Vector(7, 5, 3))\n",
        "V2 = (Vector(2, 4, 1))\n",
        "V = V1 + V2\n",
        "print(V)\n",
        "print(type(V1+V2))\n"
      ],
      "metadata": {
        "colab": {
          "base_uri": "https://localhost:8080/"
        },
        "id": "BITls31CYf6j",
        "outputId": "c17c97d3-191f-4626-837c-5582a21236ff"
      },
      "execution_count": 5,
      "outputs": [
        {
          "output_type": "stream",
          "name": "stdout",
          "text": [
            "9i + 9j + 4k\n",
            "<class 'str'>\n"
          ]
        }
      ]
    },
    {
      "cell_type": "code",
      "source": [
        "class Vector:\n",
        "  def __init__(self, i, j, k):\n",
        "    self.i = i\n",
        "    self.j = j\n",
        "    self.k = k\n",
        "\n",
        "  def __str__(self):\n",
        "    return f\"{self.i}i + {self.j}j + {self.k}k\"\n",
        "\n",
        "  def __add__(self, x):\n",
        "    return Vector (self.i + x.i,  + self.j + x.j, + self.k + x.k)\n",
        "\n",
        "V1 = (Vector(7, 5, 3))\n",
        "V2 = (Vector(2, 4, 1))\n",
        "V = V1 + V2\n",
        "print(V)\n",
        "print(type(V1+V2))\n"
      ],
      "metadata": {
        "colab": {
          "base_uri": "https://localhost:8080/"
        },
        "id": "GCi3ruXGZmW_",
        "outputId": "b88026cb-cdc4-4c74-98e4-3b743530f82b"
      },
      "execution_count": 6,
      "outputs": [
        {
          "output_type": "stream",
          "name": "stdout",
          "text": [
            "9i + 9j + 4k\n",
            "<class '__main__.Vector'>\n"
          ]
        }
      ]
    }
  ]
}