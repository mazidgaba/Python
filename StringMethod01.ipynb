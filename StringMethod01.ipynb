{
  "nbformat": 4,
  "nbformat_minor": 0,
  "metadata": {
    "colab": {
      "provenance": [],
      "authorship_tag": "ABX9TyOO8r5uHiMOZr0ISxtHymkz",
      "include_colab_link": true
    },
    "kernelspec": {
      "name": "python3",
      "display_name": "Python 3"
    },
    "language_info": {
      "name": "python"
    }
  },
  "cells": [
    {
      "cell_type": "markdown",
      "metadata": {
        "id": "view-in-github",
        "colab_type": "text"
      },
      "source": [
        "<a href=\"https://colab.research.google.com/github/mazidgaba/Python/blob/main/StringMethod01.ipynb\" target=\"_parent\"><img src=\"https://colab.research.google.com/assets/colab-badge.svg\" alt=\"Open In Colab\"/></a>"
      ]
    },
    {
      "cell_type": "code",
      "execution_count": 19,
      "metadata": {
        "colab": {
          "base_uri": "https://localhost:8080/"
        },
        "id": "GeNNJy-njn78",
        "outputId": "3ccab0a1-3385-4b90-bd72-53d1a8745d26"
      },
      "outputs": [
        {
          "output_type": "stream",
          "name": "stdout",
          "text": [
            "MAZID GABA\n",
            "Mazid Gaba\n",
            "mazid gaba\n",
            "Mazid Gaba\n",
            "['M', 'zid G', 'b', '']\n",
            "['M', 'zid G', 'b', '']\n",
            "Mazid Gulam\n",
            "['Mazid', 'Gaba']\n",
            "Hi i am gulam mazid and\n",
            "i am student of jnu\n",
            "i am from bihar siwan\n"
          ]
        }
      ],
      "source": [
        "Name = \"Mazid Gaba\"\n",
        "print(Name.upper())\n",
        "print(Name)\n",
        "print(Name.lower())\n",
        "print(Name.title())\n",
        "\n",
        "print(Name.rsplit('a')  )\n",
        "print(Name.split(\"a\"))\n",
        "\n",
        "print(Name.replace(\"Gaba\",\"Gulam\"))\n",
        "print(Name.split())\n",
        "\n",
        "about = '''hi i am gulam mazid and\n",
        "i am student of jnu\n",
        "i am from bihar siwan'''\n",
        "print(about.capitalize())\n"
      ]
    },
    {
      "cell_type": "code",
      "source": [
        "str1= \"mazid gABA IS A student Of JNU, mazid !!!!!!!!!!!\"\n",
        "print(len(str1))\n",
        "print(len(str1.center(60)))\n",
        "\n",
        "print(str1.count(\"mazid\"))\n",
        "\n",
        "print(str1.endswith(\"!\"))\n",
        "print(str1.endswith(\"M\"))\n",
        "\n",
        "print(str1.endswith(\"!!\", 4, 50))\n",
        "\n",
        "print(str1.isprintable())\n",
        "print(str1.startswith)\n",
        "\n",
        "print(str1.find(\"IS\"))\n",
        "print(str1.find(\"Gulam\"))\n",
        "print(str1.find(\"IS\", 10, 20))\n",
        "\n",
        "print(str1.index(\"IS\"))\n"
      ],
      "metadata": {
        "colab": {
          "base_uri": "https://localhost:8080/"
        },
        "id": "qcqzuGiWqi4w",
        "outputId": "8cc9820a-06cf-434b-e1fe-70e184dce563"
      },
      "execution_count": 67,
      "outputs": [
        {
          "output_type": "stream",
          "name": "stdout",
          "text": [
            "49\n",
            "60\n",
            "2\n",
            "True\n",
            "False\n",
            "True\n",
            "True\n",
            "<built-in method startswith of str object at 0x79171da9c0a0>\n",
            "11\n",
            "-1\n",
            "11\n",
            "11\n"
          ]
        }
      ]
    },
    {
      "cell_type": "code",
      "source": [
        "str1= \"mazid gABA IS A student Of JNU, mazid !!!!!!!!!!!\"\n",
        "print(str1.find(\"IS\"))\n",
        "print(str1.find(\"Gulam\"))\n",
        "print(str1.find(\"IS\", 10, 20))\n",
        "\n",
        "print(str1.istitle())\n"
      ],
      "metadata": {
        "colab": {
          "base_uri": "https://localhost:8080/"
        },
        "id": "KkVZ6EVy5fwI",
        "outputId": "4a3893d2-f676-4ab5-96db-9847f53f10ec"
      },
      "execution_count": 66,
      "outputs": [
        {
          "output_type": "stream",
          "name": "stdout",
          "text": [
            "11\n",
            "-1\n",
            "11\n",
            "False\n"
          ]
        }
      ]
    },
    {
      "cell_type": "code",
      "source": [
        "str1= \"mazid gABA IS A student Of JNU, mazid !!!!!!!!!!!\"\n",
        "print(str1.index(\"IS\"))"
      ],
      "metadata": {
        "colab": {
          "base_uri": "https://localhost:8080/"
        },
        "id": "xszt4NFk5oru",
        "outputId": "12b96066-db84-4633-f37e-a331d5856a46"
      },
      "execution_count": 47,
      "outputs": [
        {
          "output_type": "stream",
          "name": "stdout",
          "text": [
            "11\n"
          ]
        }
      ]
    },
    {
      "cell_type": "code",
      "source": [
        "str1= \"mazid gABA IS A student Of JNU, mazid !!!!!!!!!!!\"\n",
        "print(str1.isalnum())"
      ],
      "metadata": {
        "colab": {
          "base_uri": "https://localhost:8080/"
        },
        "id": "APjujzwN6Phi",
        "outputId": "beb1a212-b111-4fd1-ff62-ed175a856b1c"
      },
      "execution_count": 50,
      "outputs": [
        {
          "output_type": "stream",
          "name": "stdout",
          "text": [
            "False\n"
          ]
        }
      ]
    },
    {
      "cell_type": "code",
      "source": [
        "str2= 'mazid11'\n",
        "print(str2.isalnum())\n",
        "\n",
        "print(str2.isalpha())\n",
        "\n",
        "print(str2.islower())\n",
        "\n",
        "str3 = \"        \"\n",
        "print(str3.isspace())\n",
        "\n",
        "\n",
        "print(str2.isupper())"
      ],
      "metadata": {
        "colab": {
          "base_uri": "https://localhost:8080/"
        },
        "id": "6GUDu7r26-lI",
        "outputId": "976869ec-94c1-44d6-8fa2-430d595df13e"
      },
      "execution_count": 65,
      "outputs": [
        {
          "output_type": "stream",
          "name": "stdout",
          "text": [
            "True\n",
            "False\n",
            "True\n",
            "True\n",
            "False\n"
          ]
        }
      ]
    },
    {
      "cell_type": "code",
      "source": [
        "str4 = 'i am gulam mazid and student if jnu'\n",
        "print(str4.swapcase())\n",
        "print(str4.title())\n",
        "\n",
        "print(str4.center(100, \"*\"))"
      ],
      "metadata": {
        "colab": {
          "base_uri": "https://localhost:8080/"
        },
        "id": "4mg5O3Du8_iz",
        "outputId": "0c102eb4-7964-4b49-beef-cac7a451e32a"
      },
      "execution_count": 70,
      "outputs": [
        {
          "output_type": "stream",
          "name": "stdout",
          "text": [
            "I AM GULAM MAZID AND STUDENT IF JNU\n",
            "I Am Gulam Mazid And Student If Jnu\n",
            "********************************i am gulam mazid and student if jnu*********************************\n"
          ]
        }
      ]
    }
  ]
}