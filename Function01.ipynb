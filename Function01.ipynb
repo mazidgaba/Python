{
  "nbformat": 4,
  "nbformat_minor": 0,
  "metadata": {
    "colab": {
      "provenance": [],
      "authorship_tag": "ABX9TyPkNsS9GByX9e4xpsGkdDfp",
      "include_colab_link": true
    },
    "kernelspec": {
      "name": "python3",
      "display_name": "Python 3"
    },
    "language_info": {
      "name": "python"
    }
  },
  "cells": [
    {
      "cell_type": "markdown",
      "metadata": {
        "id": "view-in-github",
        "colab_type": "text"
      },
      "source": [
        "<a href=\"https://colab.research.google.com/github/mazidgaba/Python/blob/main/Function01.ipynb\" target=\"_parent\"><img src=\"https://colab.research.google.com/assets/colab-badge.svg\" alt=\"Open In Colab\"/></a>"
      ]
    },
    {
      "cell_type": "code",
      "execution_count": 11,
      "metadata": {
        "colab": {
          "base_uri": "https://localhost:8080/"
        },
        "id": "wMjt0Krn8Qtc",
        "outputId": "4cd2c424-f443-4bc2-d48e-2ad932d098bd"
      },
      "outputs": [
        {
          "output_type": "stream",
          "name": "stdout",
          "text": [
            " The Calculated gmean = 6.107142857142857\n",
            " The Calculated gmean = 66.11073825503355\n"
          ]
        }
      ],
      "source": [
        "def Calgmean(a,b):\n",
        "    mean =(a*b)/(a+b)\n",
        "    print(\" The Calculated gmean =\",mean)\n",
        "\n",
        "a= 9\n",
        "b =19\n",
        "mean = Calgmean(a,b)\n",
        "\n",
        "\n",
        "c= 99\n",
        "d =199\n",
        "mean = Calgmean(c,d)\n",
        "\n",
        "\n"
      ]
    },
    {
      "cell_type": "code",
      "source": [
        "def Calgmean(a,b):\n",
        "    mean =(a*b)/(a+b)\n",
        "    print(\" The Calculated gmean =\",mean)\n",
        "    if mean>0:\n",
        "        print(\"Mean is positive\")\n",
        "    else:\n",
        "        print(\"Mean is negative\")\n",
        "\n",
        "a= -9\n",
        "b =-19\n",
        "mean = Calgmean(a,b)\n",
        "\n",
        "\n",
        "c= 99\n",
        "d =199\n",
        "mean = Calgmean(c,d)\n",
        "\n",
        "\n"
      ],
      "metadata": {
        "colab": {
          "base_uri": "https://localhost:8080/"
        },
        "id": "hdjFDGhzAOiH",
        "outputId": "c8a2bbdb-5b36-4de8-b70e-048a0686b724"
      },
      "execution_count": 16,
      "outputs": [
        {
          "output_type": "stream",
          "name": "stdout",
          "text": [
            " The Calculated gmean = -6.107142857142857\n",
            "Mean is negative\n",
            " The Calculated gmean = 66.11073825503355\n",
            "Mean is positive\n"
          ]
        }
      ]
    },
    {
      "cell_type": "code",
      "source": [
        "\n",
        "def Calgmean(a,b):\n",
        "    mean =(a*b)/(a+b)\n",
        "    print(\" The Calculated gmean =\",mean)\n",
        "    if mean>0:\n",
        "        print(\"Mean is positive\")\n",
        "    else:\n",
        "        print(\"Mean is negative\")\n",
        "\n",
        "a= -9\n",
        "b =-19\n",
        "mean = Calgmean(a,b)\n",
        "\n",
        "\n",
        "c= 99\n",
        "d =199\n",
        "mean = Calgmean(c,d)\n",
        "\n",
        "\n"
      ],
      "metadata": {
        "colab": {
          "base_uri": "https://localhost:8080/"
        },
        "id": "Ftmtqms6As9a",
        "outputId": "0e57c1c3-752e-4b57-dc67-dfd411af571e"
      },
      "execution_count": 19,
      "outputs": [
        {
          "output_type": "stream",
          "name": "stdout",
          "text": [
            " The Calculated gmean = -6.107142857142857\n",
            "Mean is negative\n",
            " The Calculated gmean = 66.11073825503355\n",
            "Mean is positive\n"
          ]
        }
      ]
    },
    {
      "cell_type": "code",
      "source": [
        "def Calgmean(a, b):\n",
        "    mean = (a * b) / (a + b)\n",
        "    print(\"The Calculated gmean =\", mean)\n",
        "    if mean > 0:\n",
        "        print(\"Mean is positive\")\n",
        "    else:\n",
        "        print(\"Mean is negative\")\n",
        "\n",
        "# Get input from the user\n",
        "a = int(input(\"Enter the first number: \"))\n",
        "b = int(input(\"Enter the second number: \"))\n",
        "\n",
        "# Call the function with user inputs\n",
        "Calgmean(a, b)\n"
      ],
      "metadata": {
        "colab": {
          "base_uri": "https://localhost:8080/"
        },
        "id": "uRz9JKCwClxn",
        "outputId": "79565f93-0b38-4f3e-f5c8-a9ef905b22c6"
      },
      "execution_count": 46,
      "outputs": [
        {
          "output_type": "stream",
          "name": "stdout",
          "text": [
            "Enter the first number: -9\n",
            "Enter the second number: -9\n",
            "The Calculated gmean = -4.5\n",
            "Mean is negative\n"
          ]
        }
      ]
    },
    {
      "cell_type": "code",
      "source": [
        "def Calgmean(a, b):\n",
        "    mean = (a * b) / (a + b)\n",
        "    print(\"The Calculated gmean =\", mean)\n",
        "    if mean > 0:\n",
        "        print(\"Mean is positive\")\n",
        "    else:\n",
        "        print(\"Mean is negative\")\n",
        "\n",
        "def isLesser (a,b):\n",
        "    pass\n",
        "\n",
        "# Get input from the user\n",
        "a = int(input(\"Enter the first number: \"))\n",
        "b = int(input(\"Enter the second number: \"))\n",
        "\n",
        "# Call the function with user inputs\n",
        "Calgmean(a, b)\n"
      ],
      "metadata": {
        "colab": {
          "base_uri": "https://localhost:8080/"
        },
        "id": "h-z_EXCTEmEz",
        "outputId": "8fa82170-e87c-45d6-af2f-3e82365336d2"
      },
      "execution_count": 47,
      "outputs": [
        {
          "output_type": "stream",
          "name": "stdout",
          "text": [
            "Enter the first number: 9\n",
            "Enter the second number: 9\n",
            "The Calculated gmean = 4.5\n",
            "Mean is positive\n"
          ]
        }
      ]
    }
  ]
}