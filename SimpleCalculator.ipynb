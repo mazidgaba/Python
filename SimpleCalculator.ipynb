{
  "nbformat": 4,
  "nbformat_minor": 0,
  "metadata": {
    "colab": {
      "provenance": [],
      "authorship_tag": "ABX9TyMJ0RQaemQHySPChfoH6wgt",
      "include_colab_link": true
    },
    "kernelspec": {
      "name": "python3",
      "display_name": "Python 3"
    },
    "language_info": {
      "name": "python"
    }
  },
  "cells": [
    {
      "cell_type": "markdown",
      "metadata": {
        "id": "view-in-github",
        "colab_type": "text"
      },
      "source": [
        "<a href=\"https://colab.research.google.com/github/mazidgaba/Python/blob/main/SimpleCalculator.ipynb\" target=\"_parent\"><img src=\"https://colab.research.google.com/assets/colab-badge.svg\" alt=\"Open In Colab\"/></a>"
      ]
    },
    {
      "cell_type": "code",
      "execution_count": 10,
      "metadata": {
        "colab": {
          "base_uri": "https://localhost:8080/"
        },
        "id": "viyVkt8iCCC_",
        "outputId": "10077d31-5d07-4fa1-aa2b-9d54d778f31f"
      },
      "outputs": [
        {
          "output_type": "stream",
          "name": "stdout",
          "text": [
            "The value of 155 + 3 = 188\n",
            "The value of 155 / 3 = 4.696969696969697\n",
            "The value of 155 % 3 = 23\n",
            "The value of 155 - 3 = 122\n",
            "The value of 155 // 3 = 4\n"
          ]
        }
      ],
      "source": [
        "a= 155\n",
        "b=33\n",
        "\n",
        "print(\"The value of\", a, \"+\" ,3, \"=\" ,a+b)\n",
        "print(\"The value of\", a, \"/\" ,3, \"=\" ,a/b)\n",
        "print(\"The value of\", a, \"%\" ,3, \"=\" ,a%b)\n",
        "print(\"The value of\", a, \"-\" ,3, \"=\" ,a-b)\n",
        "print(\"The value of\", a, \"//\" ,3, \"=\" ,a//b)"
      ]
    },
    {
      "cell_type": "code",
      "source": [],
      "metadata": {
        "id": "Gn0aM848FKH-"
      },
      "execution_count": null,
      "outputs": []
    }
  ]
}