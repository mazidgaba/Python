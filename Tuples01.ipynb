{
  "nbformat": 4,
  "nbformat_minor": 0,
  "metadata": {
    "colab": {
      "provenance": [],
      "authorship_tag": "ABX9TyNWdNB6K6IiHQG3iIdQgTE7",
      "include_colab_link": true
    },
    "kernelspec": {
      "name": "python3",
      "display_name": "Python 3"
    },
    "language_info": {
      "name": "python"
    }
  },
  "cells": [
    {
      "cell_type": "markdown",
      "metadata": {
        "id": "view-in-github",
        "colab_type": "text"
      },
      "source": [
        "<a href=\"https://colab.research.google.com/github/mazidgaba/Python/blob/main/Tuples01.ipynb\" target=\"_parent\"><img src=\"https://colab.research.google.com/assets/colab-badge.svg\" alt=\"Open In Colab\"/></a>"
      ]
    },
    {
      "cell_type": "code",
      "execution_count": 13,
      "metadata": {
        "colab": {
          "base_uri": "https://localhost:8080/"
        },
        "id": "BanFnY4n6GiK",
        "outputId": "26f0a499-72cb-4254-91e3-2bf2326b6253"
      },
      "outputs": [
        {
          "output_type": "stream",
          "name": "stdout",
          "text": [
            "(1, 2, 'mazid', 'gaba', 3.14)\n",
            "<class 'tuple'>\n",
            "<class 'int'>\n",
            "<class 'int'>\n",
            "<class 'str'>\n",
            "<class 'str'>\n",
            "<class 'float'>\n",
            "1\n",
            "2\n",
            "mazid\n",
            "gaba\n",
            "3.14\n",
            "(1, 2, 'mazid', 'gaba')\n",
            "('gaba', 3.14)\n",
            "mazid is in the list\n",
            "m\n",
            "a\n",
            "z\n",
            "i\n",
            "d\n"
          ]
        }
      ],
      "source": [
        "typ = (1,2, \"mazid\", \"gaba\", 3.14)\n",
        "print(typ)\n",
        "\n",
        "print(type(typ))\n",
        "print(type(typ[0]))\n",
        "print(type(typ[1]))\n",
        "print(type(typ[2]))\n",
        "print(type(typ[3]))\n",
        "print(type(typ[4]))\n",
        "\n",
        "\n",
        "\n",
        "print(typ[0])\n",
        "print(typ[1])\n",
        "print(typ[2])\n",
        "print(typ[3])\n",
        "print(typ[4])\n",
        "\n",
        "print(typ[:-1])\n",
        "print(typ[-2:])\n",
        "\n",
        "\n",
        "if \"mazid\" in typ:\n",
        "    print(\"mazid is in the list\")\n",
        "else:\n",
        "    print(\"mazid is not in the list\")\n",
        "\n",
        "for char in \"mazid\":\n",
        "    print(char)\n"
      ]
    },
    {
      "cell_type": "code",
      "source": [
        "typ1 = (1)\n",
        "print(type(typ1))\n",
        "\n",
        "typ2 = (1,)\n",
        "print(type(typ2))\n",
        "\n",
        "typ3 = 1,\n",
        "print(type(typ3))\n",
        "\n",
        "typ4 = 1\n",
        "print(type(typ4))\n",
        "\n"
      ],
      "metadata": {
        "colab": {
          "base_uri": "https://localhost:8080/"
        },
        "id": "O79DlAaY7IFF",
        "outputId": "bb71900d-d0f8-4326-ce90-7852a8a5acf2"
      },
      "execution_count": 9,
      "outputs": [
        {
          "output_type": "stream",
          "name": "stdout",
          "text": [
            "<class 'int'>\n",
            "<class 'tuple'>\n",
            "<class 'tuple'>\n",
            "<class 'int'>\n"
          ]
        }
      ]
    },
    {
      "cell_type": "code",
      "source": [],
      "metadata": {
        "id": "50gQgid17Q6J"
      },
      "execution_count": null,
      "outputs": []
    }
  ]
}