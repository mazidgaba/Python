{
  "nbformat": 4,
  "nbformat_minor": 0,
  "metadata": {
    "colab": {
      "provenance": [],
      "authorship_tag": "ABX9TyMv+WkZzh5PvFl6blHH9piM",
      "include_colab_link": true
    },
    "kernelspec": {
      "name": "python3",
      "display_name": "Python 3"
    },
    "language_info": {
      "name": "python"
    }
  },
  "cells": [
    {
      "cell_type": "markdown",
      "metadata": {
        "id": "view-in-github",
        "colab_type": "text"
      },
      "source": [
        "<a href=\"https://colab.research.google.com/github/mazidgaba/Python/blob/main/Time.ipynb\" target=\"_parent\"><img src=\"https://colab.research.google.com/assets/colab-badge.svg\" alt=\"Open In Colab\"/></a>"
      ]
    },
    {
      "cell_type": "code",
      "execution_count": 8,
      "metadata": {
        "colab": {
          "base_uri": "https://localhost:8080/"
        },
        "id": "gQwBMhhrUJ3D",
        "outputId": "fc5da34a-7fa3-4822-d763-83e410bcc4d9"
      },
      "outputs": [
        {
          "output_type": "stream",
          "name": "stdout",
          "text": [
            "Enter the time15\n",
            "Good Afternoon\n"
          ]
        }
      ],
      "source": [
        "\n",
        "\n",
        "time = int(input(\"Enter the time\"))\n",
        "\n",
        "if time > 0 and time < 12:\n",
        "    print(\"Good Morning\")\n",
        "elif time > 12 and time < 16:\n",
        "    print(\"Good Afternoon\")\n",
        "\n",
        "elif time > 16 and time < 20:\n",
        "    print(\"Good Evening\")\n",
        "else:\n",
        "    print(\"Good Night\")"
      ]
    },
    {
      "cell_type": "code",
      "source": [
        "import time\n",
        "\n",
        "timestamp = time.strftime(\"%H:%M:%S\")\n",
        "print(timestamp)"
      ],
      "metadata": {
        "colab": {
          "base_uri": "https://localhost:8080/"
        },
        "id": "ahwzX-8RWBLa",
        "outputId": "96184218-8f3b-4186-9a9c-3408b33a26cb"
      },
      "execution_count": 11,
      "outputs": [
        {
          "output_type": "stream",
          "name": "stdout",
          "text": [
            "19:08:00\n"
          ]
        }
      ]
    }
  ]
}