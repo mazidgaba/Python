{
  "nbformat": 4,
  "nbformat_minor": 0,
  "metadata": {
    "colab": {
      "provenance": [],
      "authorship_tag": "ABX9TyNfZP8GkqqyiArqbSkyYrid",
      "include_colab_link": true
    },
    "kernelspec": {
      "name": "python3",
      "display_name": "Python 3"
    },
    "language_info": {
      "name": "python"
    }
  },
  "cells": [
    {
      "cell_type": "markdown",
      "metadata": {
        "id": "view-in-github",
        "colab_type": "text"
      },
      "source": [
        "<a href=\"https://colab.research.google.com/github/mazidgaba/Python/blob/main/Inheritance.ipynb\" target=\"_parent\"><img src=\"https://colab.research.google.com/assets/colab-badge.svg\" alt=\"Open In Colab\"/></a>"
      ]
    },
    {
      "cell_type": "code",
      "execution_count": 24,
      "metadata": {
        "colab": {
          "base_uri": "https://localhost:8080/"
        },
        "id": "QdwAltdBNrdl",
        "outputId": "c8e3f91d-98c1-4afa-bce3-d86539878556"
      },
      "outputs": [
        {
          "output_type": "stream",
          "name": "stdout",
          "text": [
            "The name Employee is Mazid and Employee id is 101\n",
            "The name Employee is Haris and Employee id is 201\n",
            "The name Employee is Saquib and Employee id is 301\n",
            "I know Python\n"
          ]
        }
      ],
      "source": [
        "class Employee:\n",
        "    def __init__(self, name, id):\n",
        "        self.name = name\n",
        "        self.id = id\n",
        "\n",
        "    def showDetails(self):\n",
        "        print(f\"The name Employee is {self.name} and Employee id is {self.id}\")\n",
        "\n",
        "\n",
        "\n",
        "class Programmer(Employee):\n",
        "    def showLanguage(self):\n",
        "        print(\"I know Python\")\n",
        "\n",
        "e = Employee(\"Mazid\", 101)\n",
        "e.showDetails()\n",
        "e1 = Employee(\"Haris\", 201)\n",
        "e1.showDetails()\n",
        "\n",
        "e2 = Employee(\"Saquib\", 301)\n",
        "e2.showDetails()\n",
        "p.showLanguage()\n"
      ]
    }
  ]
}