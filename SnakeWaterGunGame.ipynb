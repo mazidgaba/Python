{
  "nbformat": 4,
  "nbformat_minor": 0,
  "metadata": {
    "colab": {
      "provenance": [],
      "authorship_tag": "ABX9TyNuX/XSEBN2+yRtqRaDU5mU",
      "include_colab_link": true
    },
    "kernelspec": {
      "name": "python3",
      "display_name": "Python 3"
    },
    "language_info": {
      "name": "python"
    }
  },
  "cells": [
    {
      "cell_type": "markdown",
      "metadata": {
        "id": "view-in-github",
        "colab_type": "text"
      },
      "source": [
        "<a href=\"https://colab.research.google.com/github/mazidgaba/Python/blob/main/SnakeWaterGunGame.ipynb\" target=\"_parent\"><img src=\"https://colab.research.google.com/assets/colab-badge.svg\" alt=\"Open In Colab\"/></a>"
      ]
    },
    {
      "cell_type": "code",
      "execution_count": 14,
      "metadata": {
        "colab": {
          "base_uri": "https://localhost:8080/"
        },
        "id": "G42XWI0EwQrE",
        "outputId": "2c67d619-ecaa-4c1b-dbb3-6eed536c3bc2"
      },
      "outputs": [
        {
          "output_type": "stream",
          "name": "stdout",
          "text": [
            "0 for snake, 1 for Water, 2 for Gun1\n",
            "Computer: 2\n",
            "You: 1\n",
            "You Win\n"
          ]
        }
      ],
      "source": [
        "import random\n",
        "\n",
        "def check (comp, user):\n",
        "  if comp == user:\n",
        "    return 0\n",
        "  if(comp == 0 and user == 1) or (comp == 1 and user == 2) or (comp == 2 and user == 0):\n",
        "    return -1\n",
        "  else:\n",
        "    return 1\n",
        "comp = random.randint(0,2)\n",
        "user = int(input(\"0 for snake, 1 for Water, 2 for Gun\"))\n",
        "\n",
        "score= check(comp, user)\n",
        "\n",
        "print(\"Computer:\", comp)\n",
        "print(\"You:\", user)\n",
        "if(score == 0):\n",
        "  print(\"Tie\")\n",
        "elif(score == -1):\n",
        "  print(\"You Lose\")\n",
        "else:\n",
        "  print(\"You Win\")"
      ]
    }
  ]
}