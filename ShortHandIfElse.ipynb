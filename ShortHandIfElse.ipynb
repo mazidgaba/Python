{
  "nbformat": 4,
  "nbformat_minor": 0,
  "metadata": {
    "colab": {
      "provenance": [],
      "authorship_tag": "ABX9TyPKRzIHcdzgXdKwxFnaOEV8",
      "include_colab_link": true
    },
    "kernelspec": {
      "name": "python3",
      "display_name": "Python 3"
    },
    "language_info": {
      "name": "python"
    }
  },
  "cells": [
    {
      "cell_type": "markdown",
      "metadata": {
        "id": "view-in-github",
        "colab_type": "text"
      },
      "source": [
        "<a href=\"https://colab.research.google.com/github/mazidgaba/Python/blob/main/ShortHandIfElse.ipynb\" target=\"_parent\"><img src=\"https://colab.research.google.com/assets/colab-badge.svg\" alt=\"Open In Colab\"/></a>"
      ]
    },
    {
      "cell_type": "code",
      "execution_count": null,
      "metadata": {
        "colab": {
          "base_uri": "https://localhost:8080/"
        },
        "id": "DiT9B4cKxI1j",
        "outputId": "4672faf9-0cdc-4e14-c4f6-7df666de8da8"
      },
      "outputs": [
        {
          "output_type": "stream",
          "name": "stdout",
          "text": [
            "A is Equal to B\n"
          ]
        }
      ],
      "source": [
        "a =5000\n",
        "b= 5000\n",
        "\n",
        "print(\"A is greater than B\") if a>b else print(\"A is Equal to B\") if a==b else print(\"B is greater than A\")"
      ]
    },
    {
      "cell_type": "code",
      "source": [
        "a =5000\n",
        "b= 500\n",
        "\n",
        "print(\"A is greater than B\") if a>b else print(\"A is Equal to B\") if a==b else print(\"B is greater than A\")"
      ],
      "metadata": {
        "id": "-sGZeno7yhim",
        "outputId": "8b2df89e-b55b-4321-8de9-298a6ea456de",
        "colab": {
          "base_uri": "https://localhost:8080/"
        }
      },
      "execution_count": null,
      "outputs": [
        {
          "output_type": "stream",
          "name": "stdout",
          "text": [
            "A is greater than B\n"
          ]
        }
      ]
    },
    {
      "cell_type": "code",
      "source": [
        "a =500\n",
        "b= 5000\n",
        "\n",
        "print(\"A is greater than B\") if a>b else print(\"A is Equal to B\") if a==b else print(\"B is greater than A\")"
      ],
      "metadata": {
        "id": "djA-7hxMyjRt",
        "outputId": "cb2f6d9a-68cb-477f-af61-78be730c17c4",
        "colab": {
          "base_uri": "https://localhost:8080/"
        }
      },
      "execution_count": null,
      "outputs": [
        {
          "output_type": "stream",
          "name": "stdout",
          "text": [
            "B is greater than A\n"
          ]
        }
      ]
    },
    {
      "cell_type": "code",
      "source": [
        "a =input(\"Enter the Number A\")\n",
        "b= input(\"Enter the Number B\")\n",
        "\n",
        "print(\"A is greater than B\") if a>b else print(\"A is Equal to B\") if a==b else print(\"B is greater than A\")"
      ],
      "metadata": {
        "colab": {
          "base_uri": "https://localhost:8080/"
        },
        "id": "9jaaFq8gn6Cw",
        "outputId": "8fe1f785-c618-4332-fb53-c1dd4d95a09c"
      },
      "execution_count": 2,
      "outputs": [
        {
          "output_type": "stream",
          "name": "stdout",
          "text": [
            "Enter the Number9\n",
            "Enter the Number8\n",
            "A is greater than B\n"
          ]
        }
      ]
    }
  ]
}