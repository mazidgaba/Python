{
  "nbformat": 4,
  "nbformat_minor": 0,
  "metadata": {
    "colab": {
      "provenance": [],
      "authorship_tag": "ABX9TyM+uDKzEce5+6Ok3phvugzC",
      "include_colab_link": true
    },
    "kernelspec": {
      "name": "python3",
      "display_name": "Python 3"
    },
    "language_info": {
      "name": "python"
    }
  },
  "cells": [
    {
      "cell_type": "markdown",
      "metadata": {
        "id": "view-in-github",
        "colab_type": "text"
      },
      "source": [
        "<a href=\"https://colab.research.google.com/github/mazidgaba/Python/blob/main/LibraryMangement.ipynb\" target=\"_parent\"><img src=\"https://colab.research.google.com/assets/colab-badge.svg\" alt=\"Open In Colab\"/></a>"
      ]
    },
    {
      "cell_type": "code",
      "execution_count": 8,
      "metadata": {
        "colab": {
          "base_uri": "https://localhost:8080/"
        },
        "id": "v93nxZdxHd9R",
        "outputId": "3adc6ece-db3c-46d5-b375-1732de6934f2"
      },
      "outputs": [
        {
          "output_type": "stream",
          "name": "stdout",
          "text": [
            "The library has 2 books. The books are\n",
            "Data Science Volume 1\n",
            "Data Analysis Using Python\n"
          ]
        }
      ],
      "source": [
        "class Library:\n",
        "  def __init__(self):\n",
        "    self.noBooks = 0\n",
        "    self.books = []\n",
        "\n",
        "  def addBook(self, book):\n",
        "    self.books.append(book)\n",
        "    self.noBooks = len(self.books)\n",
        "\n",
        "  def showinfo(self):\n",
        "    print(f\"The library has {self.noBooks} books. The books are\")\n",
        "    for book in self.books:\n",
        "      print(book)\n",
        "\n",
        "l1= Library()\n",
        "l1.addBook(\"Data Science Volume 1\")\n",
        "l1.addBook(\"Data Analysis Using Python\")\n",
        "l1.showinfo()"
      ]
    }
  ]
}