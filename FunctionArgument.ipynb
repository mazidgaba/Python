{
  "nbformat": 4,
  "nbformat_minor": 0,
  "metadata": {
    "colab": {
      "provenance": [],
      "authorship_tag": "ABX9TyNizgVGnxXckCwkl5M4ocYT",
      "include_colab_link": true
    },
    "kernelspec": {
      "name": "python3",
      "display_name": "Python 3"
    },
    "language_info": {
      "name": "python"
    }
  },
  "cells": [
    {
      "cell_type": "markdown",
      "metadata": {
        "id": "view-in-github",
        "colab_type": "text"
      },
      "source": [
        "<a href=\"https://colab.research.google.com/github/mazidgaba/Python/blob/main/FunctionArgument.ipynb\" target=\"_parent\"><img src=\"https://colab.research.google.com/assets/colab-badge.svg\" alt=\"Open In Colab\"/></a>"
      ]
    },
    {
      "cell_type": "code",
      "execution_count": 5,
      "metadata": {
        "colab": {
          "base_uri": "https://localhost:8080/"
        },
        "id": "La2oVwMRHb8Y",
        "outputId": "9d091c26-dd8a-4701-8546-22f48b3fca04"
      },
      "outputs": [
        {
          "output_type": "stream",
          "name": "stdout",
          "text": [
            "The average of the Three Number is  2.0\n",
            "The average of the Three Number is  3.0\n",
            "The average of the Three Number is  4.0\n"
          ]
        }
      ],
      "source": [
        "def average (a,b,c):\n",
        "\n",
        "    print(\"The average of the Three Number is \",(a+b+c)/3)\n",
        "\n",
        "\n",
        "average (1,2,3)\n",
        "average (2,3,4)\n",
        "average (3,4,5)"
      ]
    },
    {
      "cell_type": "markdown",
      "source": [
        "**Default Aurgument**"
      ],
      "metadata": {
        "id": "sw7lKmh-Xg_I"
      }
    },
    {
      "cell_type": "code",
      "source": [
        "def average (a=1,b=9,c=2):\n",
        "\n",
        "    print(\"The average of the Three Number is \",(a+b+c)/3)\n",
        "\n",
        "\n",
        "average ()\n",
        "average (2,4)\n",
        "average (4,5)"
      ],
      "metadata": {
        "colab": {
          "base_uri": "https://localhost:8080/"
        },
        "id": "CsHEHl7hXknx",
        "outputId": "b299f4f9-91f5-4a5e-ea8a-b352754a811d"
      },
      "execution_count": 9,
      "outputs": [
        {
          "output_type": "stream",
          "name": "stdout",
          "text": [
            "The average of the Three Number is  4.0\n",
            "The average of the Three Number is  2.6666666666666665\n",
            "The average of the Three Number is  3.6666666666666665\n"
          ]
        }
      ]
    },
    {
      "cell_type": "code",
      "source": [
        "def average (a,c=2):\n",
        "\n",
        "    print(\"The average of the Three Number is \",(a+c)/3)\n",
        "\n",
        "\n",
        "average (2)\n",
        "average (2,4)\n",
        "average (4,5)"
      ],
      "metadata": {
        "colab": {
          "base_uri": "https://localhost:8080/"
        },
        "id": "MQ0hd6sGYD3Z",
        "outputId": "cf487769-8752-4cb7-80f7-de47f77a924e"
      },
      "execution_count": 14,
      "outputs": [
        {
          "output_type": "stream",
          "name": "stdout",
          "text": [
            "The average of the Three Number is  1.3333333333333333\n",
            "The average of the Three Number is  2.0\n",
            "The average of the Three Number is  3.0\n"
          ]
        }
      ]
    },
    {
      "cell_type": "code",
      "source": [
        "def FullName (first, mname= \"jerry\", lname=\"kate\"):\n",
        "    print(first, mname, lname)\n",
        "\n",
        "\n",
        "FullName (input(\"Enter First Name : \"))\n",
        "FullName (input(\"Enter First Name : \"),input(\"Enter Middle Name : \"))\n",
        "FullName (input(\"Enter First Name : \"),input(\"Enter Middle Name : \"),input(\"Enter Last Name : \"))"
      ],
      "metadata": {
        "colab": {
          "base_uri": "https://localhost:8080/"
        },
        "id": "itW4T6kKYPIg",
        "outputId": "729098e5-630e-415c-d694-7b47925abe03"
      },
      "execution_count": 23,
      "outputs": [
        {
          "output_type": "stream",
          "name": "stdout",
          "text": [
            "Enter First Name : Gulam\n",
            "Gulam jerry kate\n",
            "Enter First Name : Mazid\n",
            "Enter Middle Name : Mazid\n",
            "Mazid Mazid kate\n",
            "Enter First Name : Mr\n",
            "Enter Middle Name : Gulam\n",
            "Enter Last Name : Mazid\n",
            "Mr Gulam Mazid\n"
          ]
        }
      ]
    },
    {
      "cell_type": "markdown",
      "source": [
        "**`Keyword Argument`**"
      ],
      "metadata": {
        "id": "DiBpLjJ8Z0F-"
      }
    },
    {
      "cell_type": "code",
      "source": [
        "def average (a,b,c):\n",
        "\n",
        "    print(\"The average of the Three Number is \",(a+b+c)/3)\n",
        "\n",
        "\n",
        "average (c=1,b=2,a=3)\n",
        "average (b=2,a=13,c=4)\n",
        "average (b=3,a=4,c=5)"
      ],
      "metadata": {
        "colab": {
          "base_uri": "https://localhost:8080/"
        },
        "id": "3pNVeU_eZzss",
        "outputId": "519578d5-2d20-4697-dc50-c39d70fbfaf8"
      },
      "execution_count": 26,
      "outputs": [
        {
          "output_type": "stream",
          "name": "stdout",
          "text": [
            "The average of the Three Number is  2.0\n",
            "The average of the Three Number is  6.333333333333333\n",
            "The average of the Three Number is  4.0\n"
          ]
        }
      ]
    },
    {
      "cell_type": "markdown",
      "source": [
        "**Arbitary Argument**"
      ],
      "metadata": {
        "id": "bX9r7ppjcauh"
      }
    },
    {
      "cell_type": "code",
      "source": [
        "def average (*number):\n",
        "        sum =0\n",
        "        for i in number:\n",
        "          sum = sum + i\n",
        "        print(\"The average of the Three Number is \",sum/len(number))\n",
        "\n",
        "\n",
        "average (1,2,3)\n",
        "average (2,3,4)\n",
        "average (3,4,5 ,6,728, 9, 7)"
      ],
      "metadata": {
        "colab": {
          "base_uri": "https://localhost:8080/"
        },
        "id": "uMfD0knxdDJ0",
        "outputId": "857b6c58-4a35-4a5a-94d2-e989586911a1"
      },
      "execution_count": 38,
      "outputs": [
        {
          "output_type": "stream",
          "name": "stdout",
          "text": [
            "The average of the Three Number is  2.0\n",
            "The average of the Three Number is  3.0\n",
            "The average of the Three Number is  108.85714285714286\n"
          ]
        }
      ]
    },
    {
      "cell_type": "code",
      "source": [
        "def average (*num):\n",
        "\n",
        "    print(\"The average of the Three Number is \",sum(num)/len(num))\n",
        "\n",
        "\n",
        "average (1,2,3)\n",
        "average (2,3,4)\n",
        "average (3,4,5 ,6,728, 9, 7)"
      ],
      "metadata": {
        "colab": {
          "base_uri": "https://localhost:8080/"
        },
        "id": "JZr8Ew9GcaVk",
        "outputId": "8aec028b-b27c-47f4-d88c-506b3556990c"
      },
      "execution_count": 27,
      "outputs": [
        {
          "output_type": "stream",
          "name": "stdout",
          "text": [
            "The average of the Three Number is  2.0\n",
            "The average of the Three Number is  3.0\n",
            "The average of the Three Number is  108.85714285714286\n"
          ]
        }
      ]
    },
    {
      "cell_type": "markdown",
      "source": [
        "**Keyword Arbitary Argument**"
      ],
      "metadata": {
        "id": "5hI5CVASe63s"
      }
    },
    {
      "cell_type": "code",
      "source": [
        "def name(**name):\n",
        "    print(\"Hello,\", name[\"fname\"], name[\"mname\"], name[\"lname\"])\n",
        "\n",
        "name(fname = input(\"Enter First Name : \"), mname = input(\"Enter Middle Name : \"), lname = input(\"Enter Last Name : \"))"
      ],
      "metadata": {
        "colab": {
          "base_uri": "https://localhost:8080/"
        },
        "id": "NeUKGMaRelB4",
        "outputId": "dc35d9dc-b4aa-42bd-d358-743df1196ec2"
      },
      "execution_count": 48,
      "outputs": [
        {
          "output_type": "stream",
          "name": "stdout",
          "text": [
            "Enter First Name : mr\n",
            "Enter Middle Name : gulam\n",
            "Enter Last Name : mazid\n",
            "Hello, mr gulam mazid\n"
          ]
        }
      ]
    },
    {
      "cell_type": "code",
      "source": [
        "def name(**name):\n",
        "    print(\"Hello,\", name[\"fname\"], name[\"mname\"], name[\"lname\"])\n",
        "\n",
        "name(fname = \"Mr\", mname = \"Gulam\", lname = \"Mazid\")"
      ],
      "metadata": {
        "colab": {
          "base_uri": "https://localhost:8080/"
        },
        "id": "Uoo-rhw8ftNH",
        "outputId": "483941ce-fa33-4bfc-b70f-5b3ece66f887"
      },
      "execution_count": 45,
      "outputs": [
        {
          "output_type": "stream",
          "name": "stdout",
          "text": [
            "Hello, Mr Jerry Kate\n"
          ]
        }
      ]
    }
  ]
}