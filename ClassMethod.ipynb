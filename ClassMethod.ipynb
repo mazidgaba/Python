{
  "nbformat": 4,
  "nbformat_minor": 0,
  "metadata": {
    "colab": {
      "provenance": [],
      "authorship_tag": "ABX9TyMPQQXK1FRuFc03KrF96xoN",
      "include_colab_link": true
    },
    "kernelspec": {
      "name": "python3",
      "display_name": "Python 3"
    },
    "language_info": {
      "name": "python"
    }
  },
  "cells": [
    {
      "cell_type": "markdown",
      "metadata": {
        "id": "view-in-github",
        "colab_type": "text"
      },
      "source": [
        "<a href=\"https://colab.research.google.com/github/mazidgaba/Python/blob/main/ClassMethod.ipynb\" target=\"_parent\"><img src=\"https://colab.research.google.com/assets/colab-badge.svg\" alt=\"Open In Colab\"/></a>"
      ]
    },
    {
      "cell_type": "code",
      "source": [
        "class Employee:\n",
        "    company = \"Apple\"\n",
        "\n",
        "    def show(self):\n",
        "        print(f\"The name is {self.name} and the company name is {self.company}\")\n",
        "\n",
        "\n",
        "    def changeCompany(cls, new_company):\n",
        "        cls.company = new_company\n",
        "\n",
        "e1 = Employee()\n",
        "e1.name = \"Mazid\"\n",
        "e1.show()  # This will print: The name is Mazid and the company name is Apple\n",
        "e1.changeCompany(\"Microsoft\")\n",
        "e1.show()  # This will still print: The name is Mazid and the company name is Microsoft\n",
        "\n",
        "e2 = Employee()\n",
        "e2.name = \"Haris\"\n",
        "e2.show()  # This will print: The name is Haris and the company name is Microsoft\n"
      ],
      "metadata": {
        "colab": {
          "base_uri": "https://localhost:8080/"
        },
        "id": "JPhHQ6QxNwR8",
        "outputId": "67924577-ce06-469e-e9e4-422136021449"
      },
      "execution_count": 9,
      "outputs": [
        {
          "output_type": "stream",
          "name": "stdout",
          "text": [
            "The name is Mazid and the company name is Apple\n",
            "The name is Mazid and the company name is Microsoft\n",
            "The name is Haris and the company name is Apple\n"
          ]
        }
      ]
    },
    {
      "cell_type": "code",
      "source": [
        "class Employee:\n",
        "    company = \"Apple\"\n",
        "\n",
        "    def show(self):\n",
        "        print(f\"The name is {self.name} and the company name is {self.company}\")\n",
        "\n",
        "    @classmethod\n",
        "    def changeCompany(cls, new_company):\n",
        "        cls.company = new_company\n",
        "\n",
        "e1 = Employee()\n",
        "e1.name = \"Mazid\"\n",
        "e1.show()  # This will print: The name is Mazid and the company name is Apple\n",
        "e1.changeCompany(\"Microsoft\")\n",
        "e1.show()  # This will still print: The name is Mazid and the company name is Microsoft\n",
        "\n",
        "e2 = Employee()\n",
        "e2.name = \"Haris\"\n",
        "e2.show()  # This will print: The name is Haris and the company name is Microsoft\n"
      ],
      "metadata": {
        "colab": {
          "base_uri": "https://localhost:8080/"
        },
        "id": "YBPB9gIBN06C",
        "outputId": "d6635460-a649-4636-8e66-20e6eac82c47"
      },
      "execution_count": 10,
      "outputs": [
        {
          "output_type": "stream",
          "name": "stdout",
          "text": [
            "The name is Mazid and the company name is Apple\n",
            "The name is Mazid and the company name is Microsoft\n",
            "The name is Haris and the company name is Microsoft\n"
          ]
        }
      ]
    }
  ]
}