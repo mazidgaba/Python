{
  "nbformat": 4,
  "nbformat_minor": 0,
  "metadata": {
    "colab": {
      "provenance": [],
      "authorship_tag": "ABX9TyOv5u9rxtSIl/0VdL36stmt",
      "include_colab_link": true
    },
    "kernelspec": {
      "name": "python3",
      "display_name": "Python 3"
    },
    "language_info": {
      "name": "python"
    }
  },
  "cells": [
    {
      "cell_type": "markdown",
      "metadata": {
        "id": "view-in-github",
        "colab_type": "text"
      },
      "source": [
        "<a href=\"https://colab.research.google.com/github/mazidgaba/Python/blob/main/Hierarchical_Inheritance.ipynb\" target=\"_parent\"><img src=\"https://colab.research.google.com/assets/colab-badge.svg\" alt=\"Open In Colab\"/></a>"
      ]
    },
    {
      "cell_type": "code",
      "execution_count": null,
      "metadata": {
        "id": "q3KFB0WtW2Ql"
      },
      "outputs": [],
      "source": [
        "class Baseclass:\n",
        "  pass\n",
        "\n",
        "class D1(Baseclass):\n",
        "  pass\n",
        "\n",
        "class D2(Baseclass):\n",
        "  pass\n",
        "\n",
        "class D3(Baseclass):\n",
        "  pass\n"
      ]
    },
    {
      "cell_type": "code",
      "source": [
        "class Animal:\n",
        "    def __init__(self, name):\n",
        "        self.name = name\n",
        "\n",
        "    def make_sound(self):\n",
        "        print(\"The animal makes a sound\")\n",
        "\n",
        "class Dog(Animal):\n",
        "    def make_sound(self):\n",
        "        print(\"The dog barks\")\n",
        "\n",
        "class Cat(Animal):\n",
        "    def make_sound(self):\n",
        "        print(\"The cat meows\")\n",
        "\n",
        "# Instances\n",
        "d = Dog(\"Fido\")\n",
        "d.make_sound()  # Output: The dog barks\n",
        "\n",
        "c = Cat(\"Whiskers\")\n",
        "c.make_sound()  # Output: The cat meows\n"
      ],
      "metadata": {
        "colab": {
          "base_uri": "https://localhost:8080/"
        },
        "id": "SOcTXDwLYH5a",
        "outputId": "e8bc18b4-eaeb-4a8a-bfb2-2b154f2bea20"
      },
      "execution_count": 1,
      "outputs": [
        {
          "output_type": "stream",
          "name": "stdout",
          "text": [
            "The dog barks\n",
            "The cat meows\n"
          ]
        }
      ]
    }
  ]
}