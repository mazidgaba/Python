{
  "nbformat": 4,
  "nbformat_minor": 0,
  "metadata": {
    "colab": {
      "provenance": [],
      "authorship_tag": "ABX9TyPG98wxMytSar1FWEcIPRDP",
      "include_colab_link": true
    },
    "kernelspec": {
      "name": "python3",
      "display_name": "Python 3"
    },
    "language_info": {
      "name": "python"
    }
  },
  "cells": [
    {
      "cell_type": "markdown",
      "metadata": {
        "id": "view-in-github",
        "colab_type": "text"
      },
      "source": [
        "<a href=\"https://colab.research.google.com/github/mazidgaba/Python/blob/main/SuperKeyword.ipynb\" target=\"_parent\"><img src=\"https://colab.research.google.com/assets/colab-badge.svg\" alt=\"Open In Colab\"/></a>"
      ]
    },
    {
      "cell_type": "code",
      "execution_count": 3,
      "metadata": {
        "colab": {
          "base_uri": "https://localhost:8080/"
        },
        "id": "ITBnF7nvs4w7",
        "outputId": "5ec56925-faa9-4892-c40f-8faa12175974"
      },
      "outputs": [
        {
          "output_type": "stream",
          "name": "stdout",
          "text": [
            "Mazid\n",
            "This is Parent Method\n",
            "This is Child Method\n"
          ]
        }
      ],
      "source": [
        "class ParentClass:\n",
        "  def parent_method(self):\n",
        "    print(\"This is Parent Method\")\n",
        "\n",
        "class ChildClass(ParentClass):\n",
        "  def parent_method(self):\n",
        "    print(\"Mazid\")\n",
        "    super().parent_method()\n",
        "  def child_method(self):\n",
        "    print(\"This is Child Method\")\n",
        "\n",
        "obj = ChildClass()\n",
        "obj.parent_method()\n",
        "obj.child_method()"
      ]
    },
    {
      "cell_type": "code",
      "source": [
        "class Employee:\n",
        "  def __init__(self, name, salary):\n",
        "    self.name = name\n",
        "    self.salary = salary\n",
        "\n",
        "\n",
        "class Programmmer:\n",
        "  def __init__(self, name, salary, language):\n",
        "    self.name = name\n",
        "    self.salary = salary\n",
        "    self.language = language\n",
        "\n",
        "\n",
        "Haris = Employee(\"Haris\", 10000)\n",
        "print(Haris.name)\n",
        "print(Haris.salary)\n",
        "\n",
        "Mazid = Programmmer(\"Mazid\", 20000, \"Python\")\n",
        "print(Mazid.name)\n",
        "print(Mazid.salary)\n",
        "print(Mazid.language)"
      ],
      "metadata": {
        "colab": {
          "base_uri": "https://localhost:8080/"
        },
        "id": "QFxbRNnLdXZm",
        "outputId": "1ead2005-2cbd-4802-d7e4-00e63e4786d9"
      },
      "execution_count": 4,
      "outputs": [
        {
          "output_type": "stream",
          "name": "stdout",
          "text": [
            "Haris\n",
            "10000\n",
            "Mazid\n",
            "20000\n",
            "Python\n"
          ]
        }
      ]
    },
    {
      "cell_type": "code",
      "source": [
        "class Employee:\n",
        "  def __init__(self, name, salary):\n",
        "    self.name = name\n",
        "    self.salary = salary\n",
        "\n",
        "\n",
        "class Programmmer(Employee):\n",
        "  def __init__(self, name, salary, language):\n",
        "    super().__init__(name, salary)\n",
        "    self.language = language\n",
        "\n",
        "Haris = Employee(\"Haris\", 10000)\n",
        "print(Haris.name)\n",
        "print(Haris.salary)\n",
        "\n",
        "Mazid = Programmmer(\"Mazid\", 20000, \"Python\")\n",
        "print(Mazid.name)\n",
        "print(Mazid.salary)\n",
        "print(Mazid.language)"
      ],
      "metadata": {
        "colab": {
          "base_uri": "https://localhost:8080/"
        },
        "id": "2Fxw3fwrd-bN",
        "outputId": "4f241f53-0555-4d15-85ac-2d47c886fe8e"
      },
      "execution_count": 8,
      "outputs": [
        {
          "output_type": "stream",
          "name": "stdout",
          "text": [
            "Haris\n",
            "10000\n",
            "Mazid\n",
            "20000\n",
            "Python\n"
          ]
        }
      ]
    }
  ]
}