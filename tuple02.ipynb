{
  "nbformat": 4,
  "nbformat_minor": 0,
  "metadata": {
    "colab": {
      "provenance": [],
      "authorship_tag": "ABX9TyP1ZEg5/u+1msedK5tdmRJL",
      "include_colab_link": true
    },
    "kernelspec": {
      "name": "python3",
      "display_name": "Python 3"
    },
    "language_info": {
      "name": "python"
    }
  },
  "cells": [
    {
      "cell_type": "markdown",
      "metadata": {
        "id": "view-in-github",
        "colab_type": "text"
      },
      "source": [
        "<a href=\"https://colab.research.google.com/github/mazidgaba/Python/blob/main/tuple02.ipynb\" target=\"_parent\"><img src=\"https://colab.research.google.com/assets/colab-badge.svg\" alt=\"Open In Colab\"/></a>"
      ]
    },
    {
      "cell_type": "code",
      "execution_count": 14,
      "metadata": {
        "colab": {
          "base_uri": "https://localhost:8080/"
        },
        "id": "rJE-tN8d_hP1",
        "outputId": "e918a429-35d8-49c6-e654-e3ec3e206be6"
      },
      "outputs": [
        {
          "output_type": "stream",
          "name": "stdout",
          "text": [
            "['mazid', 'rashid', 'nishant', 'asad', 'faiyaz']\n",
            "('mazid', 'rashid', 'nishant', 'asad', 'faiyaz')\n",
            "['mazid', 'rashid', 'nishant', 'asad']\n",
            "['mazid', 'nishant', 'asad']\n"
          ]
        }
      ],
      "source": [
        "friends =(\"mazid\", \"rashid\", \"nishant\", \"asad\")\n",
        "\n",
        "addFriend = list(friends)\n",
        "\n",
        "addFriend.append(\"faiyaz\")\n",
        "\n",
        "print(addFriend)\n",
        "friends = tuple(addFriend)\n",
        "\n",
        "print(friends)\n",
        "\n",
        "addFriend.remove(\"faiyaz\")\n",
        "\n",
        "print(addFriend)\n",
        "\n",
        "addFriend.pop(1)\n",
        "\n",
        "print(addFriend)\n"
      ]
    },
    {
      "cell_type": "code",
      "source": [
        "AMUFriends =(\"mazid\", \"rashid\", \"nishant\", \"asad\", \"mazid\", \"Mazid\", \"mazid\")\n",
        "\n",
        "MANUUFriends = (\"affan\", \"zafar\", \"adeeb\", \"faiyaz\")\n",
        "\n",
        "allFriends = AMUFriends + MANUUFriends\n",
        "\n",
        "print(allFriends)\n",
        "\n",
        "AMUFriends.count(\"mazid\")\n",
        "\n",
        "# MANUUFriends.count(\"zafar\")\n",
        "\n",
        "\n",
        "\n",
        "# MANUUFriends.index(\"zafar\")\n"
      ],
      "metadata": {
        "colab": {
          "base_uri": "https://localhost:8080/"
        },
        "id": "v0AvBsZ_BuXP",
        "outputId": "12f07090-a70b-4931-8608-9c3c49fdd129"
      },
      "execution_count": 30,
      "outputs": [
        {
          "output_type": "stream",
          "name": "stdout",
          "text": [
            "('mazid', 'rashid', 'nishant', 'asad', 'mazid', 'Mazid', 'mazid', 'affan', 'zafar', 'adeeb', 'faiyaz')\n"
          ]
        },
        {
          "output_type": "execute_result",
          "data": {
            "text/plain": [
              "3"
            ]
          },
          "metadata": {},
          "execution_count": 30
        }
      ]
    },
    {
      "cell_type": "code",
      "source": [
        "\n",
        "AMUFriends =(\"mazid\", \"rashid\", \"nishant\", \"asad\", \"mazid\", \"Mazid\", \"mazid\")\n",
        "\n",
        "MANUUFriends = (\"affan\", \"zafar\", \"adeeb\", \"faiyaz\")\n",
        "\n",
        "res = AMUFriends.index(\"mazid\")\n",
        "print(res)  # Output will be 0, because \"mazid\" is the first element in the tuple\n",
        "\n",
        "res = AMUFriends.index(\"Mazid\")\n",
        "print(res)  # Output will be 5, because \"Mazid\" is the sixth element in the tuple\n",
        "\n",
        "res = AMUFriends.index(\"asad\", 2,7)\n",
        "print(res)\n",
        "\n",
        "print(len(AMUFriends))"
      ],
      "metadata": {
        "colab": {
          "base_uri": "https://localhost:8080/"
        },
        "id": "8t1y9sbeDl35",
        "outputId": "23970f1e-1332-4084-f549-8f61f2f736b2"
      },
      "execution_count": 43,
      "outputs": [
        {
          "output_type": "stream",
          "name": "stdout",
          "text": [
            "0\n",
            "5\n",
            "3\n",
            "7\n"
          ]
        }
      ]
    }
  ]
}