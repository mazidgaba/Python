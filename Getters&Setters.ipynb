{
  "nbformat": 4,
  "nbformat_minor": 0,
  "metadata": {
    "colab": {
      "provenance": [],
      "authorship_tag": "ABX9TyMt6iz0j+uDlhNyBg4PnpDz",
      "include_colab_link": true
    },
    "kernelspec": {
      "name": "python3",
      "display_name": "Python 3"
    },
    "language_info": {
      "name": "python"
    }
  },
  "cells": [
    {
      "cell_type": "markdown",
      "metadata": {
        "id": "view-in-github",
        "colab_type": "text"
      },
      "source": [
        "<a href=\"https://colab.research.google.com/github/mazidgaba/Python/blob/main/Getters%26Setters.ipynb\" target=\"_parent\"><img src=\"https://colab.research.google.com/assets/colab-badge.svg\" alt=\"Open In Colab\"/></a>"
      ]
    },
    {
      "cell_type": "code",
      "execution_count": 9,
      "metadata": {
        "colab": {
          "base_uri": "https://localhost:8080/"
        },
        "id": "Y9BhKVIOvIKB",
        "outputId": "8849713e-fd01-426b-d8f0-64dac8951a99"
      },
      "outputs": [
        {
          "output_type": "stream",
          "name": "stdout",
          "text": [
            "10\n",
            "10\n"
          ]
        }
      ],
      "source": [
        "class MyClass:\n",
        "    def __init__(self, value):\n",
        "      self._value = value\n",
        "\n",
        "    def show(self):\n",
        "      print(f\"{self._value}\")\n",
        "\n",
        "    @property\n",
        "    def value(self):\n",
        "      return self._value\n",
        "\n",
        "obj = MyClass(10)\n",
        "obj.show()\n",
        "print(obj.value)"
      ]
    },
    {
      "cell_type": "code",
      "source": [
        "class MyClass:\n",
        "    def __init__(self, value):\n",
        "        self._value = value\n",
        "\n",
        "    def show(self):\n",
        "        print(f\"Value is {self._value}\")\n",
        "\n",
        "    @property\n",
        "    def value(self):\n",
        "        return self._value\n",
        "\n",
        "obj = MyClass(10)\n",
        "obj.show()\n",
        "print(obj.value)\n",
        "\n"
      ],
      "metadata": {
        "colab": {
          "base_uri": "https://localhost:8080/"
        },
        "id": "J8oY9LUb3J99",
        "outputId": "5fc30775-7287-4c98-f718-411ae8044d57"
      },
      "execution_count": 11,
      "outputs": [
        {
          "output_type": "stream",
          "name": "stdout",
          "text": [
            "Value is 10\n",
            "10\n"
          ]
        }
      ]
    },
    {
      "cell_type": "code",
      "source": [
        "class MyClass:\n",
        "    def __init__(self, value):\n",
        "        self._value = value\n",
        "\n",
        "    def show(self):\n",
        "        print(f\"Value is {self._value}\")\n",
        "\n",
        "    @property\n",
        "    def ten_value(self):\n",
        "        return 10 * self._value\n",
        "\n",
        "    @ten_value.setter\n",
        "    def ten_value(self, new_value):\n",
        "        self._value = new_value / 10\n",
        "\n",
        "    @property\n",
        "    def value(self):\n",
        "        return self._value\n",
        "\n",
        "obj = MyClass(10)\n",
        "obj.ten_value = 99\n",
        "obj.show()\n",
        "print(obj.value)\n"
      ],
      "metadata": {
        "colab": {
          "base_uri": "https://localhost:8080/"
        },
        "id": "hJRgnnMC35hE",
        "outputId": "e7e4c4a7-3def-4661-c47b-f2d3d6078e25"
      },
      "execution_count": 23,
      "outputs": [
        {
          "output_type": "stream",
          "name": "stdout",
          "text": [
            "Value is 9.9\n",
            "9.9\n"
          ]
        }
      ]
    }
  ]
}