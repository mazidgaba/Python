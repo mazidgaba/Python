{
  "nbformat": 4,
  "nbformat_minor": 0,
  "metadata": {
    "colab": {
      "provenance": [],
      "authorship_tag": "ABX9TyMt9HjTk0SsCYTmY/rkoJ8h",
      "include_colab_link": true
    },
    "kernelspec": {
      "name": "python3",
      "display_name": "Python 3"
    },
    "language_info": {
      "name": "python"
    }
  },
  "cells": [
    {
      "cell_type": "markdown",
      "metadata": {
        "id": "view-in-github",
        "colab_type": "text"
      },
      "source": [
        "<a href=\"https://colab.research.google.com/github/mazidgaba/Python/blob/main/Class%26Object.ipynb\" target=\"_parent\"><img src=\"https://colab.research.google.com/assets/colab-badge.svg\" alt=\"Open In Colab\"/></a>"
      ]
    },
    {
      "cell_type": "code",
      "execution_count": 8,
      "metadata": {
        "colab": {
          "base_uri": "https://localhost:8080/"
        },
        "id": "EBGtxAVLMfpZ",
        "outputId": "e009ad3a-118a-457d-84b9-218b4edb0416"
      },
      "outputs": [
        {
          "output_type": "stream",
          "name": "stdout",
          "text": [
            "Mazid\n",
            "Data Scientist\n",
            "1000000\n",
            "Haris\n",
            "Data Analyst\n",
            "1500000\n"
          ]
        }
      ],
      "source": [
        "class Person:\n",
        "  name = \"Mazid\"\n",
        "  Profession= \"Data Scientist\"\n",
        "  Revenue= 1000000\n",
        "  # def info(self):\n",
        "  #   print(f\"{self.name} is a {self.professsion}\")\n",
        "\n",
        "a = Person()\n",
        "print(a.name)\n",
        "print(a.Profession)\n",
        "print(a.Revenue)\n",
        "# a.info()\n",
        "\n",
        "a.name = \"Haris\"\n",
        "a.Profession = \"Data Analyst\"\n",
        "a.Revenue = 1500000\n",
        "print(a.name)\n",
        "print(a.Profession)\n",
        "print(a.Revenue)\n",
        "# a.info()"
      ]
    },
    {
      "cell_type": "code",
      "source": [
        "class Person:\n",
        "  name = \"Mazid\"\n",
        "  Profession= \"Data Scientist\"\n",
        "  Revenue= 1000000\n",
        "  # def info(self):\n",
        "  #   print(f\"{self.name} is a {self.professsion}\")\n",
        "\n",
        "\n",
        "a.name = \"Haris\"\n",
        "a.Profession = \"Data Analyst\"\n",
        "a.Revenue = 1500000\n",
        "print(a.name, a.Profession, a.Revenue)\n"
      ],
      "metadata": {
        "colab": {
          "base_uri": "https://localhost:8080/"
        },
        "id": "PIfSgQBYOpjU",
        "outputId": "7568f92e-0a3d-4f8a-d15c-4075c4b6aa0a"
      },
      "execution_count": 10,
      "outputs": [
        {
          "output_type": "stream",
          "name": "stdout",
          "text": [
            "Haris Data Analyst 1500000\n"
          ]
        }
      ]
    },
    {
      "cell_type": "code",
      "source": [
        "class Person:\n",
        "  name = \"Mazid\"\n",
        "  Profession= \"Data Scientist\"\n",
        "  Revenue= 1000000\n",
        "  def info(self):\n",
        "    print(f\"{self.name} is a {self.Profession}\")\n",
        "\n",
        "\n",
        "a= Person()\n",
        "# a.name = \"Haris\"\n",
        "# a.Profession = \"Data Analyst\"\n",
        "# a.Revenue = 1500000\n",
        "# print(a.name, a.Profession, a.Revenue)\n",
        "a.info()\n"
      ],
      "metadata": {
        "colab": {
          "base_uri": "https://localhost:8080/"
        },
        "id": "LeWCZVAsPDIN",
        "outputId": "7440ada7-97b1-4484-b031-d95e9ab0bec1"
      },
      "execution_count": 13,
      "outputs": [
        {
          "output_type": "stream",
          "name": "stdout",
          "text": [
            "Mazid is a Data Scientist\n"
          ]
        }
      ]
    },
    {
      "cell_type": "code",
      "source": [
        "class Person:\n",
        "  name = \"Mazid\"\n",
        "  Profession= \"Data Scientist\"\n",
        "  Revenue= 1000000\n",
        "  def info(self):\n",
        "    print(f\"{self.name} is a {self.Profession}\")\n",
        "\n",
        "\n",
        "a= Person()\n",
        "a.name = \"Haris\"\n",
        "a.Profession = \"Data Analyst\"\n",
        "a.Revenue = 1500000\n",
        "# print(a.name, a.Profession, a.Revenue)\n",
        "a.info()\n",
        "\n",
        "b= Person()\n",
        "b.name = \"Ali\"\n",
        "b.Profession = \"Data Analyst\"\n",
        "b.Revenue = 1500000\n",
        "# print(b.name, b.Profession, b.Revenue)\n",
        "b.info()\n",
        "\n",
        "c = Person()\n",
        "# c.name = \"Asif\"\n",
        "# c.Profession = \"Data Analyst\"\n",
        "# c.Revenue = 1500000\n",
        "# # print(c.name, c.Profession, c.Revenue)\n",
        "c.info()\n"
      ],
      "metadata": {
        "colab": {
          "base_uri": "https://localhost:8080/"
        },
        "id": "qNZPRBPCQZ7y",
        "outputId": "4e1017d4-cd2d-40e4-c1f0-9752029d40c0"
      },
      "execution_count": 16,
      "outputs": [
        {
          "output_type": "stream",
          "name": "stdout",
          "text": [
            "Haris is a Data Analyst\n",
            "Ali is a Data Analyst\n",
            "Mazid is a Data Scientist\n"
          ]
        }
      ]
    }
  ]
}