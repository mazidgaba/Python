{
  "nbformat": 4,
  "nbformat_minor": 0,
  "metadata": {
    "colab": {
      "provenance": [],
      "authorship_tag": "ABX9TyOr3Mt8w0lQgHbHM0Hw1QnP",
      "include_colab_link": true
    },
    "kernelspec": {
      "name": "python3",
      "display_name": "Python 3"
    },
    "language_info": {
      "name": "python"
    }
  },
  "cells": [
    {
      "cell_type": "markdown",
      "metadata": {
        "id": "view-in-github",
        "colab_type": "text"
      },
      "source": [
        "<a href=\"https://colab.research.google.com/github/mazidgaba/Python/blob/main/Decorators.ipynb\" target=\"_parent\"><img src=\"https://colab.research.google.com/assets/colab-badge.svg\" alt=\"Open In Colab\"/></a>"
      ]
    },
    {
      "cell_type": "code",
      "execution_count": 19,
      "metadata": {
        "colab": {
          "base_uri": "https://localhost:8080/",
          "height": 0
        },
        "id": "wjzRSGigj7ce",
        "outputId": "61a3d874-0b77-47f4-d2de-28d8fe9897a4"
      },
      "outputs": [
        {
          "output_type": "stream",
          "name": "stdout",
          "text": [
            "Good Morning\n",
            "Hello\n",
            "Thanks for Using This Function\n"
          ]
        }
      ],
      "source": [
        "def greet(fx):\n",
        "    def mfx():\n",
        "        print(\"Good Morning\")\n",
        "        fx()\n",
        "        print(\"Thanks for Using This Function\")\n",
        "    return mfx\n",
        "\n",
        "@greet\n",
        "def hello():\n",
        "    print(\"Hello\")\n",
        "\n",
        "def add(a, b):\n",
        "    return a + b\n",
        "\n",
        "hello()\n"
      ]
    },
    {
      "cell_type": "code",
      "source": [
        "def greet(fx):\n",
        "    def mfx():\n",
        "        print(\"Good Morning\")\n",
        "        fx()\n",
        "        print(\"Thanks for Using This Function\")\n",
        "    return mfx\n",
        "\n",
        "# @greet\n",
        "def hello():\n",
        "    print(\"Hello\")\n",
        "\n",
        "def add(a, b):\n",
        "    return a + b\n",
        "\n",
        "greet(hello)()\n"
      ],
      "metadata": {
        "colab": {
          "base_uri": "https://localhost:8080/",
          "height": 0
        },
        "id": "V-zI65xipcUn",
        "outputId": "2745fd06-a10e-4dc9-de36-4e90e7793d3d"
      },
      "execution_count": 20,
      "outputs": [
        {
          "output_type": "stream",
          "name": "stdout",
          "text": [
            "Good Morning\n",
            "Hello\n",
            "Thanks for Using This Function\n"
          ]
        }
      ]
    },
    {
      "cell_type": "code",
      "source": [
        "def greet(fx):\n",
        "    def mfx(*args, **kwargs):\n",
        "        print(\"Good Morning\")\n",
        "        fx(*args, **kwargs)\n",
        "        print(\"Thanks for Using This Function\")\n",
        "    return mfx\n",
        "\n",
        "@greet\n",
        "def hello():\n",
        "    print(\"Hello\")\n",
        "\n",
        "def add(a, b):\n",
        "    return a + b\n",
        "\n",
        "hello()\n",
        "greet(add)(1,2)\n"
      ],
      "metadata": {
        "colab": {
          "base_uri": "https://localhost:8080/"
        },
        "id": "GfKSmS7uqK_W",
        "outputId": "1d0b3410-d86d-43b8-edc0-05fe5bba8e30"
      },
      "execution_count": 30,
      "outputs": [
        {
          "output_type": "stream",
          "name": "stdout",
          "text": [
            "Good Morning\n",
            "Hello\n",
            "Thanks for Using This Function\n",
            "Good Morning\n",
            "Thanks for Using This Function\n"
          ]
        }
      ]
    }
  ]
}