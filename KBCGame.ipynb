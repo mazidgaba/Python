{
  "nbformat": 4,
  "nbformat_minor": 0,
  "metadata": {
    "colab": {
      "provenance": [],
      "authorship_tag": "ABX9TyOdhrCRzwymiWbrK0iOS/tf",
      "include_colab_link": true
    },
    "kernelspec": {
      "name": "python3",
      "display_name": "Python 3"
    },
    "language_info": {
      "name": "python"
    }
  },
  "cells": [
    {
      "cell_type": "markdown",
      "metadata": {
        "id": "view-in-github",
        "colab_type": "text"
      },
      "source": [
        "<a href=\"https://colab.research.google.com/github/mazidgaba/Python/blob/main/KBCGame.ipynb\" target=\"_parent\"><img src=\"https://colab.research.google.com/assets/colab-badge.svg\" alt=\"Open In Colab\"/></a>"
      ]
    },
    {
      "cell_type": "code",
      "execution_count": 11,
      "metadata": {
        "colab": {
          "base_uri": "https://localhost:8080/"
        },
        "id": "O13PJvD2O4Te",
        "outputId": "4cf577da-c476-41ce-dc86-a182ec908326"
      },
      "outputs": [
        {
          "output_type": "stream",
          "name": "stdout",
          "text": [
            "['Current Railway Minister of India is']Ashwini Vaishnaw\n",
            "Ashwini Vaishnaw\n",
            "Correct you won 50000\n",
            "['Which god is also known as ‘Gauri Nandan’?']ganesha\n",
            "ganesha\n",
            "Correct you won 150000\n",
            "['What does not grow on tree according to a popular Hindi saying?']money\n",
            "money\n",
            "Correct you won 200000\n",
            "['What is the capital of India?']delhi\n",
            "delhi\n",
            "Correct you won 50000000\n"
          ]
        }
      ],
      "source": [
        "Q1 =[\"Current Railway Minister of India is\"]\n",
        "Q2 =[\"Which god is also known as ‘Gauri Nandan’?\"]\n",
        "\n",
        "Q3 =[\"What does not grow on tree according to a popular Hindi saying?\"]\n",
        "\n",
        "Q4= [\"What is the capital of India?\"]\n",
        "\n",
        "A1= [\"Money\",\"Delhi\", \"Ganesha\", \"Ashwini Vaishnaw\"]\n",
        "\n",
        "input1= input(list(Q1))\n",
        "print(input1)\n",
        "if input1 in A1:\n",
        "    print(\"Correct you won 50000\")\n",
        "    print(input(Q2))\n",
        "    input2 =(list(A1))\n",
        "    print(\"Correct you won 150000\")\n",
        "    print(input(Q3))\n",
        "    input2 =(list(A1))\n",
        "    print(\"Correct you won 200000\")\n",
        "    print(input(Q4))\n",
        "    input2 =(list(A1))\n",
        "    print(\"Correct you won 50000000\")\n",
        "\n",
        "else:\n",
        "    print(\"Incorrect youre out of game\")\n"
      ]
    }
  ]
}