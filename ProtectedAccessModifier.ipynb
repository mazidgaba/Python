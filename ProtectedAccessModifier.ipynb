{
  "nbformat": 4,
  "nbformat_minor": 0,
  "metadata": {
    "colab": {
      "provenance": [],
      "authorship_tag": "ABX9TyPaootyyD80MK3qGtGwLMDa",
      "include_colab_link": true
    },
    "kernelspec": {
      "name": "python3",
      "display_name": "Python 3"
    },
    "language_info": {
      "name": "python"
    }
  },
  "cells": [
    {
      "cell_type": "markdown",
      "metadata": {
        "id": "view-in-github",
        "colab_type": "text"
      },
      "source": [
        "<a href=\"https://colab.research.google.com/github/mazidgaba/Python/blob/main/ProtectedAccessModifier.ipynb\" target=\"_parent\"><img src=\"https://colab.research.google.com/assets/colab-badge.svg\" alt=\"Open In Colab\"/></a>"
      ]
    },
    {
      "cell_type": "code",
      "execution_count": 6,
      "metadata": {
        "colab": {
          "base_uri": "https://localhost:8080/"
        },
        "id": "cidGPlB2e2PW",
        "outputId": "1bde79ea-8e15-4f3f-b645-96f1da908ab4"
      },
      "outputs": [
        {
          "output_type": "stream",
          "name": "stdout",
          "text": [
            "Mazid\n",
            "Mazid Gaba is Student of JNU\n",
            "Mazid\n",
            "Mazid Gaba is Student of JNU\n"
          ]
        }
      ],
      "source": [
        "class Student:\n",
        "    def __init__(self):\n",
        "        self.name = \"Mazid\"\n",
        "\n",
        "    def _funName(self): #protected Method\n",
        "        return \"Mazid Gaba is Student of JNU\"\n",
        "\n",
        "class Subject(Student): # inherited class\n",
        "  pass\n",
        "\n",
        "obj = Student()\n",
        "obj1 =Student()\n",
        "\n",
        "#calling by object student class\n",
        "\n",
        "print(obj.name)\n",
        "print(obj._funName())\n",
        "\n",
        "#Calling the object of Subject Class\n",
        "\n",
        "print(obj1.name)\n",
        "print(obj1._funName())"
      ]
    }
  ]
}