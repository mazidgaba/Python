{
  "nbformat": 4,
  "nbformat_minor": 0,
  "metadata": {
    "colab": {
      "provenance": [],
      "authorship_tag": "ABX9TyOcHHvW+tDbLxru/gaOnyam",
      "include_colab_link": true
    },
    "kernelspec": {
      "name": "python3",
      "display_name": "Python 3"
    },
    "language_info": {
      "name": "python"
    }
  },
  "cells": [
    {
      "cell_type": "markdown",
      "metadata": {
        "id": "view-in-github",
        "colab_type": "text"
      },
      "source": [
        "<a href=\"https://colab.research.google.com/github/mazidgaba/Python/blob/main/MultiThreading.ipynb\" target=\"_parent\"><img src=\"https://colab.research.google.com/assets/colab-badge.svg\" alt=\"Open In Colab\"/></a>"
      ]
    },
    {
      "cell_type": "code",
      "execution_count": 7,
      "metadata": {
        "id": "6qh-FvUfbpse",
        "colab": {
          "base_uri": "https://localhost:8080/"
        },
        "outputId": "9a299b64-5243-417c-ef4a-e762c13d65b6"
      },
      "outputs": [
        {
          "output_type": "stream",
          "name": "stdout",
          "text": [
            "Sleeping for 4 seconds\n",
            "Sleeping for 2 seconds\n",
            "Sleeping for 3 seconds\n",
            "Finished in 9.010702669000011 seconds\n"
          ]
        }
      ],
      "source": [
        "import threading\n",
        "import time\n",
        "\n",
        "def func(seconds):\n",
        "  print(f\"Sleeping for {seconds} seconds\")\n",
        "  time.sleep(seconds)\n",
        "time1 = time.perf_counter()\n",
        "func(4)\n",
        "func(2)\n",
        "func(3)\n",
        "time2 = time.perf_counter()\n",
        "\n",
        "print(f\"Finished in {time2-time1} seconds\")"
      ]
    },
    {
      "cell_type": "code",
      "source": [
        "import threading\n",
        "import time\n",
        "\n",
        "def func(seconds):\n",
        "  print(f\"Sleeping for {seconds} seconds\\n\")\n",
        "  time.sleep(seconds)\n",
        "\n",
        "time1 = time.perf_counter()\n",
        "threading.Thread(target=func, args=[4]).start()\n",
        "threading.Thread(target=func, args=[2]).start()\n",
        "threading.Thread(target=func, args=[3]).start()\n",
        "time2 = time.perf_counter()\n",
        "\n",
        "print(f\"Finished in {time2-time1} seconds\")"
      ],
      "metadata": {
        "colab": {
          "base_uri": "https://localhost:8080/"
        },
        "id": "U-MWaENTqUkB",
        "outputId": "903fa92c-a6b1-45ab-ceb3-912197caaf82"
      },
      "execution_count": 6,
      "outputs": [
        {
          "output_type": "stream",
          "name": "stdout",
          "text": [
            "Sleeping for 4 seconds\n",
            "\n",
            "Sleeping for 2 seconds\n",
            "\n",
            "Sleeping for 3 seconds\n",
            "Finished in 0.005016555999986849 seconds\n",
            "\n"
          ]
        }
      ]
    },
    {
      "cell_type": "code",
      "source": [
        "import threading\n",
        "import time\n",
        "\n",
        "def func(seconds):\n",
        "    print(f\"Sleeping for {seconds} seconds\\n\")\n",
        "    time.sleep(seconds)\n",
        "\n",
        "time1 = time.perf_counter()\n",
        "\n",
        "t1 = threading.Thread(target=func, args=[4])\n",
        "t2 = threading.Thread(target=func, args=[2])\n",
        "t3 = threading.Thread(target=func, args=[3])\n",
        "\n",
        "t1.start()\n",
        "t2.start()\n",
        "t3.start()\n",
        "\n",
        "t1.join()\n",
        "t2.join()\n",
        "t3.join()\n",
        "\n",
        "time2 = time.perf_counter()\n",
        "print(f\"Finished in {time2-time1} seconds\")\n"
      ],
      "metadata": {
        "colab": {
          "base_uri": "https://localhost:8080/"
        },
        "id": "ullLNtsrrRJX",
        "outputId": "bc1d3b10-fc69-4578-d9aa-9bcb7260899b"
      },
      "execution_count": 13,
      "outputs": [
        {
          "output_type": "stream",
          "name": "stdout",
          "text": [
            "Sleeping for 4 seconds\n",
            "\n",
            "Sleeping for 2 seconds\n",
            "Sleeping for 3 seconds\n",
            "\n",
            "\n",
            "Finished in 4.0085174910000205 seconds\n"
          ]
        }
      ]
    },
    {
      "cell_type": "code",
      "source": [
        "import threading\n",
        "import time\n",
        "from concurrent.futures import ThreadPoolExecutor\n",
        "\n",
        "def func(seconds):\n",
        "    print(f\"Sleeping for {seconds} seconds\\n\")\n",
        "    time.sleep(seconds)\n",
        "def main():\n",
        "  time1 = time.perf_counter()\n",
        "\n",
        "  t1 = threading.Thread(target=func, args=[4])\n",
        "  t2 = threading.Thread(target=func, args=[2])\n",
        "  t3 = threading.Thread(target=func, args=[3])\n",
        "\n",
        "  t1.start()\n",
        "  t2.start()\n",
        "  t3.start()\n",
        "\n",
        "  t1.join()\n",
        "  t2.join()\n",
        "  t3.join()\n",
        "\n",
        "  time2 = time.perf_counter()\n",
        "  print(f\"Finished in {time2-time1} seconds\")\n",
        "\n",
        "def PoolingDemo():\n",
        "  with ThreadPoolExecutor as executor:\n",
        "    future = executor.submit(func, 4)\n",
        "    print(future.result())\n",
        "    future = executor.submit(func, 2)\n",
        "    print(future.result())\n",
        "    future = executor.submit(func, 3)\n",
        "    print(future.result())\n",
        "PoolingDemo()"
      ],
      "metadata": {
        "colab": {
          "base_uri": "https://localhost:8080/",
          "height": 297
        },
        "id": "mGoZb809sbz9",
        "outputId": "9f39022b-da82-454d-b4a3-f39f68d70220"
      },
      "execution_count": 15,
      "outputs": [
        {
          "output_type": "error",
          "ename": "AttributeError",
          "evalue": "__enter__",
          "traceback": [
            "\u001b[0;31m---------------------------------------------------------------------------\u001b[0m",
            "\u001b[0;31mAttributeError\u001b[0m                            Traceback (most recent call last)",
            "\u001b[0;32m<ipython-input-15-683b764e44bf>\u001b[0m in \u001b[0;36m<cell line: 34>\u001b[0;34m()\u001b[0m\n\u001b[1;32m     32\u001b[0m     \u001b[0mfuture\u001b[0m \u001b[0;34m=\u001b[0m \u001b[0mexecutor\u001b[0m\u001b[0;34m.\u001b[0m\u001b[0msubmit\u001b[0m\u001b[0;34m(\u001b[0m\u001b[0mfunc\u001b[0m\u001b[0;34m,\u001b[0m \u001b[0;36m3\u001b[0m\u001b[0;34m)\u001b[0m\u001b[0;34m\u001b[0m\u001b[0;34m\u001b[0m\u001b[0m\n\u001b[1;32m     33\u001b[0m     \u001b[0mprint\u001b[0m\u001b[0;34m(\u001b[0m\u001b[0mfuture\u001b[0m\u001b[0;34m.\u001b[0m\u001b[0mresult\u001b[0m\u001b[0;34m(\u001b[0m\u001b[0;34m)\u001b[0m\u001b[0;34m)\u001b[0m\u001b[0;34m\u001b[0m\u001b[0;34m\u001b[0m\u001b[0m\n\u001b[0;32m---> 34\u001b[0;31m \u001b[0mPoolingDemo\u001b[0m\u001b[0;34m(\u001b[0m\u001b[0;34m)\u001b[0m\u001b[0;34m\u001b[0m\u001b[0;34m\u001b[0m\u001b[0m\n\u001b[0m",
            "\u001b[0;32m<ipython-input-15-683b764e44bf>\u001b[0m in \u001b[0;36mPoolingDemo\u001b[0;34m()\u001b[0m\n\u001b[1;32m     25\u001b[0m \u001b[0;34m\u001b[0m\u001b[0m\n\u001b[1;32m     26\u001b[0m \u001b[0;32mdef\u001b[0m \u001b[0mPoolingDemo\u001b[0m\u001b[0;34m(\u001b[0m\u001b[0;34m)\u001b[0m\u001b[0;34m:\u001b[0m\u001b[0;34m\u001b[0m\u001b[0;34m\u001b[0m\u001b[0m\n\u001b[0;32m---> 27\u001b[0;31m   \u001b[0;32mwith\u001b[0m \u001b[0mThreadPoolExecutor\u001b[0m \u001b[0;32mas\u001b[0m \u001b[0mexecutor\u001b[0m\u001b[0;34m:\u001b[0m\u001b[0;34m\u001b[0m\u001b[0;34m\u001b[0m\u001b[0m\n\u001b[0m\u001b[1;32m     28\u001b[0m     \u001b[0mfuture\u001b[0m \u001b[0;34m=\u001b[0m \u001b[0mexecutor\u001b[0m\u001b[0;34m.\u001b[0m\u001b[0msubmit\u001b[0m\u001b[0;34m(\u001b[0m\u001b[0mfunc\u001b[0m\u001b[0;34m,\u001b[0m \u001b[0;36m4\u001b[0m\u001b[0;34m)\u001b[0m\u001b[0;34m\u001b[0m\u001b[0;34m\u001b[0m\u001b[0m\n\u001b[1;32m     29\u001b[0m     \u001b[0mprint\u001b[0m\u001b[0;34m(\u001b[0m\u001b[0mfuture\u001b[0m\u001b[0;34m.\u001b[0m\u001b[0mresult\u001b[0m\u001b[0;34m(\u001b[0m\u001b[0;34m)\u001b[0m\u001b[0;34m)\u001b[0m\u001b[0;34m\u001b[0m\u001b[0;34m\u001b[0m\u001b[0m\n",
            "\u001b[0;31mAttributeError\u001b[0m: __enter__"
          ]
        }
      ]
    },
    {
      "cell_type": "code",
      "source": [
        "import threading\n",
        "import time\n",
        "from concurrent.futures import ThreadPoolExecutor\n",
        "\n",
        "def func(seconds):\n",
        "    print(f\"Sleeping for {seconds} seconds\\n\")\n",
        "    time.sleep(seconds)\n",
        "\n",
        "def main():\n",
        "    time1 = time.perf_counter()\n",
        "\n",
        "    t1 = threading.Thread(target=func, args=[4])\n",
        "    t2 = threading.Thread(target=func, args=[2])\n",
        "    t3 = threading.Thread(target=func, args=[3])\n",
        "\n",
        "    t1.start()\n",
        "    t2.start()\n",
        "    t3.start()\n",
        "\n",
        "    t1.join()\n",
        "    t2.join()\n",
        "    t3.join()\n",
        "\n",
        "    time2 = time.perf_counter()\n",
        "    print(f\"Finished in {time2-time1} seconds\")\n",
        "\n",
        "def PoolingDemo():\n",
        "    with ThreadPoolExecutor() as executor:\n",
        "        futures = [\n",
        "            executor.submit(func, 4),\n",
        "            executor.submit(func, 2),\n",
        "            executor.submit(func, 3)\n",
        "        ]\n",
        "        for future in futures:\n",
        "            future.result()  # Wait for each future to complete\n",
        "\n",
        "PoolingDemo()\n"
      ],
      "metadata": {
        "colab": {
          "base_uri": "https://localhost:8080/"
        },
        "id": "LXwDCpaut_hG",
        "outputId": "36963b5d-4ebb-4622-bca9-e8e79992c61f"
      },
      "execution_count": 16,
      "outputs": [
        {
          "output_type": "stream",
          "name": "stdout",
          "text": [
            "Sleeping for 4 seconds\n",
            "\n",
            "Sleeping for 2 seconds\n",
            "\n",
            "Sleeping for 3 seconds\n",
            "\n"
          ]
        }
      ]
    },
    {
      "cell_type": "code",
      "source": [
        "import threading\n",
        "import time\n",
        "from concurrent.futures import ThreadPoolExecutor\n",
        "\n",
        "def func(seconds):\n",
        "    print(f\"Sleeping for {seconds} seconds\\n\")\n",
        "    time.sleep(seconds)\n",
        "\n",
        "def main():\n",
        "    time1 = time.perf_counter()\n",
        "\n",
        "    t1 = threading.Thread(target=func, args=[4])\n",
        "    t2 = threading.Thread(target=func, args=[2])\n",
        "    t3 = threading.Thread(target=func, args=[3])\n",
        "\n",
        "    t1.start()\n",
        "    t2.start()\n",
        "    t3.start()\n",
        "\n",
        "    t1.join()\n",
        "    t2.join()\n",
        "    t3.join()\n",
        "\n",
        "    time2 = time.perf_counter()\n",
        "    print(f\"Finished in {time2-time1} seconds\")\n",
        "\n",
        "def PoolingDemo():\n",
        "    with ThreadPoolExecutor() as executor:\n",
        "      l = [5, 4, 2]\n",
        "      results = executor.map(func, l)\n",
        "      for result in results:\n",
        "          print(result)  # Wait for each future to complete\n",
        "\n",
        "PoolingDemo()\n"
      ],
      "metadata": {
        "colab": {
          "base_uri": "https://localhost:8080/"
        },
        "id": "IqL8ZxtpuRNs",
        "outputId": "900d9eff-27cb-4b76-8560-7a5deacf4275"
      },
      "execution_count": 19,
      "outputs": [
        {
          "output_type": "stream",
          "name": "stdout",
          "text": [
            "Sleeping for 5 seconds\n",
            "\n",
            "Sleeping for 4 seconds\n",
            "\n",
            "Sleeping for 2 seconds\n",
            "\n",
            "None\n",
            "None\n",
            "None\n"
          ]
        }
      ]
    }
  ]
}