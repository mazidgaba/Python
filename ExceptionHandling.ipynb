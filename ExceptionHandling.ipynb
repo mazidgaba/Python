{
  "nbformat": 4,
  "nbformat_minor": 0,
  "metadata": {
    "colab": {
      "provenance": [],
      "authorship_tag": "ABX9TyN/ONEjbkSJQ4K/dostXIuv",
      "include_colab_link": true
    },
    "kernelspec": {
      "name": "python3",
      "display_name": "Python 3"
    },
    "language_info": {
      "name": "python"
    }
  },
  "cells": [
    {
      "cell_type": "markdown",
      "metadata": {
        "id": "view-in-github",
        "colab_type": "text"
      },
      "source": [
        "<a href=\"https://colab.research.google.com/github/mazidgaba/Python/blob/main/ExceptionHandling.ipynb\" target=\"_parent\"><img src=\"https://colab.research.google.com/assets/colab-badge.svg\" alt=\"Open In Colab\"/></a>"
      ]
    },
    {
      "cell_type": "code",
      "source": [
        "a = input(\"Enter the Number: \")\n",
        "print(\"Multiplication table of {} is\".format(a))\n",
        "\n",
        "# Convert 'a' to integer\n",
        "a = int(a)\n",
        "\n",
        "for i in range(1, 11):\n",
        "    print(a, \"x\", i, \"=\", a * i)\n",
        "\n",
        "\n",
        "print(\"Table printed\")\n",
        "print(\"code Ended\")"
      ],
      "metadata": {
        "colab": {
          "base_uri": "https://localhost:8080/"
        },
        "id": "peFVtouQ8x_5",
        "outputId": "e37c482f-4487-494c-a9a2-9d18be63addd"
      },
      "execution_count": null,
      "outputs": [
        {
          "output_type": "stream",
          "name": "stdout",
          "text": [
            "Enter the Number: 2\n",
            "Multiplication table of 2 is\n",
            "2 x 1 = 2\n",
            "2 x 2 = 4\n",
            "2 x 3 = 6\n",
            "2 x 4 = 8\n",
            "2 x 5 = 10\n",
            "2 x 6 = 12\n",
            "2 x 7 = 14\n",
            "2 x 8 = 16\n",
            "2 x 9 = 18\n",
            "2 x 10 = 20\n",
            "Table printed\n",
            "code Ended\n"
          ]
        }
      ]
    },
    {
      "cell_type": "code",
      "source": [
        "a = input(\"Enter the Number: \")\n",
        "\n",
        "try:\n",
        "    a = int(a)  # Convert 'a' to integer\n",
        "\n",
        "    print(\"Multiplication table of {} is\".format(a))\n",
        "    for i in range(1, 11):\n",
        "        print(a, \"x\", i, \"=\", a * i)\n",
        "\n",
        "except ValueError:\n",
        "    print(\"Input given is incorrect. Please enter a valid integer.\")\n",
        "\n",
        "print(\"Table printed\")\n",
        "print(\"Code ended\")\n"
      ],
      "metadata": {
        "colab": {
          "base_uri": "https://localhost:8080/"
        },
        "id": "P9ZVgNdS-uyh",
        "outputId": "36e41a41-05d1-4395-91bd-d0b1a74293f9"
      },
      "execution_count": null,
      "outputs": [
        {
          "output_type": "stream",
          "name": "stdout",
          "text": [
            "Enter the Number: mazis\n",
            "Input given is incorrect. Please enter a valid integer.\n",
            "Table printed\n",
            "Code ended\n"
          ]
        }
      ]
    },
    {
      "cell_type": "code",
      "source": [
        "try:\n",
        "  num = int(input(\"Enter a number: \"))\n",
        "  result = 1 / num\n",
        "  print(\"Result:\", result)\n",
        "except ValueError:\n",
        "  print(\"Invalid input. Please enter a valid number.\")\n",
        "except ZeroDivisionError:\n",
        "  print(\"Cannot divide by zero.\")"
      ],
      "metadata": {
        "colab": {
          "base_uri": "https://localhost:8080/"
        },
        "id": "KiPqcpHJ_UAg",
        "outputId": "cad07a5d-802d-492a-aab0-2bc2ae8edfc0"
      },
      "execution_count": null,
      "outputs": [
        {
          "output_type": "stream",
          "name": "stdout",
          "text": [
            "Enter a number: 0\n",
            "Cannot divide by zero.\n"
          ]
        }
      ]
    }
  ]
}