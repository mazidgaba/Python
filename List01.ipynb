{
  "nbformat": 4,
  "nbformat_minor": 0,
  "metadata": {
    "colab": {
      "provenance": [],
      "authorship_tag": "ABX9TyM1Vr0p+NtSfkDeWjIpXGYJ",
      "include_colab_link": true
    },
    "kernelspec": {
      "name": "python3",
      "display_name": "Python 3"
    },
    "language_info": {
      "name": "python"
    }
  },
  "cells": [
    {
      "cell_type": "markdown",
      "metadata": {
        "id": "view-in-github",
        "colab_type": "text"
      },
      "source": [
        "<a href=\"https://colab.research.google.com/github/mazidgaba/Python/blob/main/List01.ipynb\" target=\"_parent\"><img src=\"https://colab.research.google.com/assets/colab-badge.svg\" alt=\"Open In Colab\"/></a>"
      ]
    },
    {
      "cell_type": "code",
      "execution_count": 27,
      "metadata": {
        "colab": {
          "base_uri": "https://localhost:8080/"
        },
        "id": "swl19boMWXOK",
        "outputId": "37355060-7a6d-404c-d324-c31d86d6beb7"
      },
      "outputs": [
        {
          "output_type": "stream",
          "name": "stdout",
          "text": [
            "['mazid', 'rashid', 'nishant', 'asad', 'saquib', 'danish', 'faiyaz', 1, 2, 3, 4, 5, 6, 7, 8, 9]\n",
            "<class 'list'>\n",
            "16\n",
            "mazid\n",
            "rashid\n",
            "nishant\n",
            "asad\n",
            "saquib\n",
            "danish\n",
            "faiyaz\n",
            "saquib\n",
            "saquib\n",
            "saquib\n",
            "yes\n",
            "m\n",
            "a\n",
            "z\n",
            "i\n",
            "d\n",
            "yes\n",
            "yes\n",
            "yes\n",
            "yes\n"
          ]
        }
      ],
      "source": [
        "friends = [\"mazid\", \"rashid\", \"nishant\", \"asad\", \"saquib\", \"danish\", \"faiyaz\",1, 2,3, 4,5,6,7,8,9]\n",
        "print(friends)\n",
        "print(type(friends))\n",
        "print(len(friends))\n",
        "print(friends[0])\n",
        "print(friends[1])\n",
        "print(friends[2])\n",
        "print(friends[3])\n",
        "print(friends[4])\n",
        "print(friends[5])\n",
        "print(friends[6])\n",
        "\n",
        "print(friends[-12])\n",
        "print(friends[len(friends)-12])\n",
        "print(friends[4])\n",
        "\n",
        "if \"mazid\" in friends:\n",
        "    print(\"yes\")\n",
        "else:\n",
        "    print(\"no\")\n",
        "for character in \"mazid\":\n",
        "    print(character)\n",
        "if \"h\" in \"rashid\" and \"nishant\" and \"danish\":\n",
        "    print(\"yes\")\n",
        "else:\n",
        "    print(\"no\")\n",
        "\n",
        "\n",
        "\n",
        "if \"a\" and \"i\" in \"rashid\" and \"nishant\" and \"danish\":\n",
        "    print(\"yes\")\n",
        "else:\n",
        "    print(\"no\")\n",
        "\n",
        "if \"a\" and \"i\" in \"rashid\" and \"nishant\" and \"danish\":\n",
        "    print(\"yes\")\n",
        "else:\n",
        "    print(\"no\")\n",
        "\n",
        "if \"x\" in \"rashid\" or \"nishant\" or \"danish\":\n",
        "    print(\"yes\")\n",
        "else:\n",
        "    print(\"no\")"
      ]
    },
    {
      "cell_type": "code",
      "source": [
        "friends = [\"mazid\", \"rashid\", \"nishant\", \"asad\", \"saquib\", \"danish\", \"faiyaz\", 1, 2, 3, 4, 5, 6, 7, 8, 9]\n",
        "\n",
        "# Print the entire list\n",
        "print(friends)\n",
        "\n",
        "# Print the type of the variable friends\n",
        "print(type(friends))\n",
        "\n",
        "# Print the length of the list\n",
        "print(len(friends))\n",
        "\n",
        "# Access individual elements of the list by index\n",
        "print(friends[0])  # \"mazid\"\n",
        "print(friends[1])  # \"rashid\"\n",
        "print(friends[2])  # \"nishant\"\n",
        "print(friends[3])  # \"asad\"\n",
        "print(friends[4])  # \"saquib\"\n",
        "print(friends[5])  # \"danish\"\n",
        "print(friends[6])  # \"faiyaz\"\n",
        "\n",
        "# Attempt to access elements using negative indexing\n",
        "print(friends[-12])  # \"saquib\" (since the list has 16 elements, -12 is equivalent to index 4)\n",
        "print(friends[len(friends)-12])  # \"saquib\" (same as above)\n",
        "print(friends[4])  # \"saquib\"\n",
        "\n",
        "# Check if \"mazid\" is in the list\n",
        "if \"mazid\" in friends:\n",
        "    print(\"yes\")\n",
        "else:\n",
        "    print(\"no\")\n",
        "\n",
        "# Iterate through each character in \"mazid\" and print them\n",
        "for character in \"mazid\":\n",
        "    print(character)\n",
        "\n",
        "# Evaluate conditions using 'and' and 'in' operators\n",
        "if \"h\" in \"rashid\" and \"h\" in \"nishant\" and \"h\" in \"danish\":\n",
        "    print(\"yes\")\n",
        "else:\n",
        "    print(\"no\")\n",
        "\n",
        "# Evaluate another condition using 'in' operator\n",
        "if \"a\" and \"i\" in \"rashid\" and \"nishant\" and \"danish\":\n",
        "    print(\"yes\")\n",
        "else:\n",
        "    print(\"no\")\n",
        "\n",
        "# Evaluate a similar condition with corrected syntax\n",
        "if \"a\" in \"rashid\" and \"i\" in \"rishid\" and \"i\" in \"nishant\" and \"i\" in \"danish\":\n",
        "    print(\"yes\")\n",
        "else:\n",
        "    print(\"no\")\n",
        "\n",
        "# Evaluate a condition with 'or' operator\n",
        "if \"x\" in \"rashid\" or \"x\" in \"nishant\" or \"x\" in \"danish\":\n",
        "    print(\"yes\")\n",
        "else:\n",
        "    print(\"no\")\n",
        "\n",
        "print(friends[1:4])\n",
        "print(friends[1:3 :3])\n",
        "print(friends[:4])\n",
        "print(friends[1:len(friends)])\n",
        "print(friends[-4])\n",
        "print(friends[1:-4 :2])\n"
      ],
      "metadata": {
        "colab": {
          "base_uri": "https://localhost:8080/"
        },
        "id": "wPi3PTC8b5Wr",
        "outputId": "02b023f1-92ef-4558-9402-89f28d02d9ce"
      },
      "execution_count": 32,
      "outputs": [
        {
          "output_type": "stream",
          "name": "stdout",
          "text": [
            "['mazid', 'rashid', 'nishant', 'asad', 'saquib', 'danish', 'faiyaz', 1, 2, 3, 4, 5, 6, 7, 8, 9]\n",
            "<class 'list'>\n",
            "16\n",
            "mazid\n",
            "rashid\n",
            "nishant\n",
            "asad\n",
            "saquib\n",
            "danish\n",
            "faiyaz\n",
            "saquib\n",
            "saquib\n",
            "saquib\n",
            "yes\n",
            "m\n",
            "a\n",
            "z\n",
            "i\n",
            "d\n",
            "yes\n",
            "yes\n",
            "yes\n",
            "no\n",
            "['rashid', 'nishant', 'asad']\n",
            "['rashid']\n",
            "['mazid', 'rashid', 'nishant', 'asad']\n",
            "['rashid', 'nishant', 'asad', 'saquib', 'danish', 'faiyaz', 1, 2, 3, 4, 5, 6, 7, 8, 9]\n",
            "6\n",
            "['rashid', 'asad', 'danish', 1, 3, 5]\n"
          ]
        }
      ]
    },
    {
      "cell_type": "code",
      "source": [
        "\n",
        "# List comprehension\n",
        "\n",
        "lst = [x*x for x in range(20)]\n",
        "print(lst)\n",
        "\n",
        "lst = [x*x for x in range(20) if x%2==0]\n",
        "print(lst)"
      ],
      "metadata": {
        "colab": {
          "base_uri": "https://localhost:8080/"
        },
        "id": "iHiqSG6Leav_",
        "outputId": "68b9b126-3224-4785-8c0a-6d05c5fd3da5"
      },
      "execution_count": 34,
      "outputs": [
        {
          "output_type": "stream",
          "name": "stdout",
          "text": [
            "[0, 1, 4, 9, 16, 25, 36, 49, 64, 81, 100, 121, 144, 169, 196, 225, 256, 289, 324, 361]\n",
            "[0, 4, 16, 36, 64, 100, 144, 196, 256, 324]\n"
          ]
        }
      ]
    }
  ]
}