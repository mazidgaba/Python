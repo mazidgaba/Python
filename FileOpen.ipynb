{
  "nbformat": 4,
  "nbformat_minor": 0,
  "metadata": {
    "colab": {
      "provenance": [],
      "authorship_tag": "ABX9TyNxS1jOgCvLWZPGsUqAZ/pO",
      "include_colab_link": true
    },
    "kernelspec": {
      "name": "python3",
      "display_name": "Python 3"
    },
    "language_info": {
      "name": "python"
    }
  },
  "cells": [
    {
      "cell_type": "markdown",
      "metadata": {
        "id": "view-in-github",
        "colab_type": "text"
      },
      "source": [
        "<a href=\"https://colab.research.google.com/github/mazidgaba/Python/blob/main/FileOpen.ipynb\" target=\"_parent\"><img src=\"https://colab.research.google.com/assets/colab-badge.svg\" alt=\"Open In Colab\"/></a>"
      ]
    },
    {
      "cell_type": "code",
      "execution_count": 27,
      "metadata": {
        "colab": {
          "base_uri": "https://localhost:8080/"
        },
        "id": "sP7zKTZWmsnW",
        "outputId": "62eedbc0-5a4d-4f29-c5f6-7ef7cf6c10cd"
      },
      "outputs": [
        {
          "output_type": "stream",
          "name": "stdout",
          "text": [
            "This is mazzzzid Gaba\n"
          ]
        }
      ],
      "source": [
        "f= open('/requirements.txt', 'r')\n",
        "print(f.read())\n"
      ]
    },
    {
      "cell_type": "code",
      "source": [
        "f = open('/requirements.txt', 'w')\n",
        "f.write(\"This is mazzzzid Gaba\")\n",
        "f.close()\n"
      ],
      "metadata": {
        "id": "1qXB4-1avj38"
      },
      "execution_count": 26,
      "outputs": []
    },
    {
      "cell_type": "code",
      "source": [
        "with open ('/requirements.txt', 'r') as f:\n",
        "  print(f.read())"
      ],
      "metadata": {
        "colab": {
          "base_uri": "https://localhost:8080/"
        },
        "id": "u7iCeRHEyg5X",
        "outputId": "f538ab5c-119c-4fbb-c0e5-cbc6b19171af"
      },
      "execution_count": 32,
      "outputs": [
        {
          "output_type": "stream",
          "name": "stdout",
          "text": [
            "This is mazzzzid Gaba\n"
          ]
        }
      ]
    }
  ]
}