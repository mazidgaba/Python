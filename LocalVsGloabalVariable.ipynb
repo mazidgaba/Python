{
  "nbformat": 4,
  "nbformat_minor": 0,
  "metadata": {
    "colab": {
      "provenance": [],
      "authorship_tag": "ABX9TyM0ArXzlZtwmbqNTgtE73s9",
      "include_colab_link": true
    },
    "kernelspec": {
      "name": "python3",
      "display_name": "Python 3"
    },
    "language_info": {
      "name": "python"
    }
  },
  "cells": [
    {
      "cell_type": "markdown",
      "metadata": {
        "id": "view-in-github",
        "colab_type": "text"
      },
      "source": [
        "<a href=\"https://colab.research.google.com/github/mazidgaba/Python/blob/main/LocalVsGloabalVariable.ipynb\" target=\"_parent\"><img src=\"https://colab.research.google.com/assets/colab-badge.svg\" alt=\"Open In Colab\"/></a>"
      ]
    },
    {
      "cell_type": "code",
      "execution_count": 6,
      "metadata": {
        "colab": {
          "base_uri": "https://localhost:8080/"
        },
        "id": "SkizZjEEEue8",
        "outputId": "9d69418f-e1b9-4146-edc9-5f57fb255851"
      },
      "outputs": [
        {
          "output_type": "stream",
          "name": "stdout",
          "text": [
            "4\n",
            "78\n",
            " This is Global Variable 4\n"
          ]
        }
      ],
      "source": [
        "x = 4\n",
        "print(x)\n",
        "def hello():\n",
        "  x=78\n",
        "  print(x)\n",
        "hello()\n",
        "print(\" This is Global Variable\", x)\n",
        "\n"
      ]
    },
    {
      "cell_type": "code",
      "source": [
        "x = 4\n",
        "print(x)\n",
        "def hello():\n",
        "  x=78\n",
        "  print(x)\n",
        "\n",
        "print(\" This is Global Variable\", x)\n",
        "hello()\n"
      ],
      "metadata": {
        "colab": {
          "base_uri": "https://localhost:8080/"
        },
        "id": "xm-138AFl4vs",
        "outputId": "a6dea4c4-a6cf-4281-c1d7-5e3381464ea6"
      },
      "execution_count": 7,
      "outputs": [
        {
          "output_type": "stream",
          "name": "stdout",
          "text": [
            "4\n",
            " This is Global Variable 4\n",
            "78\n"
          ]
        }
      ]
    },
    {
      "cell_type": "code",
      "source": [
        "x = 4\n",
        "\n",
        "print(x)\n",
        "def hello():\n",
        "  x=78\n",
        "  y =33\n",
        "  print(x)\n",
        "\n",
        "print(\" This is Global Variable\", x)\n",
        "hello()\n",
        "print(y)\n"
      ],
      "metadata": {
        "colab": {
          "base_uri": "https://localhost:8080/"
        },
        "id": "ZQrr_eS_mDi0",
        "outputId": "b3675e45-6736-4e9e-da52-5bf608801ccc"
      },
      "execution_count": 10,
      "outputs": [
        {
          "output_type": "stream",
          "name": "stdout",
          "text": [
            "4\n",
            " This is Global Variable 4\n",
            "78\n",
            "94\n"
          ]
        }
      ]
    },
    {
      "cell_type": "code",
      "source": [
        "x = 4\n",
        "\n",
        "print(x)\n",
        "def hello():\n",
        "  x=78\n",
        "  global y\n",
        "  y =33\n",
        "  print(x)\n",
        "\n",
        "print(\" This is Global Variable\", x)\n",
        "hello()\n",
        "print(y)\n"
      ],
      "metadata": {
        "colab": {
          "base_uri": "https://localhost:8080/"
        },
        "id": "zH7GQC-TmQXe",
        "outputId": "183e1483-88f9-45c5-c4d3-2366b75877df"
      },
      "execution_count": 12,
      "outputs": [
        {
          "output_type": "stream",
          "name": "stdout",
          "text": [
            "4\n",
            " This is Global Variable 4\n",
            "78\n",
            "33\n"
          ]
        }
      ]
    }
  ]
}