{
  "nbformat": 4,
  "nbformat_minor": 0,
  "metadata": {
    "colab": {
      "provenance": [],
      "authorship_tag": "ABX9TyPQ4xsBpep8lQEnJ9eLK+KX",
      "include_colab_link": true
    },
    "kernelspec": {
      "name": "python3",
      "display_name": "Python 3"
    },
    "language_info": {
      "name": "python"
    }
  },
  "cells": [
    {
      "cell_type": "markdown",
      "metadata": {
        "id": "view-in-github",
        "colab_type": "text"
      },
      "source": [
        "<a href=\"https://colab.research.google.com/github/mazidgaba/Python/blob/main/ForWhileLoopWithElse.ipynb\" target=\"_parent\"><img src=\"https://colab.research.google.com/assets/colab-badge.svg\" alt=\"Open In Colab\"/></a>"
      ]
    },
    {
      "cell_type": "code",
      "execution_count": 12,
      "metadata": {
        "colab": {
          "base_uri": "https://localhost:8080/"
        },
        "id": "WBTHjSkTwuOU",
        "outputId": "9a39e7ca-7584-4c5e-fd8a-057d2ec08af1"
      },
      "outputs": [
        {
          "output_type": "stream",
          "name": "stdout",
          "text": [
            "0\n",
            "1\n",
            "2\n",
            "3\n",
            "4\n"
          ]
        }
      ],
      "source": [
        "for i in range(8):\n",
        "  if i==5:\n",
        "    break\n",
        "  print(i)\n",
        "\n",
        "else:\n",
        "  print(\"Sorry no \")"
      ]
    },
    {
      "cell_type": "code",
      "source": [
        "i == 0;\n",
        "while i < 5:\n",
        "  print(i)\n",
        "  i += 1\n",
        "else:\n",
        "  print(\"i is no longer less than 5\")"
      ],
      "metadata": {
        "colab": {
          "base_uri": "https://localhost:8080/"
        },
        "id": "3O3AUKWGzxyL",
        "outputId": "90d6ba81-93c2-4e4d-e14a-1e5c7b2005c4"
      },
      "execution_count": 13,
      "outputs": [
        {
          "output_type": "stream",
          "name": "stdout",
          "text": [
            "i is no longer less than 5\n"
          ]
        }
      ]
    },
    {
      "cell_type": "code",
      "source": [
        "for x in range(12):\n",
        "  print(\"The value of {} in the Loop \".format(x+1))\n",
        "else:\n",
        "  print(\"The for loop is done\")"
      ],
      "metadata": {
        "colab": {
          "base_uri": "https://localhost:8080/"
        },
        "id": "O3NlMT-X0aCA",
        "outputId": "0d84e9cb-bfac-43aa-bfc9-ebb74542bc1d"
      },
      "execution_count": 20,
      "outputs": [
        {
          "output_type": "stream",
          "name": "stdout",
          "text": [
            "The value of 1 in the Loop \n",
            "The value of 2 in the Loop \n",
            "The value of 3 in the Loop \n",
            "The value of 4 in the Loop \n",
            "The value of 5 in the Loop \n",
            "The value of 6 in the Loop \n",
            "The value of 7 in the Loop \n",
            "The value of 8 in the Loop \n",
            "The value of 9 in the Loop \n",
            "The value of 10 in the Loop \n",
            "The value of 11 in the Loop \n",
            "The value of 12 in the Loop \n",
            "The for loop is done\n"
          ]
        }
      ]
    }
  ]
}