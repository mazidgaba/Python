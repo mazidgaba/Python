{
  "nbformat": 4,
  "nbformat_minor": 0,
  "metadata": {
    "colab": {
      "provenance": [],
      "authorship_tag": "ABX9TyPcv61PABE/l0YkPmwqaq4T",
      "include_colab_link": true
    },
    "kernelspec": {
      "name": "python3",
      "display_name": "Python 3"
    },
    "language_info": {
      "name": "python"
    }
  },
  "cells": [
    {
      "cell_type": "markdown",
      "metadata": {
        "id": "view-in-github",
        "colab_type": "text"
      },
      "source": [
        "<a href=\"https://colab.research.google.com/github/mazidgaba/Python/blob/main/StringSlicing02a.ipynb\" target=\"_parent\"><img src=\"https://colab.research.google.com/assets/colab-badge.svg\" alt=\"Open In Colab\"/></a>"
      ]
    },
    {
      "cell_type": "code",
      "execution_count": 24,
      "metadata": {
        "colab": {
          "base_uri": "https://localhost:8080/"
        },
        "id": "N7Nt8fqw06LI",
        "outputId": "e5b08295-fbde-4d94-aa02-de7d7d60fd9a"
      },
      "outputs": [
        {
          "output_type": "stream",
          "name": "stdout",
          "text": [
            "11\n",
            "Gulam\n",
            "Mazid\n",
            "m\n",
            "Gulam Mazi\n",
            "dizaM maluG\n"
          ]
        }
      ],
      "source": [
        "# printing the length of the string\n",
        "name = \"Gulam Mazid\"\n",
        "print(len(name))\n",
        "\n",
        "\n",
        "#Slicing the String\n",
        "name = \"Gulam Mazid\"\n",
        "print(name[0:5])\n",
        "print(name[6:11])\n",
        "print(name[4:5])\n",
        "\n",
        "#Reversing the String\n",
        "name = \"Gulam Mazid\"\n",
        "print(name[:-1])\n",
        "\n",
        "\n",
        "print(name[::-1])\n",
        "\n",
        "# This slice operation extracts a substring that starts from the end of name (because of the -1 step) and moves backwards to the beginning of name (because of the -1 step in reverse).\n",
        "# name[::-1] means:\n",
        "# name[start:end:step] where start is implicit (beginning of the string), end is implicit (end of the string), and step is -1, indicating a reverse traversal.\n",
        "# Therefore, name[::-1] will print the reverse of the string name.\n",
        "\n"
      ]
    },
    {
      "cell_type": "code",
      "source": [
        "# printing the length of the string\n",
        "name = \"Gulam Mazid\"\n",
        "print(len(name))\n",
        "\n",
        "print(name[::-2])\n",
        "\n",
        "print(name[-3:len(name)-1])\n",
        "\n",
        "print(name[-3:-1])\n",
        "\n",
        "# Loop through String\n",
        "\n",
        "for i in name:\n",
        "  print(i)\n"
      ],
      "metadata": {
        "colab": {
          "base_uri": "https://localhost:8080/"
        },
        "id": "e8_aaLQf_c4b",
        "outputId": "1c6af010-01de-448b-a6e2-4fc87976d160"
      },
      "execution_count": 27,
      "outputs": [
        {
          "output_type": "stream",
          "name": "stdout",
          "text": [
            "11\n",
            "dzMmlG\n",
            "zi\n",
            "zi\n",
            "G\n",
            "u\n",
            "l\n",
            "a\n",
            "m\n",
            " \n",
            "M\n",
            "a\n",
            "z\n",
            "i\n",
            "d\n"
          ]
        }
      ]
    }
  ]
}