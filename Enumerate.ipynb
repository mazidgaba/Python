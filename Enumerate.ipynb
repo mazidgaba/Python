{
  "nbformat": 4,
  "nbformat_minor": 0,
  "metadata": {
    "colab": {
      "provenance": [],
      "authorship_tag": "ABX9TyNkLG139fPSyh/uiM8nV3f6",
      "include_colab_link": true
    },
    "kernelspec": {
      "name": "python3",
      "display_name": "Python 3"
    },
    "language_info": {
      "name": "python"
    }
  },
  "cells": [
    {
      "cell_type": "markdown",
      "metadata": {
        "id": "view-in-github",
        "colab_type": "text"
      },
      "source": [
        "<a href=\"https://colab.research.google.com/github/mazidgaba/Python/blob/main/Enumerate.ipynb\" target=\"_parent\"><img src=\"https://colab.research.google.com/assets/colab-badge.svg\" alt=\"Open In Colab\"/></a>"
      ]
    },
    {
      "cell_type": "code",
      "execution_count": 18,
      "metadata": {
        "colab": {
          "base_uri": "https://localhost:8080/"
        },
        "id": "L3M3mfKhsmzC",
        "outputId": "e27eed4c-cc8b-4aab-99a7-b07f5300d02e"
      },
      "outputs": [
        {
          "output_type": "stream",
          "name": "stdout",
          "text": [
            "89\n",
            "43\n",
            "32\n",
            "22\n",
            "45\n",
            "56\n",
            "This is score of mazid\n",
            "63\n",
            "67\n",
            "25\n",
            "85\n",
            "84\n",
            "84\n"
          ]
        }
      ],
      "source": [
        "marks = [89,43, 32,22,45,56,63,67,25,85,84,84]\n",
        "\n",
        "index =0\n",
        "for index in marks:\n",
        "  print(index)\n",
        "  if index==56:\n",
        "    print(\"This is score of mazid\")\n"
      ]
    },
    {
      "cell_type": "code",
      "source": [
        "marks = [89,43, 32,22,45,56,63,67,25,85,84,84]\n",
        "\n",
        "index =0\n",
        "for index, mark in enumerate(marks):\n",
        "  print(mark)\n",
        "  if index==4:\n",
        "    print(\"This is score of mazid\")\n"
      ],
      "metadata": {
        "colab": {
          "base_uri": "https://localhost:8080/"
        },
        "id": "NK5kn1E-vZNh",
        "outputId": "5b110400-8778-46bf-88f8-25ea76e1c33e"
      },
      "execution_count": 13,
      "outputs": [
        {
          "output_type": "stream",
          "name": "stdout",
          "text": [
            "89\n",
            "43\n",
            "32\n",
            "22\n",
            "45\n",
            "This is score of mazid\n",
            "56\n",
            "63\n",
            "67\n",
            "25\n",
            "85\n",
            "84\n",
            "84\n"
          ]
        }
      ]
    },
    {
      "cell_type": "code",
      "source": [
        "marks = [89,43, 32,22,45,56,63,67,25,85,84,84]\n",
        "\n",
        "index =0\n",
        "for index in enumerate(marks):\n",
        "  print(index)\n",
        "\n"
      ],
      "metadata": {
        "colab": {
          "base_uri": "https://localhost:8080/"
        },
        "id": "z4qCw_fXw9Ub",
        "outputId": "a918637d-f7d8-4e67-ff2b-ba237b7c1fcb"
      },
      "execution_count": 19,
      "outputs": [
        {
          "output_type": "stream",
          "name": "stdout",
          "text": [
            "(0, 89)\n",
            "(1, 43)\n",
            "(2, 32)\n",
            "(3, 22)\n",
            "(4, 45)\n",
            "(5, 56)\n",
            "(6, 63)\n",
            "(7, 67)\n",
            "(8, 25)\n",
            "(9, 85)\n",
            "(10, 84)\n",
            "(11, 84)\n"
          ]
        }
      ]
    },
    {
      "cell_type": "code",
      "source": [
        "marks = [89,43, 32,22,45,56,63,67,25,85,84,84]\n",
        "\n",
        "index =0\n",
        "for index, mark in enumerate(marks, start=1):\n",
        "  print(mark)\n",
        "  if index==4:\n",
        "    print(\"This is score of mazid\")\n"
      ],
      "metadata": {
        "colab": {
          "base_uri": "https://localhost:8080/"
        },
        "id": "IDWJDANrwXLQ",
        "outputId": "78f3b8c7-d79f-4131-ffaa-4b9010cb81d8"
      },
      "execution_count": 16,
      "outputs": [
        {
          "output_type": "stream",
          "name": "stdout",
          "text": [
            "89\n",
            "43\n",
            "32\n",
            "22\n",
            "This is score of mazid\n",
            "45\n",
            "56\n",
            "63\n",
            "67\n",
            "25\n",
            "85\n",
            "84\n",
            "84\n"
          ]
        }
      ]
    }
  ]
}