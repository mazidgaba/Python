{
  "nbformat": 4,
  "nbformat_minor": 0,
  "metadata": {
    "colab": {
      "provenance": [],
      "authorship_tag": "ABX9TyPljl5392uPIDc++cHCneAV",
      "include_colab_link": true
    },
    "kernelspec": {
      "name": "python3",
      "display_name": "Python 3"
    },
    "language_info": {
      "name": "python"
    }
  },
  "cells": [
    {
      "cell_type": "markdown",
      "metadata": {
        "id": "view-in-github",
        "colab_type": "text"
      },
      "source": [
        "<a href=\"https://colab.research.google.com/github/mazidgaba/Python/blob/main/CustomError.ipynb\" target=\"_parent\"><img src=\"https://colab.research.google.com/assets/colab-badge.svg\" alt=\"Open In Colab\"/></a>"
      ]
    },
    {
      "cell_type": "code",
      "execution_count": 18,
      "metadata": {
        "colab": {
          "base_uri": "https://localhost:8080/"
        },
        "id": "Llig6CVikx0B",
        "outputId": "78e9b700-548b-4493-f1a4-f6c7d52cafd5"
      },
      "outputs": [
        {
          "name": "stdout",
          "output_type": "stream",
          "text": [
            "Enter the Number Between 50 to 100 57\n"
          ]
        }
      ],
      "source": [
        "a = int(input(\"Enter the Number Between 50 to 100 \"))\n",
        "if(a<50 or a>100):\n",
        "  raise ValueError(\"Entered the Number is not Between 50 to 100\")"
      ]
    },
    {
      "cell_type": "code",
      "source": [
        "tp = \"quit\"  # tp is assigned the string \"quit\"\n",
        "word = input(\"Enter the word: \")  # Prompt the user to enter a word\n",
        "if word == tp:  # Check if the input word matches \"quit\"\n",
        "    print(\"Quit is found\")\n",
        "else:\n",
        "    raise SystemExit(\"Word does not match 'quit'\")  # Raise an exception if the word does not match \"quit\"\n"
      ],
      "metadata": {
        "colab": {
          "base_uri": "https://localhost:8080/"
        },
        "id": "v1ZGhTIMmL0Z",
        "outputId": "a13b0d8c-abbd-428d-8c83-66355985bf73"
      },
      "execution_count": 27,
      "outputs": [
        {
          "output_type": "stream",
          "name": "stdout",
          "text": [
            "Enter the word: quit\n",
            "Quit is found\n"
          ]
        }
      ]
    },
    {
      "cell_type": "code",
      "source": [
        "tp = {\"quit\", \"mazid\"}\n",
        "word = input(\"Enter the word\")\n",
        "if word in tp:\n",
        "  print(\"Word is found\")\n",
        "else:\n",
        "  raise SystemExit(\"Word do not match\")"
      ],
      "metadata": {
        "colab": {
          "base_uri": "https://localhost:8080/"
        },
        "id": "oqoqsnpnm4U8",
        "outputId": "87a0c99b-7de0-465b-f039-1ef7822b068b"
      },
      "execution_count": 33,
      "outputs": [
        {
          "output_type": "stream",
          "name": "stdout",
          "text": [
            "Enter the wordquit\n",
            "Word is found\n"
          ]
        }
      ]
    }
  ]
}