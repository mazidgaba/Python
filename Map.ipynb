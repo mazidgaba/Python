{
  "nbformat": 4,
  "nbformat_minor": 0,
  "metadata": {
    "colab": {
      "provenance": [],
      "authorship_tag": "ABX9TyOpYa8sqYQfR614sNvTjAkU",
      "include_colab_link": true
    },
    "kernelspec": {
      "name": "python3",
      "display_name": "Python 3"
    },
    "language_info": {
      "name": "python"
    }
  },
  "cells": [
    {
      "cell_type": "markdown",
      "metadata": {
        "id": "view-in-github",
        "colab_type": "text"
      },
      "source": [
        "<a href=\"https://colab.research.google.com/github/mazidgaba/Python/blob/main/Map.ipynb\" target=\"_parent\"><img src=\"https://colab.research.google.com/assets/colab-badge.svg\" alt=\"Open In Colab\"/></a>"
      ]
    },
    {
      "cell_type": "code",
      "execution_count": 3,
      "metadata": {
        "colab": {
          "base_uri": "https://localhost:8080/"
        },
        "id": "HxzRH2iTg_Oy",
        "outputId": "14d4ee3f-eb00-4f94-be71-9d5221c7d9ca"
      },
      "outputs": [
        {
          "output_type": "stream",
          "name": "stdout",
          "text": [
            "8\n",
            "[1, 8, 27, 125, 216, 343, 27]\n"
          ]
        }
      ],
      "source": [
        "def cube(x):\n",
        "    return x*x*x\n",
        "\n",
        "print(cube(2))\n",
        "\n",
        "l=[1,2,3,5,6,7,3]\n",
        "newl=[]\n",
        "for item in l:\n",
        "    newl.append(cube(item))\n",
        "print(newl)"
      ]
    },
    {
      "cell_type": "code",
      "source": [
        "def cube(x):\n",
        "    return x*x*x\n",
        "\n",
        "print(cube(2))\n",
        "\n",
        "l=[1,2,3,5,6,7,3]\n",
        "newl=[]\n",
        "for item in l:\n",
        "    newl.append(cube(item))\n",
        "print(newl)\n",
        "\n",
        "newl= list(map(cube,l))\n",
        "print(newl)"
      ],
      "metadata": {
        "colab": {
          "base_uri": "https://localhost:8080/"
        },
        "id": "5olIj9Sch0cy",
        "outputId": "2a1be073-7921-4970-da53-3847420d697a"
      },
      "execution_count": 4,
      "outputs": [
        {
          "output_type": "stream",
          "name": "stdout",
          "text": [
            "8\n",
            "[1, 8, 27, 125, 216, 343, 27]\n",
            "[1, 8, 27, 125, 216, 343, 27]\n"
          ]
        }
      ]
    }
  ]
}