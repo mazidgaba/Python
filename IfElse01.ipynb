{
  "nbformat": 4,
  "nbformat_minor": 0,
  "metadata": {
    "colab": {
      "provenance": [],
      "authorship_tag": "ABX9TyPNCPAIkL2tSduqD/dHef4Z",
      "include_colab_link": true
    },
    "kernelspec": {
      "name": "python3",
      "display_name": "Python 3"
    },
    "language_info": {
      "name": "python"
    }
  },
  "cells": [
    {
      "cell_type": "markdown",
      "metadata": {
        "id": "view-in-github",
        "colab_type": "text"
      },
      "source": [
        "<a href=\"https://colab.research.google.com/github/mazidgaba/Python/blob/main/IfElse01.ipynb\" target=\"_parent\"><img src=\"https://colab.research.google.com/assets/colab-badge.svg\" alt=\"Open In Colab\"/></a>"
      ]
    },
    {
      "cell_type": "code",
      "execution_count": null,
      "metadata": {
        "colab": {
          "base_uri": "https://localhost:8080/"
        },
        "id": "obDeLOhWhhVs",
        "outputId": "0d006f7b-d2b7-45c9-aac2-053c785e375d"
      },
      "outputs": [
        {
          "output_type": "stream",
          "name": "stdout",
          "text": [
            "Enter Your Age18\n",
            "Your Age is  18\n",
            "False\n",
            "False\n",
            "True\n",
            "False\n",
            "True\n",
            "True\n",
            "You are eligible to vote\n"
          ]
        }
      ],
      "source": [
        "a = int(input(\"Enter Your Age\"))\n",
        "print(\"Your Age is \", a)\n",
        "\n",
        "print (a<18)\n",
        "print (a>18)\n",
        "print (a==18)\n",
        "print (a!=18)\n",
        "print (a>=18)\n",
        "print (a<=18)\n",
        "if a >= 18:\n",
        "    print(\"You are eligible to vote\")\n",
        "else:\n",
        "    print(\"You are not eligible to vote\")"
      ]
    }
  ]
}