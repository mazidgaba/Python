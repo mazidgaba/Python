{
  "nbformat": 4,
  "nbformat_minor": 0,
  "metadata": {
    "colab": {
      "provenance": [],
      "authorship_tag": "ABX9TyP38KgaliddIy4nUaMJzAGN",
      "include_colab_link": true
    },
    "kernelspec": {
      "name": "python3",
      "display_name": "Python 3"
    },
    "language_info": {
      "name": "python"
    }
  },
  "cells": [
    {
      "cell_type": "markdown",
      "metadata": {
        "id": "view-in-github",
        "colab_type": "text"
      },
      "source": [
        "<a href=\"https://colab.research.google.com/github/mazidgaba/Python/blob/main/Function_Caching.ipynb\" target=\"_parent\"><img src=\"https://colab.research.google.com/assets/colab-badge.svg\" alt=\"Open In Colab\"/></a>"
      ]
    },
    {
      "cell_type": "code",
      "execution_count": 2,
      "metadata": {
        "colab": {
          "base_uri": "https://localhost:8080/"
        },
        "id": "vlvJXtBoiAog",
        "outputId": "aff47f77-f4b2-4967-cb9d-f1f526649ebd"
      },
      "outputs": [
        {
          "output_type": "stream",
          "name": "stdout",
          "text": [
            "100\n",
            "Done for the 20\n",
            "10\n",
            "Done for the 2\n",
            "50\n",
            "Done for the 10\n",
            "350\n",
            "Done for the 70\n"
          ]
        }
      ],
      "source": [
        "import functools\n",
        "import time\n",
        "\n",
        "@functools.lru_cache(maxsize=None)\n",
        "def fx(n):\n",
        "  time.sleep(5)\n",
        "  return n*5\n",
        "\n",
        "\n",
        "print(fx(20))\n",
        "print(\"Done for the 20\")\n",
        "print(fx(2))\n",
        "print(\"Done for the 2\")\n",
        "print(fx(10))\n",
        "print(\"Done for the 10\")\n",
        "print(fx(70))\n",
        "print(\"Done for the 70\")"
      ]
    },
    {
      "cell_type": "code",
      "source": [
        "import functools\n",
        "import time\n",
        "\n",
        "@functools.lru_cache(maxsize=None)\n",
        "def fx(n):\n",
        "  time.sleep(5)\n",
        "  return n*5\n",
        "\n",
        "\n",
        "print(fx(20))\n",
        "print(\"Done for the 20\")\n",
        "print(fx(2))\n",
        "print(\"Done for the 2\")\n",
        "print(fx(10))\n",
        "print(\"Done for the 10\")\n",
        "print(fx(70))\n",
        "print(\"Done for the 70\")\n",
        "\n",
        "\n",
        "\n",
        "print(fx(20))\n",
        "print(\"Done for the 20\")\n",
        "print(fx(2))\n",
        "print(\"Done for the 2\")\n",
        "print(fx(10))\n",
        "print(\"Done for the 10\")\n",
        "print(fx(70))\n",
        "print(\"Done for the 70\")"
      ],
      "metadata": {
        "colab": {
          "base_uri": "https://localhost:8080/"
        },
        "id": "p8xkblEcqVkx",
        "outputId": "87a845ff-1f45-430c-e6c6-fe6e8456dfff"
      },
      "execution_count": 3,
      "outputs": [
        {
          "output_type": "stream",
          "name": "stdout",
          "text": [
            "100\n",
            "Done for the 20\n",
            "10\n",
            "Done for the 2\n",
            "50\n",
            "Done for the 10\n",
            "350\n",
            "Done for the 70\n",
            "100\n",
            "Done for the 20\n",
            "10\n",
            "Done for the 2\n",
            "50\n",
            "Done for the 10\n",
            "350\n",
            "Done for the 70\n"
          ]
        }
      ]
    }
  ]
}