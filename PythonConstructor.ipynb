{
  "nbformat": 4,
  "nbformat_minor": 0,
  "metadata": {
    "colab": {
      "provenance": [],
      "authorship_tag": "ABX9TyP7brliavS8ZYMKrIdFHFtW",
      "include_colab_link": true
    },
    "kernelspec": {
      "name": "python3",
      "display_name": "Python 3"
    },
    "language_info": {
      "name": "python"
    }
  },
  "cells": [
    {
      "cell_type": "markdown",
      "metadata": {
        "id": "view-in-github",
        "colab_type": "text"
      },
      "source": [
        "<a href=\"https://colab.research.google.com/github/mazidgaba/Python/blob/main/PythonConstructor.ipynb\" target=\"_parent\"><img src=\"https://colab.research.google.com/assets/colab-badge.svg\" alt=\"Open In Colab\"/></a>"
      ]
    },
    {
      "cell_type": "code",
      "execution_count": 7,
      "metadata": {
        "colab": {
          "base_uri": "https://localhost:8080/"
        },
        "id": "uZCp6JUcRr8h",
        "outputId": "fc828156-b86d-4f8c-8bd2-fad9cf362d9d"
      },
      "outputs": [
        {
          "output_type": "stream",
          "name": "stdout",
          "text": [
            "Haris\n",
            "Mazid is a Student and likes Playing Cricket\n",
            "Haris is a Student and likes Playing Football\n"
          ]
        }
      ],
      "source": [
        "class Person:\n",
        "  name = \"Mazid\"\n",
        "  occupation = \"Student\"\n",
        "  hobbies = \"Playing Cricket\"\n",
        "\n",
        "  def info(self):\n",
        "    print(f\"{a.name} is a {a.occupation} and likes {a.hobbies}\")\n",
        "\n",
        "print(a.name)\n",
        "a = Person()\n",
        "a.info()\n",
        "\n",
        "\n",
        "a.name = \"Haris\"\n",
        "a.occupation = \"Student\"\n",
        "a.hobbies = \"Playing Football\"\n",
        "a.info()"
      ]
    },
    {
      "cell_type": "code",
      "source": [
        "class Person:\n",
        "  def __init__(self, name, occupation, hobbies):\n",
        "    print(\"Hello from Gulam Mazid\")\n",
        "    self.name = name\n",
        "    self.occupation = occupation\n",
        "    self.hobbies = hobbies\n",
        "  # name = \"Mazid\"\n",
        "  # occupation = \"Student\"\n",
        "  # hobbies = \"Playing Cricket\"\n",
        "\n",
        "  def info(self):\n",
        "    print(f\"{a.name} is a {a.occupation} and likes {a.hobbies}\")\n",
        "\n",
        "\n",
        "a = Person(\"Mazid\", \"Student\", \"Playing Cricket\")\n",
        "a.info()\n",
        "\n",
        "b = Person(\"Saquib \" , \"Student\", \"Playing Ludo\")\n",
        "b.info()\n",
        "\n",
        "a.name = \"Haris\"\n",
        "a.occupation = \"Student\"\n",
        "a.hobbies = \"Playing Football\"\n",
        "a.info()"
      ],
      "metadata": {
        "colab": {
          "base_uri": "https://localhost:8080/"
        },
        "id": "01UzUXY6bppQ",
        "outputId": "74984f2c-7f54-4d47-b622-33b0220d164e"
      },
      "execution_count": 16,
      "outputs": [
        {
          "output_type": "stream",
          "name": "stdout",
          "text": [
            "Hello from Gulam Mazid\n",
            "Mazid is a Student and likes Playing Cricket\n",
            "Hello from Gulam Mazid\n",
            "Mazid is a Student and likes Playing Cricket\n",
            "Haris is a Student and likes Playing Football\n"
          ]
        }
      ]
    },
    {
      "cell_type": "code",
      "source": [
        "class Person:\n",
        "  def __init__(self, name, occupation, hobbies):\n",
        "    print(\"Hello from Gulam Mazid\")\n",
        "    self.name = name\n",
        "    self.occupation = occupation\n",
        "    self.hobbies = hobbies\n",
        "  # name = \"Mazid\"\n",
        "  # occupation = \"Student\"\n",
        "  # hobbies = \"Playing Cricket\"\n",
        "\n",
        "  def info(self):\n",
        "    print(f\"{self.name} is a {self.occupation} and likes {self.hobbies}\")\n",
        "\n",
        "\n",
        "a = Person(\"Mazid\", \"Student\", \"Playing Cricket\")\n",
        "b = Person(\"Saquib \" , \"Student\", \"Playing Ludo\")\n",
        "c= Person(1,2,3)\n",
        "a.info()\n",
        "b.info()"
      ],
      "metadata": {
        "colab": {
          "base_uri": "https://localhost:8080/"
        },
        "id": "2Fgy1AtGdFDe",
        "outputId": "0efd7841-cdae-49ae-f8e1-aba86cbf7445"
      },
      "execution_count": 20,
      "outputs": [
        {
          "output_type": "stream",
          "name": "stdout",
          "text": [
            "Hello from Gulam Mazid\n",
            "Hello from Gulam Mazid\n",
            "Hello from Gulam Mazid\n",
            "Mazid is a Student and likes Playing Cricket\n",
            "Saquib  is a Student and likes Playing Ludo\n"
          ]
        }
      ]
    }
  ]
}