{
  "nbformat": 4,
  "nbformat_minor": 0,
  "metadata": {
    "colab": {
      "provenance": [],
      "authorship_tag": "ABX9TyM+OdSJSPAiqLW2A41n2QoC",
      "include_colab_link": true
    },
    "kernelspec": {
      "name": "python3",
      "display_name": "Python 3"
    },
    "language_info": {
      "name": "python"
    }
  },
  "cells": [
    {
      "cell_type": "markdown",
      "metadata": {
        "id": "view-in-github",
        "colab_type": "text"
      },
      "source": [
        "<a href=\"https://colab.research.google.com/github/mazidgaba/Python/blob/main/UserInput1.ipynb\" target=\"_parent\"><img src=\"https://colab.research.google.com/assets/colab-badge.svg\" alt=\"Open In Colab\"/></a>"
      ]
    },
    {
      "cell_type": "code",
      "execution_count": null,
      "metadata": {
        "colab": {
          "base_uri": "https://localhost:8080/"
        },
        "id": "IPqsCTkTxR8V",
        "outputId": "8ab10914-99cd-43d3-f19f-3cae7733d23b"
      },
      "outputs": [
        {
          "output_type": "stream",
          "name": "stdout",
          "text": [
            "GaaaBaaa\n",
            "GaaaBaaa\n"
          ]
        }
      ],
      "source": [
        "a= input()\n",
        "\n",
        "print(a)"
      ]
    },
    {
      "cell_type": "code",
      "source": [
        "a= input()\n",
        "\n",
        "print(\"My name is\", a)"
      ],
      "metadata": {
        "colab": {
          "base_uri": "https://localhost:8080/"
        },
        "id": "mgdhwctExfYJ",
        "outputId": "831d0e08-d841-413e-9e4e-c97769317982"
      },
      "execution_count": null,
      "outputs": [
        {
          "output_type": "stream",
          "name": "stdout",
          "text": [
            "Gaba\n",
            "My name is Gaba\n"
          ]
        }
      ]
    },
    {
      "cell_type": "code",
      "source": [
        "a= input(\"Enter the user name:\")\n",
        "\n",
        "print(\"My Name is:\", a)"
      ],
      "metadata": {
        "colab": {
          "base_uri": "https://localhost:8080/"
        },
        "id": "72sEEXybhyWl",
        "outputId": "2f44aed2-7aa7-4540-ff2b-e0d36e5ebc86"
      },
      "execution_count": 5,
      "outputs": [
        {
          "output_type": "stream",
          "name": "stdout",
          "text": [
            "Enter the user name:Gaba\n",
            "My Name is: Gaba\n"
          ]
        }
      ]
    },
    {
      "cell_type": "code",
      "source": [
        "x =input(\"Enter the first Number:\")\n",
        "y= input(\"Enter the second Number:\")\n",
        "\n",
        "print(x+y)\n",
        "print(int(x)+int(y))"
      ],
      "metadata": {
        "colab": {
          "base_uri": "https://localhost:8080/"
        },
        "id": "ISCZxHLSj1QR",
        "outputId": "b838429a-8240-40ba-ad6c-773dd93e6ab6"
      },
      "execution_count": 7,
      "outputs": [
        {
          "output_type": "stream",
          "name": "stdout",
          "text": [
            "Enter the first Number:45\n",
            "Enter the second Number:34\n",
            "4534\n",
            "79\n"
          ]
        }
      ]
    },
    {
      "cell_type": "code",
      "source": [
        "x =input(\"Enter the first Number:\")\n",
        "y= input(\"Enter the second Number:\")\n",
        "\n",
        "print(int(x) - int(y))"
      ],
      "metadata": {
        "colab": {
          "base_uri": "https://localhost:8080/"
        },
        "id": "VNfJzu0xkQ1V",
        "outputId": "3a117f06-68c6-4fef-f553-acd998d38b05"
      },
      "execution_count": 11,
      "outputs": [
        {
          "output_type": "stream",
          "name": "stdout",
          "text": [
            "Enter the first Number:54\n",
            "Enter the second Number:44\n",
            "10\n"
          ]
        }
      ]
    },
    {
      "cell_type": "code",
      "source": [
        "x =input(\"Enter the first Number:\")\n",
        "y= input(\"Enter the second Number:\")\n",
        "\n",
        "\n",
        "print(int(x) / int(y))"
      ],
      "metadata": {
        "colab": {
          "base_uri": "https://localhost:8080/"
        },
        "id": "OdYBGTdvkptI",
        "outputId": "7a92ddbd-c110-46d2-d8bd-67e52cbcbd83"
      },
      "execution_count": 14,
      "outputs": [
        {
          "output_type": "stream",
          "name": "stdout",
          "text": [
            "Enter the first Number:44\n",
            "Enter the second Number:33\n",
            "1.3333333333333333\n"
          ]
        }
      ]
    },
    {
      "cell_type": "code",
      "source": [
        "x =input(\"Enter the first Number:\")\n",
        "y= input(\"Enter the second Number:\")\n",
        "\n",
        "\n",
        "print(int(x) // int(y))"
      ],
      "metadata": {
        "colab": {
          "base_uri": "https://localhost:8080/"
        },
        "id": "UudObSGJk87G",
        "outputId": "b8b186c0-fcb4-4ab0-fd66-6990f1502539"
      },
      "execution_count": 15,
      "outputs": [
        {
          "output_type": "stream",
          "name": "stdout",
          "text": [
            "Enter the first Number:44\n",
            "Enter the second Number:22\n",
            "2\n"
          ]
        }
      ]
    },
    {
      "cell_type": "code",
      "source": [
        "x =input(\"Enter the first Number:\")\n",
        "y= input(\"Enter the second Number:\")\n",
        "\n",
        "\n",
        "print(int(x) % int(y))"
      ],
      "metadata": {
        "colab": {
          "base_uri": "https://localhost:8080/"
        },
        "id": "5TpbjjAilHc4",
        "outputId": "7183d279-e8ae-40a1-c2b0-caffd7ae31d1"
      },
      "execution_count": 16,
      "outputs": [
        {
          "output_type": "stream",
          "name": "stdout",
          "text": [
            "Enter the first Number:44\n",
            "Enter the second Number:3\n",
            "2\n"
          ]
        }
      ]
    },
    {
      "cell_type": "code",
      "source": [
        "x =input(\"Enter the first Number:\")\n",
        "y= input(\"Enter the second Number:\")\n",
        "\n",
        "\n",
        "print(int(x) * int(y))"
      ],
      "metadata": {
        "colab": {
          "base_uri": "https://localhost:8080/"
        },
        "id": "okuvdm36lOaD",
        "outputId": "b11e198a-68f3-4a16-9f1d-c1079a904389"
      },
      "execution_count": 17,
      "outputs": [
        {
          "output_type": "stream",
          "name": "stdout",
          "text": [
            "Enter the first Number:44\n",
            "Enter the second Number:88\n",
            "3872\n"
          ]
        }
      ]
    }
  ]
}