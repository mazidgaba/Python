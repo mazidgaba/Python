{
  "nbformat": 4,
  "nbformat_minor": 0,
  "metadata": {
    "colab": {
      "provenance": [],
      "authorship_tag": "ABX9TyN3q668IMx4qAnvicGzEGZk",
      "include_colab_link": true
    },
    "kernelspec": {
      "name": "python3",
      "display_name": "Python 3"
    },
    "language_info": {
      "name": "python"
    }
  },
  "cells": [
    {
      "cell_type": "markdown",
      "metadata": {
        "id": "view-in-github",
        "colab_type": "text"
      },
      "source": [
        "<a href=\"https://colab.research.google.com/github/mazidgaba/Python/blob/main/RegularExpression.ipynb\" target=\"_parent\"><img src=\"https://colab.research.google.com/assets/colab-badge.svg\" alt=\"Open In Colab\"/></a>"
      ]
    },
    {
      "cell_type": "code",
      "execution_count": 7,
      "metadata": {
        "colab": {
          "base_uri": "https://localhost:8080/"
        },
        "id": "Ac8NW0hJ0PYe",
        "outputId": "0778774e-7f5c-4119-87b0-f695f75b51d2"
      },
      "outputs": [
        {
          "output_type": "stream",
          "name": "stdout",
          "text": [
            "<re.Match object; span=(1, 9), match='Students'>\n"
          ]
        }
      ],
      "source": [
        "import re\n",
        "pattern =r\"[A-Z]+tudents\"\n",
        "text = ''' Students continued to protest in Delhi against coaching centres demanding \"justice\" after the death of three UPSC aspirants in the basement of Rau's IAS coaching centre in Old Rajinder Nagar due to flooding after heavy rain on July 27. Protests have spread to various coaching centre hubs such as Mukherjee Nagar as well. Model Town sub-divisional magistrate, Rajiv Sinha, met students in Mukherjee Nagar to understand their demands.\n",
        "Students have demanded action against coaching centres and landowners and officials in charge for the illegal use of basements. They also demand action on mitigating waterlogging in the area, which is prone to flooding due to lack of proper drainage systems.\n",
        "\n",
        "The tragic death of three students took place on Saturday after rainwater filled the basement of the coaching centre. The police and the fire department officials received a call at around 7:10 pm.\n",
        "\n",
        "Water was immediately pumped out from the basement and an NDRF team had to be called as the rescuers were in need of divers to reach the students.\n",
        "\n",
        "The ministry of home affairs has constituted a committee to submit a report on the incident in 30 days. The Municipal Corporation of Delhi has currently sealed 20 coaching centres for violation of basement bylaws.\n",
        "\n",
        "'''\n",
        "\n",
        "match = re.search(pattern,text)\n",
        "print(match)\n"
      ]
    },
    {
      "cell_type": "code",
      "source": [
        "import re\n",
        "pattern =r\"[A-Z]+tudents\"\n",
        "text = ''' Students continued to protest in Delhi against coaching centres demanding \"justice\" after the death of three UPSC aspirants in the basement of Rau's IAS coaching centre in Old Rajinder Nagar due to flooding after heavy rain on July 27. Protests have spread to various coaching centre hubs such as Mukherjee Nagar as well. Model Town sub-divisional magistrate, Rajiv Sinha, met students in Mukherjee Nagar to understand their demands.\n",
        "Students have demanded action against coaching centres and landowners and officials in charge for the illegal use of basements. They also demand action on mitigating waterlogging in the area, which is prone to flooding due to lack of proper drainage systems.\n",
        "\n",
        "The tragic death of three students took place on Saturday after rainwater filled the basement of the coaching centre. The police and the fire department officials received a call at around 7:10 pm.\n",
        "\n",
        "Water was immediately pumped out from the basement and an NDRF team had to be called as the rescuers were in need of divers to reach the students.\n",
        "\n",
        "The ministry of home affairs has constituted a committee to submit a report on the incident in 30 days. The Municipal Corporation of Delhi has currently sealed 20 coaching centres for violation of basement bylaws.\n",
        "\n",
        "'''\n",
        "\n",
        "match = re.search(pattern,text)\n",
        "print(match)\n",
        "\n",
        "matches = re.findall(pattern,text)\n",
        "print(matches)\n",
        "\n",
        "matches = re.finditer(pattern,text)\n",
        "for match in matches:\n",
        "    print(match)\n"
      ],
      "metadata": {
        "colab": {
          "base_uri": "https://localhost:8080/"
        },
        "id": "PgRpt5i05cgh",
        "outputId": "ff00f9f0-5130-4c68-8cee-4e3bfda24b37"
      },
      "execution_count": 10,
      "outputs": [
        {
          "output_type": "stream",
          "name": "stdout",
          "text": [
            "<re.Match object; span=(1, 9), match='Students'>\n",
            "['Students', 'Students']\n",
            "<re.Match object; span=(1, 9), match='Students'>\n",
            "<re.Match object; span=(435, 443), match='Students'>\n"
          ]
        }
      ]
    }
  ]
}