{
  "nbformat": 4,
  "nbformat_minor": 0,
  "metadata": {
    "colab": {
      "provenance": [],
      "authorship_tag": "ABX9TyMsUlGCDJLkZTFwnm7i77e2",
      "include_colab_link": true
    },
    "kernelspec": {
      "name": "python3",
      "display_name": "Python 3"
    },
    "language_info": {
      "name": "python"
    }
  },
  "cells": [
    {
      "cell_type": "markdown",
      "metadata": {
        "id": "view-in-github",
        "colab_type": "text"
      },
      "source": [
        "<a href=\"https://colab.research.google.com/github/mazidgaba/Python/blob/main/Multilevel_Inheritance.ipynb\" target=\"_parent\"><img src=\"https://colab.research.google.com/assets/colab-badge.svg\" alt=\"Open In Colab\"/></a>"
      ]
    },
    {
      "cell_type": "code",
      "execution_count": 13,
      "metadata": {
        "colab": {
          "base_uri": "https://localhost:8080/"
        },
        "id": "2HplbXvTKhuZ",
        "outputId": "767bcde4-6a46-490f-bff9-0605da52bf23"
      },
      "outputs": [
        {
          "output_type": "stream",
          "name": "stdout",
          "text": [
            "Name: Bob\n",
            "Species: Dog\n",
            "Breed: Golden Retriever\n",
            "Color: Black\n"
          ]
        }
      ],
      "source": [
        "class Animal:\n",
        "    def __init__(self, name, species):\n",
        "        self.name = name\n",
        "        self.species = species\n",
        "\n",
        "    def show_details(self):\n",
        "        print(f\"Name: {self.name}\")\n",
        "        print(f\"Species: {self.species}\")\n",
        "\n",
        "class Dog(Animal):\n",
        "  def __init__(self, name, breed):\n",
        "    super().__init__(name, species=\"Dog\")\n",
        "    self.breed = breed\n",
        "\n",
        "  def show_details(self):\n",
        "    Animal.show_details(self)\n",
        "    print(f\"Breed: {self.breed}\")\n",
        "\n",
        "\n",
        "\n",
        "class GoldenRetiver(Dog):\n",
        "  def __init__(self, name, breed, color):\n",
        "    super().__init__(name, breed)\n",
        "    self.color = color\n",
        "\n",
        "  def show_details(self):\n",
        "    Dog.show_details(self)\n",
        "    print(f\"Color: {self.color}\")\n",
        "\n",
        "o = GoldenRetiver(\"Bob\", \"Golden Retriever\", \"Black\")\n",
        "o.show_details()"
      ]
    }
  ]
}