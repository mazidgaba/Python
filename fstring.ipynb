{
  "nbformat": 4,
  "nbformat_minor": 0,
  "metadata": {
    "colab": {
      "provenance": [],
      "authorship_tag": "ABX9TyMEAypQVswmBbzlsV+UfbrW",
      "include_colab_link": true
    },
    "kernelspec": {
      "name": "python3",
      "display_name": "Python 3"
    },
    "language_info": {
      "name": "python"
    }
  },
  "cells": [
    {
      "cell_type": "markdown",
      "metadata": {
        "id": "view-in-github",
        "colab_type": "text"
      },
      "source": [
        "<a href=\"https://colab.research.google.com/github/mazidgaba/Python/blob/main/fstring.ipynb\" target=\"_parent\"><img src=\"https://colab.research.google.com/assets/colab-badge.svg\" alt=\"Open In Colab\"/></a>"
      ]
    },
    {
      "cell_type": "code",
      "execution_count": 5,
      "metadata": {
        "colab": {
          "base_uri": "https://localhost:8080/"
        },
        "id": "9SPtLNQ2kjSN",
        "outputId": "c46c1844-37a9-4901-8e28-1e7dfb212adb"
      },
      "outputs": [
        {
          "output_type": "stream",
          "name": "stdout",
          "text": [
            "My name is Mazid and I am Student ofJNU\n",
            "My name is Mazid and I am Student ofJNU\n"
          ]
        }
      ],
      "source": [
        "letter = \"My name is {} and I am Student of{}\"\n",
        "\n",
        "name =\"Mazid\"\n",
        "Uni = \"JNU\"\n",
        "\n",
        "print(letter.format(name,Uni))\n",
        "\n",
        "print(f\"My name is {name} and I am Student of{Uni}\")"
      ]
    },
    {
      "cell_type": "code",
      "source": [
        "price = 32.34322222222222\n",
        "\n",
        "txt = f\"The price isss {price:.2f} \"\n",
        "print(txt)\n",
        "\n",
        "print(type(txt))\n",
        "print(f\"The price is {price:.2f}\")"
      ],
      "metadata": {
        "colab": {
          "base_uri": "https://localhost:8080/"
        },
        "id": "m0XS4o87mJdT",
        "outputId": "bac77738-47c9-491c-dcb2-52b4432421e4"
      },
      "execution_count": 11,
      "outputs": [
        {
          "output_type": "stream",
          "name": "stdout",
          "text": [
            "The price isss 32.34 \n",
            "<class 'str'>\n",
            "The price is 32.34\n"
          ]
        }
      ]
    }
  ]
}