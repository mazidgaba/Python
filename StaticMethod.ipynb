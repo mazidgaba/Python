{
  "nbformat": 4,
  "nbformat_minor": 0,
  "metadata": {
    "colab": {
      "provenance": [],
      "authorship_tag": "ABX9TyMlaDHvKj8plpy/7W6RmAiA",
      "include_colab_link": true
    },
    "kernelspec": {
      "name": "python3",
      "display_name": "Python 3"
    },
    "language_info": {
      "name": "python"
    }
  },
  "cells": [
    {
      "cell_type": "markdown",
      "metadata": {
        "id": "view-in-github",
        "colab_type": "text"
      },
      "source": [
        "<a href=\"https://colab.research.google.com/github/mazidgaba/Python/blob/main/StaticMethod.ipynb\" target=\"_parent\"><img src=\"https://colab.research.google.com/assets/colab-badge.svg\" alt=\"Open In Colab\"/></a>"
      ]
    },
    {
      "cell_type": "code",
      "execution_count": 6,
      "metadata": {
        "colab": {
          "base_uri": "https://localhost:8080/"
        },
        "id": "JRfAZPs50rUN",
        "outputId": "48d14bd6-a093-4e3c-9c69-6d3516b30845"
      },
      "outputs": [
        {
          "output_type": "stream",
          "name": "stdout",
          "text": [
            "34\n",
            "38\n",
            "7\n"
          ]
        }
      ],
      "source": [
        "class Math:\n",
        "  def __init__(self,num):\n",
        "    self.num = num\n",
        "\n",
        "  def addtonum(self,num):\n",
        "    self.num = self.num + num\n",
        "\n",
        "  @staticmethod\n",
        "  def add(num1,num2):\n",
        "    return num1 + num2\n",
        "\n",
        "\n",
        "a = Math(34)\n",
        "print(a.num)\n",
        "a.addtonum(4)\n",
        "print(a.num)\n",
        "print(Math.add(3,4))"
      ]
    }
  ]
}