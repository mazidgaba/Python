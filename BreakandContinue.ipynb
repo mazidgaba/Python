{
  "nbformat": 4,
  "nbformat_minor": 0,
  "metadata": {
    "colab": {
      "provenance": [],
      "authorship_tag": "ABX9TyP18AgSQTYHojJgjPAYO2uQ",
      "include_colab_link": true
    },
    "kernelspec": {
      "name": "python3",
      "display_name": "Python 3"
    },
    "language_info": {
      "name": "python"
    }
  },
  "cells": [
    {
      "cell_type": "markdown",
      "metadata": {
        "id": "view-in-github",
        "colab_type": "text"
      },
      "source": [
        "<a href=\"https://colab.research.google.com/github/mazidgaba/Python/blob/main/BreakandContinue.ipynb\" target=\"_parent\"><img src=\"https://colab.research.google.com/assets/colab-badge.svg\" alt=\"Open In Colab\"/></a>"
      ]
    },
    {
      "cell_type": "code",
      "execution_count": 31,
      "metadata": {
        "colab": {
          "base_uri": "https://localhost:8080/"
        },
        "id": "8NyB0DTAsCDo",
        "outputId": "3612b9ac-b8c4-45f2-961a-13ec438a4399"
      },
      "outputs": [
        {
          "output_type": "stream",
          "name": "stdout",
          "text": [
            "5 X 0 = 0\n",
            "5 X 1 = 5\n",
            "5 X 2 = 10\n",
            "5 X 3 = 15\n",
            "5 X 4 = 20\n",
            "5 X 5 = 25\n",
            "5 X 6 = 30\n",
            "5 X 7 = 35\n",
            "5 X 8 = 40\n",
            "5 X 9 = 45\n",
            "5 X 10 = 50\n"
          ]
        }
      ],
      "source": [
        "for i in range (11):\n",
        "  print(\"5 X\", i, \"=\", i*5)\n",
        "  if(i==10):\n",
        "    break\n",
        ""
      ]
    },
    {
      "cell_type": "code",
      "source": [
        "for i in range (30):\n",
        "  if(i>=10 and i<=20):\n",
        "    print(\" this table is skipped\")\n",
        "    continue\n",
        "  print(\"5 x\", i+1,\"=\", (i+1)*5)"
      ],
      "metadata": {
        "colab": {
          "base_uri": "https://localhost:8080/"
        },
        "id": "EQ3DBXaDy2HI",
        "outputId": "547681b0-74b3-4c27-b5c1-3e24d1c67c37"
      },
      "execution_count": 44,
      "outputs": [
        {
          "output_type": "stream",
          "name": "stdout",
          "text": [
            "5 x 1 = 5\n",
            "5 x 2 = 10\n",
            "5 x 3 = 15\n",
            "5 x 4 = 20\n",
            "5 x 5 = 25\n",
            "5 x 6 = 30\n",
            "5 x 7 = 35\n",
            "5 x 8 = 40\n",
            "5 x 9 = 45\n",
            "5 x 10 = 50\n",
            " this table is skipped\n",
            " this table is skipped\n",
            " this table is skipped\n",
            " this table is skipped\n",
            " this table is skipped\n",
            " this table is skipped\n",
            " this table is skipped\n",
            " this table is skipped\n",
            " this table is skipped\n",
            " this table is skipped\n",
            " this table is skipped\n",
            "5 x 22 = 110\n",
            "5 x 23 = 115\n",
            "5 x 24 = 120\n",
            "5 x 25 = 125\n",
            "5 x 26 = 130\n",
            "5 x 27 = 135\n",
            "5 x 28 = 140\n",
            "5 x 29 = 145\n",
            "5 x 30 = 150\n"
          ]
        }
      ]
    }
  ]
}