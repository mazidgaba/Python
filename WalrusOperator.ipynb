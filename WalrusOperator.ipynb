{
  "nbformat": 4,
  "nbformat_minor": 0,
  "metadata": {
    "colab": {
      "provenance": [],
      "authorship_tag": "ABX9TyM4AioqUM8dFjrW4OmMVvV5",
      "include_colab_link": true
    },
    "kernelspec": {
      "name": "python3",
      "display_name": "Python 3"
    },
    "language_info": {
      "name": "python"
    }
  },
  "cells": [
    {
      "cell_type": "markdown",
      "metadata": {
        "id": "view-in-github",
        "colab_type": "text"
      },
      "source": [
        "<a href=\"https://colab.research.google.com/github/mazidgaba/Python/blob/main/WalrusOperator.ipynb\" target=\"_parent\"><img src=\"https://colab.research.google.com/assets/colab-badge.svg\" alt=\"Open In Colab\"/></a>"
      ]
    },
    {
      "cell_type": "code",
      "execution_count": 5,
      "metadata": {
        "colab": {
          "base_uri": "https://localhost:8080/"
        },
        "id": "Dmf5zDCymGvf",
        "outputId": "0e32cb6d-9230-4ce5-b6fc-0ae0b13151d2"
      },
      "outputs": [
        {
          "output_type": "stream",
          "name": "stdout",
          "text": [
            "False\n"
          ]
        }
      ],
      "source": [
        "a = True\n",
        "print (a:=False)"
      ]
    },
    {
      "cell_type": "code",
      "source": [
        "number= [1,2,3,4,5]\n",
        "while (n:=len(number))>0:\n",
        "    print(number.pop())"
      ],
      "metadata": {
        "colab": {
          "base_uri": "https://localhost:8080/"
        },
        "id": "fdJMpt0dv1fb",
        "outputId": "63d70044-46ea-4644-b349-90ade5d18383"
      },
      "execution_count": 7,
      "outputs": [
        {
          "output_type": "stream",
          "name": "stdout",
          "text": [
            "5\n",
            "4\n",
            "3\n",
            "2\n",
            "1\n"
          ]
        }
      ]
    },
    {
      "cell_type": "code",
      "source": [
        "happy = True\n",
        "print(happy)\n",
        "\n",
        "print(happy:= False)"
      ],
      "metadata": {
        "colab": {
          "base_uri": "https://localhost:8080/"
        },
        "id": "r5-v1HVvwdSE",
        "outputId": "d82075b3-6e17-40fe-c190-5864e05d073b"
      },
      "execution_count": 9,
      "outputs": [
        {
          "output_type": "stream",
          "name": "stdout",
          "text": [
            "True\n",
            "False\n"
          ]
        }
      ]
    },
    {
      "cell_type": "code",
      "source": [
        "\n",
        "foods = list()\n",
        "\n",
        "while True:\n",
        "    food = input(\"What food do you like most? \")\n",
        "    if food.lower() == \"quit\":\n",
        "        break\n",
        "    foods.append(food)\n",
        "\n",
        "print(\"Foods you like:\", foods)\n"
      ],
      "metadata": {
        "colab": {
          "base_uri": "https://localhost:8080/"
        },
        "id": "q3qWM0SDw-ZP",
        "outputId": "95a9130d-997a-4446-a92e-84e18a41f548"
      },
      "execution_count": 4,
      "outputs": [
        {
          "output_type": "stream",
          "name": "stdout",
          "text": [
            "What food do you like most? banana\n",
            "What food do you like most? apple\n",
            "What food do you like most? oragnge\n",
            "What food do you like most? roti\n",
            "What food do you like most? rice\n",
            "What food do you like most? chapati\n",
            "What food do you like most? quit\n",
            "Foods you like: ['banana', 'apple', 'oragnge', 'roti', 'rice', 'chapati']\n"
          ]
        }
      ]
    },
    {
      "cell_type": "code",
      "source": [
        "foods = list()\n",
        "while (food := input(\"What food do you like most? \")) != \"quit\":\n",
        "    foods.append(food)\n",
        "\n",
        "print(\"Foods you like:\", foods)"
      ],
      "metadata": {
        "id": "EnM9Lslsyg8Q",
        "outputId": "28869507-b62c-45fd-e0f2-b95a181069ae",
        "colab": {
          "base_uri": "https://localhost:8080/"
        }
      },
      "execution_count": 5,
      "outputs": [
        {
          "output_type": "stream",
          "name": "stdout",
          "text": [
            "What food do you like most? apple\n",
            "What food do you like most? litchi\n",
            "What food do you like most? mango\n",
            "What food do you like most? rice\n",
            "What food do you like most? biryani\n",
            "What food do you like most? \n",
            "What food do you like most? quit\n",
            "Foods you like: ['apple', 'litchi', 'mango', 'rice', 'biryani', '']\n"
          ]
        }
      ]
    }
  ]
}