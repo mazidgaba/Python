{
  "nbformat": 4,
  "nbformat_minor": 0,
  "metadata": {
    "colab": {
      "provenance": [],
      "authorship_tag": "ABX9TyMVIUKPGlhTPhwPFcFge3CV",
      "include_colab_link": true
    },
    "kernelspec": {
      "name": "python3",
      "display_name": "Python 3"
    },
    "language_info": {
      "name": "python"
    }
  },
  "cells": [
    {
      "cell_type": "markdown",
      "metadata": {
        "id": "view-in-github",
        "colab_type": "text"
      },
      "source": [
        "<a href=\"https://colab.research.google.com/github/mazidgaba/Python/blob/main/recusion.ipynb\" target=\"_parent\"><img src=\"https://colab.research.google.com/assets/colab-badge.svg\" alt=\"Open In Colab\"/></a>"
      ]
    },
    {
      "cell_type": "code",
      "execution_count": 20,
      "metadata": {
        "colab": {
          "base_uri": "https://localhost:8080/"
        },
        "id": "YDg2mKXF2nut",
        "outputId": "3718434a-e357-406a-9358-80da4e53d734"
      },
      "outputs": [
        {
          "output_type": "stream",
          "name": "stdout",
          "text": [
            "120\n"
          ]
        }
      ],
      "source": [
        "def factorial (n):\n",
        "    if (n==0 or n==1):\n",
        "        return 1\n",
        "    else:\n",
        "        return n*factorial(n-1)\n",
        "\n",
        "print(factorial(5))\n",
        "\n",
        "\n"
      ]
    },
    {
      "cell_type": "code",
      "source": [
        "# Fibbonaci Series\n",
        "\n",
        "# f0 = 0\n",
        "# f1 = 1\n",
        "# f2 = 1\n",
        "# f3 = 2\n",
        "# f4 = 3\n",
        "# f5 = 5\n",
        "# f6 = 8\n",
        "# f7 = 13\n",
        "# f8 = 21\n",
        "# f9 = 34\n",
        "\n",
        "def Fibbonaci (n):\n",
        "    if (n==0 or n==1):\n",
        "        return n\n",
        "    else:\n",
        "        return Fibbonaci(n-1) + Fibbonaci(n-2)\n",
        "\n",
        "print(Fibbonaci(9))"
      ],
      "metadata": {
        "colab": {
          "base_uri": "https://localhost:8080/"
        },
        "id": "573rXYnk8FTz",
        "outputId": "b04bf9fe-1590-4e85-fb9c-a8bb796d3cbd"
      },
      "execution_count": 21,
      "outputs": [
        {
          "output_type": "stream",
          "name": "stdout",
          "text": [
            "34\n"
          ]
        }
      ]
    }
  ]
}