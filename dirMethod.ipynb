{
  "nbformat": 4,
  "nbformat_minor": 0,
  "metadata": {
    "colab": {
      "provenance": [],
      "authorship_tag": "ABX9TyNDU/swZsdjevN5ZUp05fOG",
      "include_colab_link": true
    },
    "kernelspec": {
      "name": "python3",
      "display_name": "Python 3"
    },
    "language_info": {
      "name": "python"
    }
  },
  "cells": [
    {
      "cell_type": "markdown",
      "metadata": {
        "id": "view-in-github",
        "colab_type": "text"
      },
      "source": [
        "<a href=\"https://colab.research.google.com/github/mazidgaba/Python/blob/main/dirMethod.ipynb\" target=\"_parent\"><img src=\"https://colab.research.google.com/assets/colab-badge.svg\" alt=\"Open In Colab\"/></a>"
      ]
    },
    {
      "cell_type": "code",
      "execution_count": 2,
      "metadata": {
        "colab": {
          "base_uri": "https://localhost:8080/"
        },
        "id": "G1kcxq0KpKmM",
        "outputId": "0d978f51-13d6-4acc-8f92-648f2ccf4489"
      },
      "outputs": [
        {
          "output_type": "stream",
          "name": "stdout",
          "text": [
            "['__add__', '__class__', '__class_getitem__', '__contains__', '__delattr__', '__delitem__', '__dir__', '__doc__', '__eq__', '__format__', '__ge__', '__getattribute__', '__getitem__', '__gt__', '__hash__', '__iadd__', '__imul__', '__init__', '__init_subclass__', '__iter__', '__le__', '__len__', '__lt__', '__mul__', '__ne__', '__new__', '__reduce__', '__reduce_ex__', '__repr__', '__reversed__', '__rmul__', '__setattr__', '__setitem__', '__sizeof__', '__str__', '__subclasshook__', 'append', 'clear', 'copy', 'count', 'extend', 'index', 'insert', 'pop', 'remove', 'reverse', 'sort']\n",
            "<method-wrapper '__add__' of list object at 0x7a40cd2e5d40>\n",
            "<class 'list'>\n",
            "<method-wrapper '__contains__' of list object at 0x7a40cd2e5d40>\n",
            "<method-wrapper '__delattr__' of list object at 0x7a40cd2e5d40>\n",
            "<method-wrapper '__delitem__' of list object at 0x7a40cd2e5d40>\n",
            "<built-in method __dir__ of list object at 0x7a40cd2e5d40>\n"
          ]
        }
      ],
      "source": [
        "x= [1,2,3,6,8,2]\n",
        "print(dir(x))\n",
        "print(x.__add__)\n",
        "print(x.__class__)\n",
        "print(x.__contains__)\n",
        "print(x.__delattr__)\n",
        "print(x.__delitem__)\n",
        "print(x.__dir__)"
      ]
    }
  ]
}