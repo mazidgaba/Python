{
  "nbformat": 4,
  "nbformat_minor": 0,
  "metadata": {
    "colab": {
      "provenance": [],
      "authorship_tag": "ABX9TyMSK+p2eW84+M1mXgeqbvdC",
      "include_colab_link": true
    },
    "kernelspec": {
      "name": "python3",
      "display_name": "Python 3"
    },
    "language_info": {
      "name": "python"
    }
  },
  "cells": [
    {
      "cell_type": "markdown",
      "metadata": {
        "id": "view-in-github",
        "colab_type": "text"
      },
      "source": [
        "<a href=\"https://colab.research.google.com/github/mazidgaba/Python/blob/main/Reduce.ipynb\" target=\"_parent\"><img src=\"https://colab.research.google.com/assets/colab-badge.svg\" alt=\"Open In Colab\"/></a>"
      ]
    },
    {
      "cell_type": "code",
      "execution_count": 2,
      "metadata": {
        "colab": {
          "base_uri": "https://localhost:8080/"
        },
        "id": "lnR4Jmxyk30o",
        "outputId": "85785cad-c25e-4768-ab3f-f57ca3a9e9a8"
      },
      "outputs": [
        {
          "output_type": "stream",
          "name": "stdout",
          "text": [
            "21\n"
          ]
        }
      ],
      "source": [
        "from functools import reduce\n",
        "\n",
        "number = [1,2,3,4,5,6]\n",
        "\n",
        "# adding process\n",
        "# 1+2\n",
        "# 3+31\n",
        "# 6+4\n",
        "# 10+5\n",
        "# 15+6\n",
        "\n",
        "sum = reduce(lambda x,y: x+y, number)\n",
        "\n",
        "print(sum)"
      ]
    }
  ]
}