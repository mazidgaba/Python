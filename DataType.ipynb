{
  "nbformat": 4,
  "nbformat_minor": 0,
  "metadata": {
    "colab": {
      "provenance": [],
      "toc_visible": true,
      "authorship_tag": "ABX9TyPd6Uvgdt8D5aB+oIvnqVg7",
      "include_colab_link": true
    },
    "kernelspec": {
      "name": "python3",
      "display_name": "Python 3"
    },
    "language_info": {
      "name": "python"
    }
  },
  "cells": [
    {
      "cell_type": "markdown",
      "metadata": {
        "id": "view-in-github",
        "colab_type": "text"
      },
      "source": [
        "<a href=\"https://colab.research.google.com/github/mazidgaba/Python/blob/main/DataType.ipynb\" target=\"_parent\"><img src=\"https://colab.research.google.com/assets/colab-badge.svg\" alt=\"Open In Colab\"/></a>"
      ]
    },
    {
      "cell_type": "code",
      "execution_count": 1,
      "metadata": {
        "colab": {
          "base_uri": "https://localhost:8080/"
        },
        "id": "1C3xn9RpBoII",
        "outputId": "7710e241-d6c7-4c61-98c3-2eec1a0c14c5"
      },
      "outputs": [
        {
          "output_type": "stream",
          "name": "stdout",
          "text": [
            "19\n",
            "Gaba\n",
            "<class 'int'>\n",
            "<class 'str'>\n",
            "251\n",
            "The DATA TYPE OF A <class 'int'>\n",
            "The DATA TYPE OF x <class 'float'>\n",
            "The DATA TYPE OF t <class 'complex'>\n",
            "(1, 26.34, [21], 19, [3], ['mazid', 'gaba'])\n",
            "The DATA TYPE OF list1 <class 'tuple'>\n",
            "('cow', 'goat', ('bull', 'lion'))\n",
            "{'Name': 'Gaba', 'Age': 23, 'Gender': 'Male', 'School': 'AMU', 'Attend School': False}\n"
          ]
        }
      ],
      "source": [
        "a=19\n",
        "print(a)\n",
        "\n",
        "b= \"Gaba\"\n",
        "print(b)\n",
        "\n",
        "print(type(a))\n",
        "print(type(b))\n",
        "\n",
        "c= 232\n",
        "print(a+c)\n",
        "print(\"The DATA TYPE OF A\", type(a))\n",
        "\n",
        "x= 2.332323\n",
        "print(\"The DATA TYPE OF x\", type(x))\n",
        "\n",
        "\n",
        "t=complex(8,4)\n",
        "print(\"The DATA TYPE OF t\", type(t))\n",
        "\n",
        "list1= (1, 26.34, [7+14], a, [1+2], [\"mazid\", \"gaba\"])\n",
        "print(list1)\n",
        "print(\"The DATA TYPE OF list1\", type(list1))\n",
        "\n",
        "tuple1 = (\"cow\", \"goat\", (\"bull\", \"lion\"))\n",
        "print(tuple1)\n",
        "\n",
        "dict1 = {\"Name\":\"Gaba\", \"Age\":23, \"Gender\":\"Male\", \"School\":\"AMU\", \"Attend School\":False}\n",
        "print(dict1)"
      ]
    }
  ]
}