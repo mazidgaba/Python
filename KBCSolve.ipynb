{
  "nbformat": 4,
  "nbformat_minor": 0,
  "metadata": {
    "colab": {
      "provenance": [],
      "authorship_tag": "ABX9TyPEzPKDb/CFXsvNx8XBM97D",
      "include_colab_link": true
    },
    "kernelspec": {
      "name": "python3",
      "display_name": "Python 3"
    },
    "language_info": {
      "name": "python"
    }
  },
  "cells": [
    {
      "cell_type": "markdown",
      "metadata": {
        "id": "view-in-github",
        "colab_type": "text"
      },
      "source": [
        "<a href=\"https://colab.research.google.com/github/mazidgaba/Python/blob/main/KBCSolve.ipynb\" target=\"_parent\"><img src=\"https://colab.research.google.com/assets/colab-badge.svg\" alt=\"Open In Colab\"/></a>"
      ]
    },
    {
      "cell_type": "code",
      "execution_count": null,
      "metadata": {
        "colab": {
          "base_uri": "https://localhost:8080/",
          "height": 315
        },
        "id": "k3pK7igfqJXr",
        "outputId": "2fe3c3f2-1a9e-4743-f996-ae9eeea35c72"
      },
      "outputs": [
        {
          "output_type": "stream",
          "name": "stdout",
          "text": [
            "Question for Rs 5000\n",
            "a.Current Railway Minister of India is)\n",
            "b.Mamta Banarjee)\n",
            "c.Ram Vilash)\n",
            "d.Ashwini Vaishnaw)\n",
            "e.Piyush Goyal)\n"
          ]
        },
        {
          "output_type": "error",
          "ename": "NameError",
          "evalue": "name 'intput' is not defined",
          "traceback": [
            "\u001b[0;31m---------------------------------------------------------------------------\u001b[0m",
            "\u001b[0;31mNameError\u001b[0m                                 Traceback (most recent call last)",
            "\u001b[0;32m<ipython-input-6-9200dd1bc73e>\u001b[0m in \u001b[0;36m<cell line: 11>\u001b[0;34m()\u001b[0m\n\u001b[1;32m     17\u001b[0m   \u001b[0mprint\u001b[0m\u001b[0;34m(\u001b[0m\u001b[0;34mf\"d.{question[3]})\"\u001b[0m\u001b[0;34m)\u001b[0m\u001b[0;34m\u001b[0m\u001b[0;34m\u001b[0m\u001b[0m\n\u001b[1;32m     18\u001b[0m   \u001b[0mprint\u001b[0m\u001b[0;34m(\u001b[0m\u001b[0;34mf\"e.{question[4]})\"\u001b[0m\u001b[0;34m)\u001b[0m\u001b[0;34m\u001b[0m\u001b[0;34m\u001b[0m\u001b[0m\n\u001b[0;32m---> 19\u001b[0;31m   \u001b[0mreply\u001b[0m \u001b[0;34m=\u001b[0m \u001b[0mint\u001b[0m\u001b[0;34m(\u001b[0m\u001b[0mintput\u001b[0m\u001b[0;34m(\u001b[0m\u001b[0;34m\"Enter your Answer (1-4)\"\u001b[0m\u001b[0;34m)\u001b[0m\u001b[0;34m)\u001b[0m\u001b[0;34m\u001b[0m\u001b[0;34m\u001b[0m\u001b[0m\n\u001b[0m\u001b[1;32m     20\u001b[0m   \u001b[0;32mif\u001b[0m\u001b[0;34m(\u001b[0m\u001b[0mreply\u001b[0m \u001b[0;34m==\u001b[0m \u001b[0mquestion\u001b[0m\u001b[0;34m[\u001b[0m\u001b[0;34m-\u001b[0m\u001b[0;36m1\u001b[0m\u001b[0;34m]\u001b[0m\u001b[0;34m)\u001b[0m\u001b[0;34m:\u001b[0m\u001b[0;34m\u001b[0m\u001b[0;34m\u001b[0m\u001b[0m\n\u001b[1;32m     21\u001b[0m     \u001b[0mprint\u001b[0m\u001b[0;34m(\u001b[0m\u001b[0;34m\"Correct Answer\"\u001b[0m\u001b[0;34m)\u001b[0m\u001b[0;34m\u001b[0m\u001b[0;34m\u001b[0m\u001b[0m\n",
            "\u001b[0;31mNameError\u001b[0m: name 'intput' is not defined"
          ]
        }
      ],
      "source": [
        "questions = [\n",
        "    [\"Current Railway Minister of India is\", \"Mamta Banarjee\", \"Ram Vilash\", \"Ashwini Vaishnaw\", \"Piyush Goyal\", 3],\n",
        "    [\"Which god is also known as ‘Gauri Nandan’?\", \"Agni\", \"Indra\", \"Hanuman\", \"Ganesha\", 4],\n",
        "    [\"What does not grow on tree according to a popular Hindi saying?\", \"Money\", \"Flowers\", \"Leaves\", \"Fruits\", 4],\n",
        "    [\"Which city is known as Pink City in India?\", \"Bangalore\", \"New Delhi\", \"Jaipur\", \"Kochi\", 3],\n",
        "    [\"Who wrote India's National Anthem?\", \"Rabindranath Tagore\", \"Lal Bahadur Shastri\", \"Chetan Bhagat\", \"RK Narayanan\", 1]\n",
        "]\n",
        "\n",
        "levels =[5000, 10000, 15000, 20000,25000, 30000]\n",
        "money = 0\n",
        "for i in range(len(questions)):\n",
        "  question = questions[i]\n",
        "  print(f\"Question for Rs {levels[i]}\")\n",
        "  print(f\"a.{question[0]})\")\n",
        "  print(f\"b.{question[1]})\")\n",
        "  print(f\"c.{question[2]})\")\n",
        "  print(f\"d.{question[3]})\")\n",
        "  print(f\"e.{question[4]})\")\n",
        "  reply = int(intput(\"Enter your Answer (1-4)\"))\n",
        "  if(reply == question[-1]):\n",
        "    print(\"Correct Answer\")\n",
        "    print(f\"You have won Rs {levels[i]}\")\n",
        "    if (i==4):\n",
        "      money == 20000\n",
        "  else:\n",
        "    print(\"Wrong Answer\")\n",
        "    break"
      ]
    },
    {
      "cell_type": "code",
      "source": [
        "questions = [\n",
        "    [\"Current Railway Minister of India is\", \"Mamta Banarjee\", \"Ram Vilash\", \"Ashwini Vaishnaw\", \"Piyush Goyal\", 3],\n",
        "    [\"Which god is also known as ‘Gauri Nandan’?\", \"Agni\", \"Indra\", \"Hanuman\", \"Ganesha\", 4],\n",
        "    [\"What does not grow on tree according to a popular Hindi saying?\", \"Money\", \"Flowers\", \"Leaves\", \"Fruits\", 1],\n",
        "    [\"Which city is known as Pink City in India?\", \"Bangalore\", \"New Delhi\", \"Jaipur\", \"Kochi\", 3],\n",
        "    [\"Who wrote India's National Anthem?\", \"Rabindranath Tagore\", \"Lal Bahadur Shastri\", \"Chetan Bhagat\", \"RK Narayanan\", 1]\n",
        "]\n",
        "\n",
        "levels = [5000, 10000, 15000, 20000, 25000]\n",
        "money = 0\n",
        "\n",
        "for i in range(len(questions)):\n",
        "    question = questions[i]\n",
        "    print(f\"Question for Rs {levels[i]}\")\n",
        "    print(f\"a. {question[1]}\")\n",
        "    print(f\"b. {question[2]}\")\n",
        "    print(f\"c. {question[3]}\")\n",
        "    print(f\"d. {question[4]}\")\n",
        "\n",
        "    reply = input(\"Enter your Answer (a-d): \").lower()  # Convert input to lowercase for case-insensitive comparison\n",
        "\n",
        "    if reply == 'a':\n",
        "        reply_index = 1\n",
        "    elif reply == 'b':\n",
        "        reply_index = 2\n",
        "    elif reply == 'c':\n",
        "        reply_index = 3\n",
        "    elif reply == 'd':\n",
        "        reply_index = 4\n",
        "    else:\n",
        "        print(\"Invalid input. Please enter a valid option (a-d).\")\n",
        "        continue  # Restart the loop if input is invalid\n",
        "\n",
        "    if reply_index == question[-1]:\n",
        "        print(\"Correct Answer\")\n",
        "        money += levels[i]  # Add the amount to money if the answer is correct\n",
        "        print(f\"You have won Rs {levels[i]}\")\n",
        "    else:\n",
        "        print(\"Wrong Answer\")\n",
        "        break  # Exit the loop on the first wrong answer\n",
        "\n",
        "print(f\"Total money won: Rs {money}\")\n"
      ],
      "metadata": {
        "colab": {
          "base_uri": "https://localhost:8080/"
        },
        "id": "Aur8kQF2D1zH",
        "outputId": "4e204da6-ac60-4cb6-adbb-a939d0c75608"
      },
      "execution_count": 1,
      "outputs": [
        {
          "output_type": "stream",
          "name": "stdout",
          "text": [
            "Question for Rs 5000\n",
            "a. Mamta Banarjee\n",
            "b. Ram Vilash\n",
            "c. Ashwini Vaishnaw\n",
            "d. Piyush Goyal\n",
            "Enter your Answer (a-d): c\n",
            "Correct Answer\n",
            "You have won Rs 5000\n",
            "Question for Rs 10000\n",
            "a. Agni\n",
            "b. Indra\n",
            "c. Hanuman\n",
            "d. Ganesha\n",
            "Enter your Answer (a-d): d\n",
            "Correct Answer\n",
            "You have won Rs 10000\n",
            "Question for Rs 15000\n",
            "a. Money\n",
            "b. Flowers\n",
            "c. Leaves\n",
            "d. Fruits\n",
            "Enter your Answer (a-d): a\n",
            "Correct Answer\n",
            "You have won Rs 15000\n",
            "Question for Rs 20000\n",
            "a. Bangalore\n",
            "b. New Delhi\n",
            "c. Jaipur\n",
            "d. Kochi\n",
            "Enter your Answer (a-d): c\n",
            "Correct Answer\n",
            "You have won Rs 20000\n",
            "Question for Rs 25000\n",
            "a. Rabindranath Tagore\n",
            "b. Lal Bahadur Shastri\n",
            "c. Chetan Bhagat\n",
            "d. RK Narayanan\n",
            "Enter your Answer (a-d): a\n",
            "Correct Answer\n",
            "You have won Rs 25000\n",
            "Total money won: Rs 75000\n"
          ]
        }
      ]
    },
    {
      "cell_type": "code",
      "source": [
        "questions = [\n",
        "    [\"Current Railway Minister of India is\", \"Mamta Banarjee\", \"Ram Vilash\", \"Ashwini Vaishnaw\", \"Piyush Goyal\", 3],\n",
        "    [\"Which god is also known as ‘Gauri Nandan’?\", \"Agni\", \"Indra\", \"Hanuman\", \"Ganesha\", 4],\n",
        "    [\"What does not grow on tree according to a popular Hindi saying?\", \"Money\", \"Flowers\", \"Leaves\", \"Fruits\", 1],\n",
        "    [\"Which city is known as Pink City in India?\", \"Bangalore\", \"New Delhi\", \"Jaipur\", \"Kochi\", 3],\n",
        "    [\"Who wrote India's National Anthem?\", \"Rabindranath Tagore\", \"Lal Bahadur Shastri\", \"Chetan Bhagat\", \"RK Narayanan\", 1]\n",
        "]\n",
        "\n",
        "levels = [5000, 10000, 15000, 20000, 25000]\n",
        "money = 0\n",
        "\n",
        "for i in range(len(questions)):\n",
        "    question = questions[i]\n",
        "    print(f\"Question for Rs {levels[i]}\")\n",
        "    print(question[0])  # Print the question itself\n",
        "    print(f\"a. {question[1]}\")\n",
        "    print(f\"b. {question[2]}\")\n",
        "    print(f\"c. {question[3]}\")\n",
        "    print(f\"d. {question[4]}\")\n",
        "\n",
        "    reply = input(\"Enter your Answer (a-d): \").lower()  # Convert input to lowercase for case-insensitive comparison\n",
        "\n",
        "    if reply == 'a':\n",
        "        reply_index = 1\n",
        "    elif reply == 'b':\n",
        "        reply_index = 2\n",
        "    elif reply == 'c':\n",
        "        reply_index = 3\n",
        "    elif reply == 'd':\n",
        "        reply_index = 4\n",
        "    else:\n",
        "        print(\"Invalid input. Please enter a valid option (a-d).\")\n",
        "        continue  # Restart the loop if input is invalid\n",
        "\n",
        "    if reply_index == question[-1]:\n",
        "        print(\"Correct Answer\")\n",
        "        money += levels[i]  # Add the amount to money if the answer is correct\n",
        "        print(f\"You have won Rs {levels[i]}\")\n",
        "    else:\n",
        "        print(\"Wrong Answer\")\n",
        "        break  # Exit the loop on the first wrong answer\n",
        "\n",
        "print(f\"Total money won: Rs {money}\")\n"
      ],
      "metadata": {
        "colab": {
          "base_uri": "https://localhost:8080/"
        },
        "id": "WS0RTcW6sCt9",
        "outputId": "61088fd5-6776-413e-f486-455ad7b49bb6"
      },
      "execution_count": 4,
      "outputs": [
        {
          "output_type": "stream",
          "name": "stdout",
          "text": [
            "Question for Rs 5000\n",
            "Current Railway Minister of India is\n",
            "a. Mamta Banarjee\n",
            "b. Ram Vilash\n",
            "c. Ashwini Vaishnaw\n",
            "d. Piyush Goyal\n",
            "Enter your Answer (a-d): w\n",
            "Invalid input. Please enter a valid option (a-d).\n",
            "Question for Rs 10000\n",
            "Which god is also known as ‘Gauri Nandan’?\n",
            "a. Agni\n",
            "b. Indra\n",
            "c. Hanuman\n",
            "d. Ganesha\n",
            "Enter your Answer (a-d): a\n",
            "Wrong Answer\n",
            "Total money won: Rs 0\n"
          ]
        }
      ]
    }
  ]
}