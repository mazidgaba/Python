{
  "nbformat": 4,
  "nbformat_minor": 0,
  "metadata": {
    "colab": {
      "provenance": [],
      "authorship_tag": "ABX9TyPXjwOnueM0zgzmcq7tTKr9",
      "include_colab_link": true
    },
    "kernelspec": {
      "name": "python3",
      "display_name": "Python 3"
    },
    "language_info": {
      "name": "python"
    }
  },
  "cells": [
    {
      "cell_type": "markdown",
      "metadata": {
        "id": "view-in-github",
        "colab_type": "text"
      },
      "source": [
        "<a href=\"https://colab.research.google.com/github/mazidgaba/Python/blob/main/ListMethod.ipynb\" target=\"_parent\"><img src=\"https://colab.research.google.com/assets/colab-badge.svg\" alt=\"Open In Colab\"/></a>"
      ]
    },
    {
      "cell_type": "code",
      "execution_count": 35,
      "metadata": {
        "colab": {
          "base_uri": "https://localhost:8080/"
        },
        "id": "C_4HgUD_gFN2",
        "outputId": "7dbd3e4f-cec9-4d3b-a266-6287466923e0"
      },
      "outputs": [
        {
          "output_type": "stream",
          "name": "stdout",
          "text": [
            "[2, 3, 3, 4, 4, 4, 5, 5, 6, 45, 53, 53, 54, 56, 73, 533]\n",
            "[2, 3, 3, 4, 4, 4, 5, 5, 6, 45, 53, 53, 54, 56, 73, 533, 10]\n",
            "[3, 3, 4, 4, 4, 5, 5, 6, 45, 53, 53, 54, 56, 73, 533, 10]\n",
            "[10, 533, 73, 56, 54, 53, 53, 45, 6, 5, 5, 4, 4, 4, 3, 3]\n",
            "11\n",
            "3\n",
            "[0, 533, 73, 56, 54, 53, 53, 45, 6, 5, 5, 4, 4, 4, 3, 3]\n",
            "[10, 533, 73, 56, 54, 53, 53, 45, 6, 5, 5, 4, 4, 4, 3, 3, 90, 4, 4, 232, 4, 'mazid', 'gaba', 786]\n",
            "[10, 533, 73, 56, 54, 53, 53, 45, 6, 5, 5, 4, 4, 4, 3, 3, 90, 4, 4, 232, 4, 'mazid', 'gaba', 786, 0, 533, 73, 56, 54, 53, 53, 45, 6, 5, 5, 4, 4, 4, 3, 3]\n",
            "[0, 533, 73, 56, 54, 53, 53, 45, 6, 5, 5, 4, 4, 4, 3, 3, 90, 4, 4, 232, 4, 'mazid', 'gaba', 786]\n"
          ]
        }
      ],
      "source": [
        "lst =[73,4,4, 45, 54, 5, 533,5,3,53, 53,56,3, 2,4,6]\n",
        "\n",
        "lst.sort()\n",
        "print(lst)\n",
        "\n",
        "lst.append(10)\n",
        "print(lst)\n",
        "\n",
        "lst.remove(2)\n",
        "print(lst)\n",
        "\n",
        "lst.reverse()\n",
        "print(lst)\n",
        "\n",
        "print(lst.index(4))\n",
        "\n",
        "\n",
        "print(lst.count(4))\n",
        "\n",
        "m = lst.copy()\n",
        "m[0]= 0\n",
        "print(m)\n",
        "\n",
        "z = [90, 4, 4,232,4, \"mazid\", \"gaba\", 786]\n",
        "lst.extend(z)\n",
        "print(lst)\n",
        "\n",
        "lst.extend(m)\n",
        "print(lst)\n",
        "\n",
        "y = m + z\n",
        "print(y)\n"
      ]
    }
  ]
}