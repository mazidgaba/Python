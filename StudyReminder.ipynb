{
  "nbformat": 4,
  "nbformat_minor": 0,
  "metadata": {
    "colab": {
      "provenance": [],
      "authorship_tag": "ABX9TyP+cBl3B9788WhVerbarwkO",
      "include_colab_link": true
    },
    "kernelspec": {
      "name": "python3",
      "display_name": "Python 3"
    },
    "language_info": {
      "name": "python"
    }
  },
  "cells": [
    {
      "cell_type": "markdown",
      "metadata": {
        "id": "view-in-github",
        "colab_type": "text"
      },
      "source": [
        "<a href=\"https://colab.research.google.com/github/mazidgaba/Python/blob/main/StudyReminder.ipynb\" target=\"_parent\"><img src=\"https://colab.research.google.com/assets/colab-badge.svg\" alt=\"Open In Colab\"/></a>"
      ]
    },
    {
      "cell_type": "code",
      "source": [
        "import tkinter as tk\n",
        "from tkinter import messagebox\n",
        "import time\n",
        "\n",
        "def show_reminder():\n",
        "    root = tk.Tk()\n",
        "    root.withdraw()  # Hide the root window\n",
        "    messagebox.showinfo(\"Reminder\", \"Time to study!\")\n",
        "    root.destroy()\n",
        "\n",
        "def start_reminder(interval):\n",
        "    while True:\n",
        "        time.sleep(interval)\n",
        "        show_reminder()\n",
        "\n",
        "if __name__ == \"__main__\":\n",
        "    interval = 10  # Set interval to 10 seconds\n",
        "    start_reminder(interval)\n"
      ],
      "metadata": {
        "id": "3fIgDpHDUs1e"
      },
      "execution_count": null,
      "outputs": []
    }
  ]
}