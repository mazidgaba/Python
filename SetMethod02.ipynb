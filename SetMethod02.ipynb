{
  "nbformat": 4,
  "nbformat_minor": 0,
  "metadata": {
    "colab": {
      "provenance": [],
      "authorship_tag": "ABX9TyM4Lsry61wO1d0DZ0rjdQNF",
      "include_colab_link": true
    },
    "kernelspec": {
      "name": "python3",
      "display_name": "Python 3"
    },
    "language_info": {
      "name": "python"
    }
  },
  "cells": [
    {
      "cell_type": "markdown",
      "metadata": {
        "id": "view-in-github",
        "colab_type": "text"
      },
      "source": [
        "<a href=\"https://colab.research.google.com/github/mazidgaba/Python/blob/main/SetMethod02.ipynb\" target=\"_parent\"><img src=\"https://colab.research.google.com/assets/colab-badge.svg\" alt=\"Open In Colab\"/></a>"
      ]
    },
    {
      "cell_type": "code",
      "execution_count": 3,
      "metadata": {
        "colab": {
          "base_uri": "https://localhost:8080/"
        },
        "id": "XSYIOe9kC9EU",
        "outputId": "c83d9fd0-076e-4292-a34c-99fc1e276d77"
      },
      "outputs": [
        {
          "output_type": "stream",
          "name": "stdout",
          "text": [
            "{1, 2, 3, 4, 5, 7, 8, 9}\n",
            "{1, 2, 3, 4, 5, 7, 8, 9} {8, 9, 3, 5}\n"
          ]
        }
      ],
      "source": [
        "s1 = {1, 2, 3, 3,4,5,7}\n",
        "s2 = {3,5,8,9}\n",
        "\n",
        "print(s1.union(s2))\n",
        "\n",
        "s1.update(s2)\n",
        "print(s1, s2)"
      ]
    },
    {
      "cell_type": "code",
      "source": [
        "AMUFriends = {\"mazid\",\"rashid\", \"haris\", \"nishant\", \"sahil\"}\n",
        "MANUUFriends = {\"affan\", \"zafar\", \"haris\",\"sahil\"}\n",
        "print(AMUFriends.union(MANUUFriends))\n",
        "print(AMUFriends.intersection(MANUUFriends))\n",
        "print(AMUFriends.intersection_update(MANUUFriends))\n"
      ],
      "metadata": {
        "colab": {
          "base_uri": "https://localhost:8080/"
        },
        "id": "1tAISi4jOZqS",
        "outputId": "6088f0ee-e15f-43d2-9681-935f1bb5d085"
      },
      "execution_count": 10,
      "outputs": [
        {
          "output_type": "stream",
          "name": "stdout",
          "text": [
            "{'rashid', 'affan', 'mazid', 'zafar', 'nishant', 'sahil', 'haris'}\n",
            "{'sahil', 'haris'}\n",
            "None\n"
          ]
        }
      ]
    },
    {
      "cell_type": "code",
      "source": [
        "AMUFriends = {\"mazid\",\"rashid\", \"haris\", \"nishant\", \"sahil\"}\n",
        "MANUUFriends = {\"affan\", \"zafar\", \"haris\",\"sahil\"}\n",
        "\n",
        "\n",
        "\n",
        "print(AMUFriends.difference(MANUUFriends))\n",
        "print(AMUFriends.symmetric_difference(MANUUFriends))\n",
        "\n",
        "print(MANUUFriends.difference(AMUFriends))\n",
        "print(MANUUFriends.symmetric_difference(AMUFriends))"
      ],
      "metadata": {
        "colab": {
          "base_uri": "https://localhost:8080/"
        },
        "id": "6pJVD1IyQCiK",
        "outputId": "8118ec3b-a3fd-495d-b274-4c275ba14c57"
      },
      "execution_count": 17,
      "outputs": [
        {
          "output_type": "stream",
          "name": "stdout",
          "text": [
            "{'rashid', 'mazid', 'nishant'}\n",
            "{'rashid', 'affan', 'zafar', 'mazid', 'nishant'}\n",
            "{'affan', 'zafar'}\n",
            "{'rashid', 'affan', 'zafar', 'mazid', 'nishant'}\n"
          ]
        }
      ]
    },
    {
      "cell_type": "code",
      "source": [
        "AMUFriends = {\"mazid\",\"rashid\", \"haris\", \"nishant\", \"sahil\"}\n",
        "MANUUFriends = {\"affan\", \"zafar\", \"haris\",\"sahil\"}\n",
        "\n",
        "print(AMUFriends.difference(MANUUFriends))\n",
        "print(AMUFriends.difference_update(MANUUFriends))\n",
        "\n",
        "print(MANUUFriends.difference(AMUFriends))\n",
        "print(MANUUFriends.difference_update(AMUFriends))"
      ],
      "metadata": {
        "colab": {
          "base_uri": "https://localhost:8080/"
        },
        "id": "fBSEHv5HQ7SA",
        "outputId": "cb31dec0-f9f0-4741-b11f-6caf25fba1aa"
      },
      "execution_count": 14,
      "outputs": [
        {
          "output_type": "stream",
          "name": "stdout",
          "text": [
            "{'rashid', 'mazid', 'nishant'}\n",
            "None\n",
            "{'sahil', 'affan', 'zafar', 'haris'}\n",
            "None\n"
          ]
        }
      ]
    },
    {
      "cell_type": "code",
      "source": [
        "AMUFriends = {\"mazid\",\"rashid\", \"haris\", \"nishant\", \"sahil\"}\n",
        "MANUUFriends = {\"affan\", \"zafar\", \"haris\",\"sahil\"}\n",
        "\n",
        "print(AMUFriends.isdisjoint(MANUUFriends))\n",
        "print(AMUFriends.issubset(MANUUFriends))\n",
        "print(AMUFriends.issuperset(MANUUFriends))"
      ],
      "metadata": {
        "colab": {
          "base_uri": "https://localhost:8080/"
        },
        "id": "PTOydRZ0Q2XJ",
        "outputId": "cd485a75-6c95-4b76-b18f-05d362202b24"
      },
      "execution_count": 20,
      "outputs": [
        {
          "output_type": "stream",
          "name": "stdout",
          "text": [
            "False\n",
            "False\n",
            "False\n"
          ]
        }
      ]
    },
    {
      "cell_type": "code",
      "source": [
        "AMUFriends = {\"mazid\",\"rashid\", \"haris\", \"nishant\", \"sahil\"}\n",
        "MANUUFriends = {\"affan\", \"zafar\", \"haris\",\"sahil\"}\n",
        "\n",
        "AMUFriends.add(\"adeeb\")\n",
        "print(AMUFriends)\n",
        "MANUUFriends.remove(\"zafar\")\n",
        "print(MANUUFriends)\n",
        "\n",
        "AMUFriends.discard(\"haris\")\n",
        "print(AMUFriends)\n",
        "\n",
        "\n",
        "\n"
      ],
      "metadata": {
        "colab": {
          "base_uri": "https://localhost:8080/"
        },
        "id": "0szO0J3GSGNR",
        "outputId": "ef9a8c96-ffc0-4f92-ccd2-44e8248c7652"
      },
      "execution_count": 28,
      "outputs": [
        {
          "output_type": "stream",
          "name": "stdout",
          "text": [
            "{'rashid', 'sahil', 'adeeb', 'mazid', 'haris', 'nishant'}\n",
            "{'sahil', 'affan', 'haris'}\n",
            "{'rashid', 'sahil', 'adeeb', 'mazid', 'nishant'}\n"
          ]
        }
      ]
    },
    {
      "cell_type": "code",
      "source": [
        "AMUFriends = {\"mazid\",\"rashid\", \"haris\", \"nishant\", \"sahil\"}\n",
        "MANUUFriends = {\"affan\", \"zafar\", \"haris\",\"sahil\"}\n",
        "\n",
        "AMUFriends.pop()\n",
        "print(AMUFriends)\n",
        "\n",
        "AMUFriends.clear()\n",
        "print(AMUFriends)\n",
        "\n",
        "del AMUFriends\n",
        "print(AMUFriends)"
      ],
      "metadata": {
        "colab": {
          "base_uri": "https://localhost:8080/"
        },
        "id": "3B4PyW1aSwmT",
        "outputId": "cae6aa0d-1c26-4aa6-e925-726d45757ded"
      },
      "execution_count": 30,
      "outputs": [
        {
          "output_type": "stream",
          "name": "stdout",
          "text": [
            "{'sahil', 'mazid', 'haris', 'nishant'}\n",
            "set()\n",
            "set()\n"
          ]
        }
      ]
    },
    {
      "cell_type": "code",
      "source": [
        "AMUFriends = {\"mazid\",\"rashid\", \"haris\", \"nishant\", \"sahil\", 7, 8, 9}\n",
        "MANUUFriends = {\"affan\", \"zafar\", \"haris\",\"sahil\"}\n",
        "\n",
        "print(len(AMUFriends))\n",
        "print(type(AMUFriends))\n",
        "print(type(MANUUFriends))\n",
        "\n",
        "\n",
        "if  \"mazid\" in AMUFriends :\n",
        "    print(\"yes\")\n",
        "else:\n",
        "    print(\"no\")"
      ],
      "metadata": {
        "colab": {
          "base_uri": "https://localhost:8080/"
        },
        "id": "eaWA4FfUTNLm",
        "outputId": "4aee3c30-57ae-48e1-c02c-410dccea172e"
      },
      "execution_count": 39,
      "outputs": [
        {
          "output_type": "stream",
          "name": "stdout",
          "text": [
            "8\n",
            "<class 'set'>\n",
            "<class 'set'>\n",
            "yes\n"
          ]
        }
      ]
    }
  ]
}