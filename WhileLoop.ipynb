{
  "nbformat": 4,
  "nbformat_minor": 0,
  "metadata": {
    "colab": {
      "provenance": [],
      "authorship_tag": "ABX9TyPqcSOpdeKae9n/GprGCUWN",
      "include_colab_link": true
    },
    "kernelspec": {
      "name": "python3",
      "display_name": "Python 3"
    },
    "language_info": {
      "name": "python"
    }
  },
  "cells": [
    {
      "cell_type": "markdown",
      "metadata": {
        "id": "view-in-github",
        "colab_type": "text"
      },
      "source": [
        "<a href=\"https://colab.research.google.com/github/mazidgaba/Python/blob/main/WhileLoop.ipynb\" target=\"_parent\"><img src=\"https://colab.research.google.com/assets/colab-badge.svg\" alt=\"Open In Colab\"/></a>"
      ]
    },
    {
      "cell_type": "code",
      "execution_count": 1,
      "metadata": {
        "colab": {
          "base_uri": "https://localhost:8080/"
        },
        "id": "OSBvWgM6mbWH",
        "outputId": "e6fb2668-9eb3-4807-a966-771d340febf2"
      },
      "outputs": [
        {
          "output_type": "stream",
          "name": "stdout",
          "text": [
            "3\n",
            "4\n",
            "5\n",
            "6\n",
            "7\n",
            "8\n",
            "9\n"
          ]
        }
      ],
      "source": [
        "i = 3\n",
        "while i < 10:\n",
        "    print(i)\n",
        "    i += 1"
      ]
    },
    {
      "cell_type": "code",
      "source": [
        "i = 3\n",
        "while i < 10:\n",
        "    print(i)\n",
        "    i = i + 1\n",
        "\n",
        "print(\"Loop Ends\")"
      ],
      "metadata": {
        "colab": {
          "base_uri": "https://localhost:8080/"
        },
        "id": "fBi2kAILmsm4",
        "outputId": "b1e8f6f8-866e-4f6a-f1eb-ff185d091b4c"
      },
      "execution_count": 3,
      "outputs": [
        {
          "output_type": "stream",
          "name": "stdout",
          "text": [
            "3\n",
            "4\n",
            "5\n",
            "6\n",
            "7\n",
            "8\n",
            "9\n",
            "Loop Ends\n"
          ]
        }
      ]
    },
    {
      "cell_type": "code",
      "source": [
        "num = int(input(\"Enter a number: \"))\n",
        "i = 1\n",
        "while i <= 10:\n",
        "    print(num, 'x', i, '=', num*i)\n",
        "    i = i + 1"
      ],
      "metadata": {
        "colab": {
          "base_uri": "https://localhost:8080/"
        },
        "id": "X36W4eZ_nBRE",
        "outputId": "76c91f2f-e31b-419c-b24d-dffe2ed24d00"
      },
      "execution_count": 4,
      "outputs": [
        {
          "output_type": "stream",
          "name": "stdout",
          "text": [
            "Enter a number: 8\n",
            "8 x 1 = 8\n",
            "8 x 2 = 16\n",
            "8 x 3 = 24\n",
            "8 x 4 = 32\n",
            "8 x 5 = 40\n",
            "8 x 6 = 48\n",
            "8 x 7 = 56\n",
            "8 x 8 = 64\n",
            "8 x 9 = 72\n",
            "8 x 10 = 80\n"
          ]
        }
      ]
    },
    {
      "cell_type": "code",
      "source": [
        "num = int(input(\"Enter a number: \"))\n",
        "i = 1\n",
        "while i <= 10:\n",
        "    print(num, 'x', i, '=', num*i)\n",
        "    i += 1\n",
        "else :\n",
        "    print(\"Loop Ends\")"
      ],
      "metadata": {
        "colab": {
          "base_uri": "https://localhost:8080/"
        },
        "id": "0Yb2XBj7o71-",
        "outputId": "79a654bd-883c-4a00-f378-80dcc5cb8ded"
      },
      "execution_count": 17,
      "outputs": [
        {
          "output_type": "stream",
          "name": "stdout",
          "text": [
            "Enter a number: 8\n",
            "8 x 1 = 8\n",
            "8 x 2 = 16\n",
            "8 x 3 = 24\n",
            "8 x 4 = 32\n",
            "8 x 5 = 40\n",
            "8 x 6 = 48\n",
            "8 x 7 = 56\n",
            "8 x 8 = 64\n",
            "8 x 9 = 72\n",
            "8 x 10 = 80\n",
            "Loop Ends\n"
          ]
        }
      ]
    },
    {
      "cell_type": "code",
      "source": [
        "count = 0\n",
        "while count < 5:\n",
        "    print(count)\n",
        "    count += 1\n",
        "else:\n",
        "    print(\"Loop Ends\")"
      ],
      "metadata": {
        "colab": {
          "base_uri": "https://localhost:8080/"
        },
        "id": "hRt12QY_q_Z9",
        "outputId": "f0a25d3d-73f9-470b-b831-bd23444ff38c"
      },
      "execution_count": 18,
      "outputs": [
        {
          "output_type": "stream",
          "name": "stdout",
          "text": [
            "0\n",
            "1\n",
            "2\n",
            "3\n",
            "4\n",
            "Loop Ends\n"
          ]
        }
      ]
    },
    {
      "cell_type": "code",
      "source": [
        "count = 5\n",
        "while count > 0:\n",
        "    print(count)\n",
        "    count = count - 1\n",
        "else:\n",
        "    print(\"Loop Ends\")"
      ],
      "metadata": {
        "colab": {
          "base_uri": "https://localhost:8080/"
        },
        "id": "pTMar0UhrZ1J",
        "outputId": "9584ca29-dd41-455d-de41-84fde82a2ce3"
      },
      "execution_count": 23,
      "outputs": [
        {
          "output_type": "stream",
          "name": "stdout",
          "text": [
            "5\n",
            "4\n",
            "3\n",
            "2\n",
            "1\n",
            "Loop Ends\n"
          ]
        }
      ]
    }
  ]
}