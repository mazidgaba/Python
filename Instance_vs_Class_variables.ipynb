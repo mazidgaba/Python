{
  "nbformat": 4,
  "nbformat_minor": 0,
  "metadata": {
    "colab": {
      "provenance": [],
      "authorship_tag": "ABX9TyPlclDyz7SgWUq7MIwR4+I4",
      "include_colab_link": true
    },
    "kernelspec": {
      "name": "python3",
      "display_name": "Python 3"
    },
    "language_info": {
      "name": "python"
    }
  },
  "cells": [
    {
      "cell_type": "markdown",
      "metadata": {
        "id": "view-in-github",
        "colab_type": "text"
      },
      "source": [
        "<a href=\"https://colab.research.google.com/github/mazidgaba/Python/blob/main/Instance_vs_Class_variables.ipynb\" target=\"_parent\"><img src=\"https://colab.research.google.com/assets/colab-badge.svg\" alt=\"Open In Colab\"/></a>"
      ]
    },
    {
      "cell_type": "code",
      "execution_count": 4,
      "metadata": {
        "colab": {
          "base_uri": "https://localhost:8080/"
        },
        "id": "Fd-tovxt573c",
        "outputId": "2b749e64-299c-419c-b7d6-66356946de6c"
      },
      "outputs": [
        {
          "output_type": "stream",
          "name": "stdout",
          "text": [
            "The name of the Employee is Mazid\n",
            "The name of the Employee is Mazid\n"
          ]
        }
      ],
      "source": [
        "class Employee:\n",
        "  def __init__(self, name):\n",
        "    self.name = name\n",
        "\n",
        "  def ShowDetails(self):\n",
        "    print(f\"The name of the Employee is {self.name}\")\n",
        "\n",
        "emp1 = Employee(\"Mazid\")\n",
        "emp1.ShowDetails()\n",
        "Employee.ShowDetails(emp1)"
      ]
    },
    {
      "cell_type": "code",
      "source": [
        "class Employee:\n",
        "  def __init__(self, name):\n",
        "    self.name = name\n",
        "    self.raise_amount = 1.0\n",
        "\n",
        "  def ShowDetails(self):\n",
        "    print(f\"The name of the Employee is {self.name} and the Raise amount is {self.raise_amount}\")\n",
        "\n",
        "emp1 = Employee(\"Mazid\")\n",
        "emp1.ShowDetails()\n",
        "Employee.ShowDetails(emp1)"
      ],
      "metadata": {
        "colab": {
          "base_uri": "https://localhost:8080/"
        },
        "id": "8dt-Hzw0ELGs",
        "outputId": "7c78c9cb-8dd2-4438-9ea5-57d50b27b7b3"
      },
      "execution_count": 5,
      "outputs": [
        {
          "output_type": "stream",
          "name": "stdout",
          "text": [
            "The name of the Employee is Mazid and the Raise amount is 1.0\n",
            "The name of the Employee is Mazid and the Raise amount is 1.0\n"
          ]
        }
      ]
    },
    {
      "cell_type": "code",
      "source": [
        "class Employee:\n",
        "  CompanyName= \"Apple\"\n",
        "  def __init__(self, name):\n",
        "    self.name = name\n",
        "    self.raise_amount = 1.0\n",
        "\n",
        "  def ShowDetails(self):\n",
        "    print(f\"The name of the Employee is {self.name} and the Raise amount of {self.CompanyName} is {self.raise_amount}\")\n",
        "\n",
        "emp1 = Employee(\"Mazid\")\n",
        "emp1.raise_amount = 1.1\n",
        "emp1.ShowDetails()\n",
        "# Employee.ShowDetails(emp1)\n",
        "\n",
        "\n",
        "emp2 = Employee(\"Haris\")\n",
        "emp2.CompanyName= \"Apple India\"\n",
        "emp2.ShowDetails()\n"
      ],
      "metadata": {
        "colab": {
          "base_uri": "https://localhost:8080/"
        },
        "id": "inMJpdyWE5es",
        "outputId": "2024e07b-2c4e-4105-90ab-110891ce7b90"
      },
      "execution_count": 13,
      "outputs": [
        {
          "output_type": "stream",
          "name": "stdout",
          "text": [
            "The name of the Employee is Mazid and the Raise amount of Apple is 1.1\n",
            "The name of the Employee is Haris and the Raise amount of Apple India is 1.0\n"
          ]
        }
      ]
    }
  ]
}