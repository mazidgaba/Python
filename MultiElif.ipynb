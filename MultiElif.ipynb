{
  "nbformat": 4,
  "nbformat_minor": 0,
  "metadata": {
    "colab": {
      "provenance": [],
      "authorship_tag": "ABX9TyM93tdV40CUkX2NJwuJmjCp",
      "include_colab_link": true
    },
    "kernelspec": {
      "name": "python3",
      "display_name": "Python 3"
    },
    "language_info": {
      "name": "python"
    }
  },
  "cells": [
    {
      "cell_type": "markdown",
      "metadata": {
        "id": "view-in-github",
        "colab_type": "text"
      },
      "source": [
        "<a href=\"https://colab.research.google.com/github/mazidgaba/Python/blob/main/MultiElif.ipynb\" target=\"_parent\"><img src=\"https://colab.research.google.com/assets/colab-badge.svg\" alt=\"Open In Colab\"/></a>"
      ]
    },
    {
      "cell_type": "code",
      "execution_count": 2,
      "metadata": {
        "colab": {
          "base_uri": "https://localhost:8080/"
        },
        "id": "Gy7TPfyXj04g",
        "outputId": "627f59f1-9cdc-4e7d-f4c7-47a1c3c93e4e"
      },
      "outputs": [
        {
          "output_type": "stream",
          "name": "stdout",
          "text": [
            "8\n",
            "36\n",
            "4\n"
          ]
        }
      ],
      "source": [
        "province = input('what province do you live in?')\n",
        "tax=0\n",
        "\n",
        "if province == 'siwan':\n",
        "    tax = 0.12\n",
        "\n",
        "elif province == 'gopalganj':\n",
        "    tax = 0.15\n",
        "elif province == 'chappra':\n",
        "    tax = 0.16\n",
        "else :\n",
        "    tax = 0.\n",
        "print(tax)"
      ]
    }
  ]
}