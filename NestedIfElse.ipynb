{
  "nbformat": 4,
  "nbformat_minor": 0,
  "metadata": {
    "colab": {
      "provenance": [],
      "authorship_tag": "ABX9TyNZedD6XqwiRSRKpUHZTPEb",
      "include_colab_link": true
    },
    "kernelspec": {
      "name": "python3",
      "display_name": "Python 3"
    },
    "language_info": {
      "name": "python"
    }
  },
  "cells": [
    {
      "cell_type": "markdown",
      "metadata": {
        "id": "view-in-github",
        "colab_type": "text"
      },
      "source": [
        "<a href=\"https://colab.research.google.com/github/mazidgaba/Python/blob/main/NestedIfElse.ipynb\" target=\"_parent\"><img src=\"https://colab.research.google.com/assets/colab-badge.svg\" alt=\"Open In Colab\"/></a>"
      ]
    },
    {
      "cell_type": "code",
      "execution_count": 4,
      "metadata": {
        "colab": {
          "base_uri": "https://localhost:8080/"
        },
        "id": "iXPjQGsEFbSE",
        "outputId": "a0743365-b5ea-4f68-c3a5-2e9ee842a049"
      },
      "outputs": [
        {
          "output_type": "stream",
          "name": "stdout",
          "text": [
            "The Number is Negative\n"
          ]
        }
      ],
      "source": [
        "num = -9\n",
        "\n",
        "if num < 0:\n",
        "    print (\"The Number is Negative\")\n",
        "\n",
        "elif num > 0:\n",
        "    if num > 100:\n",
        "      print(\" The Number is Greater than 100\")\n",
        "\n",
        "    elif num < 100 and num < 100:\n",
        "      print(\" The Number is Less than 100\")\n",
        "    else:\n",
        "      print(\"The Number Value is Not Betweeen 0 to 100\")\n",
        "\n",
        "else:\n",
        "    print(\"The Number is Zero\")"
      ]
    },
    {
      "cell_type": "code",
      "source": [
        "num = int(input(\"Enter a Number: \"))\n",
        "\n",
        "if num < 0:\n",
        "    print (\"The Number is Negative\")\n",
        "\n",
        "elif num > 0:\n",
        "    if num > 100:\n",
        "      print(\" The Number is Greater than 100\")\n",
        "\n",
        "    elif num < 100 and num < 100:\n",
        "      print(\" The Number is Less than 100\")\n",
        "    else:\n",
        "      print(\"The Number Value is Not Betweeen 0 to 100\")\n",
        "\n",
        "else:\n",
        "    print(\"The Number is Zero\")"
      ],
      "metadata": {
        "colab": {
          "base_uri": "https://localhost:8080/"
        },
        "id": "mWFqQjnuTb7B",
        "outputId": "7ea43db1-eec3-40b6-de1f-43cd42c66379"
      },
      "execution_count": 9,
      "outputs": [
        {
          "output_type": "stream",
          "name": "stdout",
          "text": [
            "Enter a Number: -16\n",
            "The Number is Negative\n"
          ]
        }
      ]
    }
  ]
}