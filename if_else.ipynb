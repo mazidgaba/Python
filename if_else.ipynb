{
  "nbformat": 4,
  "nbformat_minor": 0,
  "metadata": {
    "colab": {
      "provenance": [],
      "authorship_tag": "ABX9TyPBF9tqxr0veA0ktL794/de",
      "include_colab_link": true
    },
    "kernelspec": {
      "name": "python3",
      "display_name": "Python 3"
    },
    "language_info": {
      "name": "python"
    }
  },
  "cells": [
    {
      "cell_type": "markdown",
      "metadata": {
        "id": "view-in-github",
        "colab_type": "text"
      },
      "source": [
        "<a href=\"https://colab.research.google.com/github/mazidgaba/Python/blob/main/if_else.ipynb\" target=\"_parent\"><img src=\"https://colab.research.google.com/assets/colab-badge.svg\" alt=\"Open In Colab\"/></a>"
      ]
    },
    {
      "cell_type": "code",
      "execution_count": 2,
      "metadata": {
        "colab": {
          "base_uri": "https://localhost:8080/"
        },
        "id": "qGq1RUf9ABns",
        "outputId": "5905a720-fbf8-4b72-d9b7-82c5933b3944"
      },
      "outputs": [
        {
          "output_type": "stream",
          "name": "stdout",
          "text": [
            "You can't buy the shoes\n"
          ]
        }
      ],
      "source": [
        "ShoesPrice = 999\n",
        "Budget = 500\n",
        "\n",
        "if (ShoesPrice<= Budget):\n",
        "    print(\"You can buy the shoes\")\n",
        "else:\n",
        "    print(\"You can't buy the shoes\")"
      ]
    },
    {
      "cell_type": "code",
      "source": [
        "Number = int(input(\"Enter the number: \"))\n",
        "if Number>0:\n",
        "    print(\"Number is Positive\")\n",
        "elif Number<0:\n",
        "    print(\"Number is Negative\")\n",
        "else:\n",
        "    print(\"Number is Special\")"
      ],
      "metadata": {
        "id": "WGUsa0tXEFL1"
      },
      "execution_count": null,
      "outputs": []
    }
  ]
}