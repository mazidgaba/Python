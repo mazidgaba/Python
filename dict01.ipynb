{
  "nbformat": 4,
  "nbformat_minor": 0,
  "metadata": {
    "colab": {
      "provenance": [],
      "authorship_tag": "ABX9TyPqeqQB8TrEGPBW6ylUd1Rs",
      "include_colab_link": true
    },
    "kernelspec": {
      "name": "python3",
      "display_name": "Python 3"
    },
    "language_info": {
      "name": "python"
    }
  },
  "cells": [
    {
      "cell_type": "markdown",
      "metadata": {
        "id": "view-in-github",
        "colab_type": "text"
      },
      "source": [
        "<a href=\"https://colab.research.google.com/github/mazidgaba/Python/blob/main/dict01.ipynb\" target=\"_parent\"><img src=\"https://colab.research.google.com/assets/colab-badge.svg\" alt=\"Open In Colab\"/></a>"
      ]
    },
    {
      "cell_type": "code",
      "execution_count": 27,
      "metadata": {
        "colab": {
          "base_uri": "https://localhost:8080/",
          "height": 488
        },
        "id": "wXo56AC8h9iK",
        "outputId": "ea98eb19-3d09-415f-a5b3-72ed1f541b9d"
      },
      "outputs": [
        {
          "output_type": "stream",
          "name": "stdout",
          "text": [
            "{'mazid': 'siwan', 'rashid': 'siwani', 'nishant': 'alwar', 'affan': 'moradabadi', 'zafar': 'jaunpur', 'adeeb': 'moradabad'}\n",
            "siwan\n",
            "siwani\n",
            "alwar\n",
            "moradabadi\n",
            "jaunpur\n",
            "moradabad\n",
            "siwan\n",
            "None\n",
            "dict_keys(['mazid', 'rashid', 'nishant', 'affan', 'zafar', 'adeeb'])\n",
            "dict_values(['siwan', 'siwani', 'alwar', 'moradabadi', 'jaunpur', 'moradabad'])\n",
            "mazid\n",
            "rashid\n",
            "nishant\n",
            "affan\n",
            "zafar\n",
            "adeeb\n"
          ]
        },
        {
          "output_type": "error",
          "ename": "AttributeError",
          "evalue": "'str' object has no attribute 'values'",
          "traceback": [
            "\u001b[0;31m---------------------------------------------------------------------------\u001b[0m",
            "\u001b[0;31mAttributeError\u001b[0m                            Traceback (most recent call last)",
            "\u001b[0;32m<ipython-input-27-7d0bea39357c>\u001b[0m in \u001b[0;36m<cell line: 34>\u001b[0;34m()\u001b[0m\n\u001b[1;32m     32\u001b[0m     \u001b[0mprint\u001b[0m\u001b[0;34m(\u001b[0m\u001b[0mghar\u001b[0m\u001b[0;34m)\u001b[0m\u001b[0;34m\u001b[0m\u001b[0;34m\u001b[0m\u001b[0m\n\u001b[1;32m     33\u001b[0m \u001b[0;34m\u001b[0m\u001b[0m\n\u001b[0;32m---> 34\u001b[0;31m \u001b[0;32mfor\u001b[0m \u001b[0mghar\u001b[0m \u001b[0;32min\u001b[0m \u001b[0mghar\u001b[0m\u001b[0;34m.\u001b[0m\u001b[0mvalues\u001b[0m\u001b[0;34m(\u001b[0m\u001b[0;34m)\u001b[0m\u001b[0;34m:\u001b[0m\u001b[0;34m\u001b[0m\u001b[0;34m\u001b[0m\u001b[0m\n\u001b[0m\u001b[1;32m     35\u001b[0m     \u001b[0mprint\u001b[0m\u001b[0;34m(\u001b[0m\u001b[0mghar\u001b[0m\u001b[0;34m)\u001b[0m\u001b[0;34m\u001b[0m\u001b[0;34m\u001b[0m\u001b[0m\n",
            "\u001b[0;31mAttributeError\u001b[0m: 'str' object has no attribute 'values'"
          ]
        }
      ],
      "source": [
        "# Define the dictionary\n",
        "ghar = {\n",
        "    \"mazid\": \"siwan\",\n",
        "    \"rashid\": \"siwani\",\n",
        "    \"nishant\": \"alwar\",\n",
        "    \"affan\": \"moradabadi\",\n",
        "    \"zafar\": \"jaunpur\",\n",
        "    \"adeeb\": \"moradabad\",\n",
        "}\n",
        "\n",
        "# Print the entire dictionary\n",
        "print(ghar)\n",
        "\n",
        "# Access individual values using keys\n",
        "print(ghar[\"mazid\"])\n",
        "print(ghar[\"rashid\"])\n",
        "print(ghar[\"nishant\"])\n",
        "print(ghar[\"affan\"])\n",
        "print(ghar[\"zafar\"])\n",
        "print(ghar[\"adeeb\"])\n",
        "\n",
        "# Correct usage of dictionary's get() method\n",
        "print(ghar.get(\"mazid\"))  # This is the correct way to use get()\n",
        "print(ghar.get(\"saquib\"))\n",
        "\n",
        "\n",
        "\n",
        "print(ghar.keys())\n",
        "print(ghar.values())\n",
        "\n"
      ]
    },
    {
      "cell_type": "code",
      "source": [
        "from collections.abc import ValuesView\n",
        "ghar = {\n",
        "    \"mazid\": \"siwan\",\n",
        "    \"rashid\": \"siwani\",\n",
        "    \"nishant\": \"alwar\",\n",
        "    \"affan\": \"moradabadi\",\n",
        "    \"zafar\": \"jaunpur\",\n",
        "    \"adeeb\": \"moradabad\",\n",
        "}\n",
        "\n",
        "# Loop to print keys\n",
        "for key in ghar.keys():\n",
        "    print(key,\"\\n\")\n",
        "\n",
        "# Loop to print values\n",
        "for value in ghar.values():\n",
        "    print(value)\n",
        "\n",
        "\n",
        "for key, value in ghar.items():\n",
        "    print(key, value)\n",
        "\n",
        "    print(f\" The home town of {key} is {value}\")"
      ],
      "metadata": {
        "colab": {
          "base_uri": "https://localhost:8080/"
        },
        "id": "zdESOsBuma_O",
        "outputId": "3a00a575-aff9-4db1-81cf-4f3ce325b0d7"
      },
      "execution_count": 47,
      "outputs": [
        {
          "output_type": "stream",
          "name": "stdout",
          "text": [
            "mazid \n",
            "\n",
            "rashid \n",
            "\n",
            "nishant \n",
            "\n",
            "affan \n",
            "\n",
            "zafar \n",
            "\n",
            "adeeb \n",
            "\n",
            "siwan\n",
            "siwani\n",
            "alwar\n",
            "moradabadi\n",
            "jaunpur\n",
            "moradabad\n",
            "mazid siwan\n",
            " The home town of mazid is siwan\n",
            "rashid siwani\n",
            " The home town of rashid is siwani\n",
            "nishant alwar\n",
            " The home town of nishant is alwar\n",
            "affan moradabadi\n",
            " The home town of affan is moradabadi\n",
            "zafar jaunpur\n",
            " The home town of zafar is jaunpur\n",
            "adeeb moradabad\n",
            " The home town of adeeb is moradabad\n"
          ]
        }
      ]
    }
  ]
}