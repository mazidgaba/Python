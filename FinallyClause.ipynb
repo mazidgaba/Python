{
  "nbformat": 4,
  "nbformat_minor": 0,
  "metadata": {
    "colab": {
      "provenance": [],
      "authorship_tag": "ABX9TyNuVxMA+oRrJkFLVO1e/dBE",
      "include_colab_link": true
    },
    "kernelspec": {
      "name": "python3",
      "display_name": "Python 3"
    },
    "language_info": {
      "name": "python"
    }
  },
  "cells": [
    {
      "cell_type": "markdown",
      "metadata": {
        "id": "view-in-github",
        "colab_type": "text"
      },
      "source": [
        "<a href=\"https://colab.research.google.com/github/mazidgaba/Python/blob/main/FinallyClause.ipynb\" target=\"_parent\"><img src=\"https://colab.research.google.com/assets/colab-badge.svg\" alt=\"Open In Colab\"/></a>"
      ]
    },
    {
      "cell_type": "code",
      "execution_count": 7,
      "metadata": {
        "colab": {
          "base_uri": "https://localhost:8080/"
        },
        "id": "qWnByk-YWJpm",
        "outputId": "cbcd1f05-0cb0-469a-d206-c096abde7f1f"
      },
      "outputs": [
        {
          "output_type": "stream",
          "name": "stdout",
          "text": [
            "enter a number greater than 100hn\n",
            "invalid input type\n",
            "this is always executed\n"
          ]
        }
      ],
      "source": [
        "try:\n",
        "  x = int(input(\"enter a number greater than 100\"))\n",
        "  print(x)\n",
        "  if x>100:\n",
        "    print(\"Entered number  is greater than 100\")\n",
        "  else:\n",
        "    print(\"Entered is less than 100\")\n",
        "\n",
        "except:\n",
        "  print(\"invalid input type\")\n",
        "\n",
        "finally:\n",
        "  print(\"this is always executed\")"
      ]
    },
    {
      "cell_type": "code",
      "source": [
        "try:\n",
        "    frnds = (\"mazid\", \"rashid\", \"nishant\", \"saquib\")\n",
        "    x = input(\"Enter the name: \")  # input() already returns a string\n",
        "    found = False\n",
        "\n",
        "    for friend in frnds:\n",
        "        if x == friend:\n",
        "            found = True\n",
        "            break\n",
        "\n",
        "    if found:\n",
        "        print(\"Name is in the list\")\n",
        "    else:\n",
        "        print(\"Name is not in the list\")\n",
        "\n",
        "except ValueError:\n",
        "    print(\"Enter string only\")\n",
        "\n",
        "finally:\n",
        "    print(\"Code Completed\")\n"
      ],
      "metadata": {
        "colab": {
          "base_uri": "https://localhost:8080/"
        },
        "id": "NTvflBTIX4rl",
        "outputId": "63cff066-7471-4c55-9f83-0b7ecd725694"
      },
      "execution_count": 35,
      "outputs": [
        {
          "output_type": "stream",
          "name": "stdout",
          "text": [
            "Enter the name: maizds\n",
            "Name is not in the list\n",
            "Code Completed\n"
          ]
        }
      ]
    }
  ]
}