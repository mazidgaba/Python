{
  "nbformat": 4,
  "nbformat_minor": 0,
  "metadata": {
    "colab": {
      "provenance": [],
      "authorship_tag": "ABX9TyOIo8D+I117LLMu6AXrZugS",
      "include_colab_link": true
    },
    "kernelspec": {
      "name": "python3",
      "display_name": "Python 3"
    },
    "language_info": {
      "name": "python"
    }
  },
  "cells": [
    {
      "cell_type": "markdown",
      "metadata": {
        "id": "view-in-github",
        "colab_type": "text"
      },
      "source": [
        "<a href=\"https://colab.research.google.com/github/mazidgaba/Python/blob/main/Class_Methods_as_Alternative_Constructors.ipynb\" target=\"_parent\"><img src=\"https://colab.research.google.com/assets/colab-badge.svg\" alt=\"Open In Colab\"/></a>"
      ]
    },
    {
      "cell_type": "code",
      "execution_count": 4,
      "metadata": {
        "colab": {
          "base_uri": "https://localhost:8080/"
        },
        "id": "O15j-LKlhKrT",
        "outputId": "eba7be42-d7a7-420e-facf-8b579bf922a5"
      },
      "outputs": [
        {
          "output_type": "stream",
          "name": "stdout",
          "text": [
            "Mazid\n",
            "500000\n",
            "{'name': 'Mazid', 'salary': 500000}\n",
            "None\n",
            "__main__\n",
            "['Mazid', '500000']\n",
            "500000\n"
          ]
        }
      ],
      "source": [
        "class Employee:\n",
        "  def __init__(self,name,salary):\n",
        "      self.name = name\n",
        "      self.salary = salary\n",
        "e = Employee(\"Mazid\", 500000)\n",
        "print(e.name)\n",
        "print(e.salary)\n",
        "print(e.__dict__)\n",
        "print(e.__doc__)\n",
        "print(e.__module__)\n",
        "\n",
        "\n",
        "string = \"Mazid-500000\"\n",
        "e = Employee(string.split(\"-\"), 500000)\n",
        "print(e.name)\n",
        "print(e.salary)\n"
      ]
    },
    {
      "cell_type": "code",
      "source": [
        "class Employee:\n",
        "  def __init__(self,name,salary):\n",
        "      self.name = name\n",
        "      self.salary = salary\n",
        "# e = Employee(\"Mazid\", 500000)\n",
        "# print(e.name)\n",
        "# print(e.salary)\n",
        "# print(e.__dict__)\n",
        "# print(e.__doc__)\n",
        "# print(e.__module__)\n",
        "\n",
        "  @classmethod\n",
        "  def from_string(cls, string):\n",
        "    return cls(string.split(\"-\")[0], (string.split(\"-\")[1]))\n",
        "\n",
        "string = \"Mazid-500000\"\n",
        "# e = Employee(string.split(\"-\"), 500000)\n",
        "print(e.name)\n",
        "print(e.salary)\n",
        "\n",
        "\n",
        "string = \"Rashid-500000\"\n",
        "# e1 = Employee(string.split(\"-\"), 500000)\n",
        "print(e1.name)\n",
        "print(e1.salary)"
      ],
      "metadata": {
        "colab": {
          "base_uri": "https://localhost:8080/"
        },
        "id": "MyYHPUFCl1AP",
        "outputId": "fd8f95f3-33fa-445f-aef0-da9608faef94"
      },
      "execution_count": 9,
      "outputs": [
        {
          "output_type": "stream",
          "name": "stdout",
          "text": [
            "['Mazid', '500000']\n",
            "500000\n",
            "['Rashid', '500000']\n",
            "500000\n"
          ]
        }
      ]
    },
    {
      "cell_type": "code",
      "source": [
        "class student:\n",
        "  def __init__(self,name,course):\n",
        "      self.name = name\n",
        "      self.course = course\n",
        "\n",
        "  @classmethod\n",
        "  def from_string(cls, string):\n",
        "    return cls(string.split(\"-\")[0], (string.split(\"-\")[1]))\n",
        "\n",
        "student = student.from_string(\"Mazid-Python\")\n",
        "print(student.name)\n",
        "print(student.course)\n"
      ],
      "metadata": {
        "colab": {
          "base_uri": "https://localhost:8080/"
        },
        "id": "GG4H659Xndw6",
        "outputId": "803ab9f3-b615-43d2-e7d1-2699f0d90efa"
      },
      "execution_count": 11,
      "outputs": [
        {
          "output_type": "stream",
          "name": "stdout",
          "text": [
            "Mazid\n",
            "Python\n"
          ]
        }
      ]
    }
  ]
}