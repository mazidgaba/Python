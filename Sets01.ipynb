{
  "nbformat": 4,
  "nbformat_minor": 0,
  "metadata": {
    "colab": {
      "provenance": [],
      "authorship_tag": "ABX9TyOQg9yOH8qVA/nJVlYbq567",
      "include_colab_link": true
    },
    "kernelspec": {
      "name": "python3",
      "display_name": "Python 3"
    },
    "language_info": {
      "name": "python"
    }
  },
  "cells": [
    {
      "cell_type": "markdown",
      "metadata": {
        "id": "view-in-github",
        "colab_type": "text"
      },
      "source": [
        "<a href=\"https://colab.research.google.com/github/mazidgaba/Python/blob/main/Sets01.ipynb\" target=\"_parent\"><img src=\"https://colab.research.google.com/assets/colab-badge.svg\" alt=\"Open In Colab\"/></a>"
      ]
    },
    {
      "cell_type": "code",
      "execution_count": 5,
      "metadata": {
        "colab": {
          "base_uri": "https://localhost:8080/"
        },
        "id": "Psc_eilSBMUn",
        "outputId": "4943a97d-acc9-4d4b-c145-bc60854f9175"
      },
      "outputs": [
        {
          "output_type": "stream",
          "name": "stdout",
          "text": [
            "{0.98, 3, 'mazid', 'gaba', 6, 43}\n",
            "0.98\n",
            "3\n",
            "mazid\n",
            "gaba\n",
            "6\n",
            "43\n",
            "<class 'set'>\n",
            "6\n",
            "<class 'dict'>\n",
            "<class 'set'>\n"
          ]
        }
      ],
      "source": [
        "s = {43, 43,3,\"mazid\", \"gaba\",6, 0.98}\n",
        "print(s)\n",
        "for value in s:\n",
        "    print(value)\n",
        "\n",
        "\n",
        "print(type(s))\n",
        "print(len(s))\n",
        "\n",
        "x = {}\n",
        "print(type(x))\n",
        "\n",
        "y = set()\n",
        "print(type(y))"
      ]
    }
  ]
}