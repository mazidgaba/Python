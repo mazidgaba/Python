{
  "nbformat": 4,
  "nbformat_minor": 0,
  "metadata": {
    "colab": {
      "provenance": [],
      "authorship_tag": "ABX9TyNy357SLXsix1mB7BiYwkRX",
      "include_colab_link": true
    },
    "kernelspec": {
      "name": "python3",
      "display_name": "Python 3"
    },
    "language_info": {
      "name": "python"
    }
  },
  "cells": [
    {
      "cell_type": "markdown",
      "metadata": {
        "id": "view-in-github",
        "colab_type": "text"
      },
      "source": [
        "<a href=\"https://colab.research.google.com/github/mazidgaba/Python/blob/main/Filter.ipynb\" target=\"_parent\"><img src=\"https://colab.research.google.com/assets/colab-badge.svg\" alt=\"Open In Colab\"/></a>"
      ]
    },
    {
      "cell_type": "code",
      "execution_count": 4,
      "metadata": {
        "colab": {
          "base_uri": "https://localhost:8080/"
        },
        "id": "7rAXQZTEi-ir",
        "outputId": "2f5dad71-2d01-4748-8d75-381c2dda61d8"
      },
      "outputs": [
        {
          "output_type": "stream",
          "name": "stdout",
          "text": [
            "8\n",
            "[1, 8, 27, 125, 216, 343, 27]\n",
            "[1, 2, 3, 3]\n"
          ]
        }
      ],
      "source": [
        "def cube(x):\n",
        "    return x*x*x\n",
        "\n",
        "print(cube(2))\n",
        "\n",
        "l=[1,2,3,5,6,7,3]\n",
        "# newl=[]\n",
        "# for item in l:\n",
        "#     newl.append(cube(item))\n",
        "# print(newl)\n",
        "\n",
        "newl= list(map(cube,l))\n",
        "print(newl)\n",
        "\n",
        "\n",
        "def filter_function(a):\n",
        "  return a<5\n",
        "\n",
        "newnewl = list(filter(filter_function,l))\n",
        "print(newnewl)\n"
      ]
    }
  ]
}