{
  "nbformat": 4,
  "nbformat_minor": 0,
  "metadata": {
    "colab": {
      "provenance": [],
      "authorship_tag": "ABX9TyPH09p+WoEnoJXPKc+wq/pD",
      "include_colab_link": true
    },
    "kernelspec": {
      "name": "python3",
      "display_name": "Python 3"
    },
    "language_info": {
      "name": "python"
    }
  },
  "cells": [
    {
      "cell_type": "markdown",
      "metadata": {
        "id": "view-in-github",
        "colab_type": "text"
      },
      "source": [
        "<a href=\"https://colab.research.google.com/github/mazidgaba/Python/blob/main/MatchCase.ipynb\" target=\"_parent\"><img src=\"https://colab.research.google.com/assets/colab-badge.svg\" alt=\"Open In Colab\"/></a>"
      ]
    },
    {
      "cell_type": "code",
      "execution_count": 6,
      "metadata": {
        "colab": {
          "base_uri": "https://localhost:8080/"
        },
        "id": "hcs4NOYiW8KV",
        "outputId": "8c28a97d-8d22-441b-a400-517c187e1c38"
      },
      "outputs": [
        {
          "output_type": "stream",
          "name": "stdout",
          "text": [
            "Enter the Wordx\n",
            "Consonant\n"
          ]
        }
      ],
      "source": [
        "x = str(input(\"Enter the Word\"))\n",
        "match x:\n",
        "        case \"a\" | \"e\" | \"i\" | \"o\" | \"u\":\n",
        "            print(\"Vowel\")\n",
        "        case _:\n",
        "            print(\"Consonant\")\n"
      ]
    },
    {
      "cell_type": "code",
      "source": [
        "x = int(input(\"Enter the Number: \"))\n",
        "\n",
        "match x:\n",
        "    case 0:\n",
        "        print(\"Zero\")\n",
        "    case _ if x < 0:\n",
        "        print(\"Negative\")\n",
        "    case _ if x < -50:\n",
        "        print(\"Negative and less than -50\")\n",
        "    case _ if x > 0:\n",
        "        print(\"Positive\")\n",
        "    case _ if x > 50:\n",
        "        print(\"Positive and greater than 50\")\n"
      ],
      "metadata": {
        "colab": {
          "base_uri": "https://localhost:8080/"
        },
        "id": "0oBhDbtBY4Ei",
        "outputId": "3e37b0eb-c1af-46a3-a1bf-a2bfcd319567"
      },
      "execution_count": 20,
      "outputs": [
        {
          "output_type": "stream",
          "name": "stdout",
          "text": [
            "Enter the Number: 46\n",
            "Positive\n"
          ]
        }
      ]
    }
  ]
}