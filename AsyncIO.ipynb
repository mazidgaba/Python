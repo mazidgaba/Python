{
  "nbformat": 4,
  "nbformat_minor": 0,
  "metadata": {
    "colab": {
      "provenance": [],
      "authorship_tag": "ABX9TyNLS07HIzbT30kDc8mtj2xd",
      "include_colab_link": true
    },
    "kernelspec": {
      "name": "python3",
      "display_name": "Python 3"
    },
    "language_info": {
      "name": "python"
    }
  },
  "cells": [
    {
      "cell_type": "markdown",
      "metadata": {
        "id": "view-in-github",
        "colab_type": "text"
      },
      "source": [
        "<a href=\"https://colab.research.google.com/github/mazidgaba/Python/blob/main/AsyncIO.ipynb\" target=\"_parent\"><img src=\"https://colab.research.google.com/assets/colab-badge.svg\" alt=\"Open In Colab\"/></a>"
      ]
    },
    {
      "cell_type": "code",
      "execution_count": 7,
      "metadata": {
        "colab": {
          "base_uri": "https://localhost:8080/"
        },
        "id": "A69iCoBNRl1R",
        "outputId": "baef36e6-9899-496e-b0ee-24c76569ef5f"
      },
      "outputs": [
        {
          "output_type": "stream",
          "name": "stdout",
          "text": [
            "Function 1\n",
            "Function 2\n",
            "Function 3\n"
          ]
        }
      ],
      "source": [
        "import asyncio\n",
        "\n",
        "async def function1():\n",
        "    await asyncio.sleep(2)\n",
        "    print(\"Function 1\")\n",
        "\n",
        "async def function2():\n",
        "    await asyncio.sleep(3)\n",
        "    print(\"Function 2\")\n",
        "\n",
        "async def function3():\n",
        "    await asyncio.sleep(2)\n",
        "    print(\"Function 3\")\n",
        "\n",
        "async def main():\n",
        "    task = asyncio.create_task(function1())\n",
        "    # await function1()\n",
        "    await function2()\n",
        "    await function3()\n",
        "\n",
        "# In Jupyter, use this method to run the async function\n",
        "await main()\n"
      ]
    },
    {
      "cell_type": "code",
      "source": [
        "import asyncio\n",
        "\n",
        "async def function1():\n",
        "    await asyncio.sleep(2)\n",
        "    print(\"Function 1\")\n",
        "    return \"Mazid\"\n",
        "async def function2():\n",
        "    await asyncio.sleep(3)\n",
        "    print(\"Function 2\")\n",
        "\n",
        "async def function3():\n",
        "    await asyncio.sleep(2)\n",
        "    print(\"Function 3\")\n",
        "\n",
        "async def main():\n",
        "  L = await asyncio.gather(\n",
        "      function1(),\n",
        "      function2(),\n",
        "      function3(),\n",
        "  )\n",
        "  print(L)\n"
      ],
      "metadata": {
        "id": "JAX_AyBdXxiv"
      },
      "execution_count": 14,
      "outputs": []
    },
    {
      "cell_type": "code",
      "source": [
        "import asyncio\n",
        "import requests\n",
        "async def function1():\n",
        "    url = 'http://google.com/favicon.ico'\n",
        "    r = requests.get(url, allow_redirects=True)\n",
        "    open('google1.ico', 'wb').write(r.content)\n",
        "    print(\"Function 2\")\n",
        "\n",
        "async def function2():\n",
        "    url = 'http://google.com/favicon.ico'\n",
        "    r = requests.get(url, allow_redirects=True)\n",
        "    open('google2.ico', 'wb').write(r.content)\n",
        "    print(\"Function 2\")\n",
        "\n",
        "async def function3():\n",
        "    url = 'http://google.com/favicon.ico'\n",
        "    r = requests.get(url, allow_redirects=True)\n",
        "    open('google3.ico', 'wb').write(r.content)\n",
        "    print(\"Function 3\")\n",
        "\n",
        "async def main():\n",
        "  L = await asyncio.gather(\n",
        "      function1(),\n",
        "      function2(),\n",
        "      function3(),\n",
        "  )\n",
        "  print(L)\n"
      ],
      "metadata": {
        "id": "RwTmFJtDZbPa"
      },
      "execution_count": 17,
      "outputs": []
    }
  ]
}