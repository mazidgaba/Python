{
  "nbformat": 4,
  "nbformat_minor": 0,
  "metadata": {
    "colab": {
      "provenance": [],
      "authorship_tag": "ABX9TyM9Cdg/IB9VQscWoNASiKSN",
      "include_colab_link": true
    },
    "kernelspec": {
      "name": "python3",
      "display_name": "Python 3"
    },
    "language_info": {
      "name": "python"
    }
  },
  "cells": [
    {
      "cell_type": "markdown",
      "metadata": {
        "id": "view-in-github",
        "colab_type": "text"
      },
      "source": [
        "<a href=\"https://colab.research.google.com/github/mazidgaba/Python/blob/main/Multiple_Inheritance.ipynb\" target=\"_parent\"><img src=\"https://colab.research.google.com/assets/colab-badge.svg\" alt=\"Open In Colab\"/></a>"
      ]
    },
    {
      "cell_type": "code",
      "execution_count": 4,
      "metadata": {
        "colab": {
          "base_uri": "https://localhost:8080/"
        },
        "id": "wPBIXaIZzm8c",
        "outputId": "82c4789f-bf85-4261-d81e-20029a34d905"
      },
      "outputs": [
        {
          "output_type": "stream",
          "name": "stdout",
          "text": [
            "Mazid\n",
            "python\n"
          ]
        }
      ],
      "source": [
        "class Employee:\n",
        "  def __init__(self,name):\n",
        "    self.name=name\n",
        "\n",
        "class Developer:\n",
        "  def __init__(self,name,lang):\n",
        "    super().__init__(name)\n",
        "    self.lang=lang\n",
        "\n",
        "class EmpolyeeDeveloper (Employee, Developer):\n",
        "  def __init__(self,name,lang):\n",
        "    self.name=name\n",
        "    self.lang=lang\n",
        "\n",
        "\n",
        "\n",
        "o= EmpolyeeDeveloper(\"Mazid\",\"python\")\n",
        "print(o.name)\n",
        "print(o.lang)\n"
      ]
    },
    {
      "cell_type": "code",
      "source": [
        "class Employee:\n",
        "  def __init__(self,name):\n",
        "    self.name=name\n",
        "\n",
        "class Developer:\n",
        "  def __init__(self,name,lang):\n",
        "    super().__init__(name)\n",
        "    self.lang=lang\n",
        "  def show(self):\n",
        "    print(f\" The name is {self.name}\")\n",
        "\n",
        "class EmpolyeeDeveloper (Employee, Developer):\n",
        "  def __init__(self,name,lang):\n",
        "    self.name=name\n",
        "    self.lang=lang\n",
        "  def show(self):\n",
        "    print(f\"The Language is {self.lang}\")\n",
        "\n",
        "\n",
        "\n",
        "o= EmpolyeeDeveloper(\"Mazid\",\"python\")\n",
        "print(o.name)\n",
        "print(o.lang)\n",
        "o.show()"
      ],
      "metadata": {
        "colab": {
          "base_uri": "https://localhost:8080/"
        },
        "id": "QrqJRQ1f6Nx5",
        "outputId": "088925bc-8d5a-4b48-9902-9c94d6b3c289"
      },
      "execution_count": 11,
      "outputs": [
        {
          "output_type": "stream",
          "name": "stdout",
          "text": [
            "Mazid\n",
            "python\n",
            "The Language is python\n"
          ]
        }
      ]
    },
    {
      "cell_type": "code",
      "source": [
        "class Employee:\n",
        "  def __init__(self,name):\n",
        "    self.name=name\n",
        "\n",
        "class Developer:\n",
        "  def __init__(self,name,lang):\n",
        "    super().__init__(name)\n",
        "    self.lang=lang\n",
        "  def show(self):\n",
        "    print(f\" The name is {self.name}\")\n",
        "\n",
        "class EmpolyeeDeveloper (Employee, Developer):\n",
        "  def __init__(self,name,lang):\n",
        "    self.name=name\n",
        "    self.lang=lang\n",
        "  def show(self):\n",
        "    print(f\"The Language is {self.lang}\")\n",
        "\n",
        "\n",
        "\n",
        "o= EmpolyeeDeveloper(\"Mazid\",\"python\")\n",
        "print(o.name)\n",
        "print(o.lang)\n",
        "o.show()\n",
        "\n",
        "print(EmpolyeeDeveloper.mro())"
      ],
      "metadata": {
        "colab": {
          "base_uri": "https://localhost:8080/"
        },
        "id": "CULP2oYi7ecb",
        "outputId": "fef2a20e-71ec-4e38-abbb-b49b51d06b70"
      },
      "execution_count": 13,
      "outputs": [
        {
          "output_type": "stream",
          "name": "stdout",
          "text": [
            "Mazid\n",
            "python\n",
            "The Language is python\n",
            "[<class '__main__.EmpolyeeDeveloper'>, <class '__main__.Employee'>, <class '__main__.Developer'>, <class 'object'>]\n"
          ]
        }
      ]
    },
    {
      "cell_type": "code",
      "source": [
        "class Employee:\n",
        "  def __init__(self,name):\n",
        "    self.name=name\n",
        "\n",
        "class Developer:\n",
        "  def __init__(self,name,lang):\n",
        "    super().__init__(name)\n",
        "    self.lang=lang\n",
        "  def show(self):\n",
        "    print(f\" The name is {self.name}\")\n",
        "\n",
        "class EmpolyeeDeveloper (Developer,Employee):\n",
        "  def __init__(self,name,lang):\n",
        "    self.name=name\n",
        "    self.lang=lang\n",
        "  def show(self):\n",
        "    print(f\"The Language is {self.lang}\")\n",
        "\n",
        "\n",
        "\n",
        "o= EmpolyeeDeveloper(\"Mazid\",\"python\")\n",
        "print(o.name)\n",
        "print(o.lang)\n",
        "o.show()\n",
        "\n",
        "print(EmpolyeeDeveloper.mro())"
      ],
      "metadata": {
        "colab": {
          "base_uri": "https://localhost:8080/"
        },
        "id": "ntwIZ1us7ulh",
        "outputId": "fd804a94-d2ad-429a-e7f2-b34818ab8a9e"
      },
      "execution_count": 14,
      "outputs": [
        {
          "output_type": "stream",
          "name": "stdout",
          "text": [
            "Mazid\n",
            "python\n",
            "The Language is python\n",
            "[<class '__main__.EmpolyeeDeveloper'>, <class '__main__.Developer'>, <class '__main__.Employee'>, <class 'object'>]\n"
          ]
        }
      ]
    }
  ]
}