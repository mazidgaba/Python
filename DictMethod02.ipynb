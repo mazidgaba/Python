{
  "nbformat": 4,
  "nbformat_minor": 0,
  "metadata": {
    "colab": {
      "provenance": [],
      "authorship_tag": "ABX9TyPgroaSWZNSJMkmGKfUpe7p",
      "include_colab_link": true
    },
    "kernelspec": {
      "name": "python3",
      "display_name": "Python 3"
    },
    "language_info": {
      "name": "python"
    }
  },
  "cells": [
    {
      "cell_type": "markdown",
      "metadata": {
        "id": "view-in-github",
        "colab_type": "text"
      },
      "source": [
        "<a href=\"https://colab.research.google.com/github/mazidgaba/Python/blob/main/DictMethod02.ipynb\" target=\"_parent\"><img src=\"https://colab.research.google.com/assets/colab-badge.svg\" alt=\"Open In Colab\"/></a>"
      ]
    },
    {
      "cell_type": "code",
      "execution_count": 9,
      "metadata": {
        "colab": {
          "base_uri": "https://localhost:8080/"
        },
        "id": "RLBT9kdyum7n",
        "outputId": "3d2e13c5-c4fb-4c37-d434-ecb49ad3eef8"
      },
      "outputs": [
        {
          "output_type": "stream",
          "name": "stdout",
          "text": [
            "{'mazid': 'Siwan', 'rashid': 'siwan', 'asad': 'purnea', 'nishant': 'Alwar', 'affan': 'moradabad', 'adeeb': 'moradabad', 'zafar': 'janpur'}\n",
            "{}\n"
          ]
        }
      ],
      "source": [
        "AMUFriends = {\"mazid\": \"Siwan\", \"rashid\":\"siwan\", \"asad\":\"purnea\", \"nishant\": \"Alwar\"}\n",
        "\n",
        "MANUUFriends = {\"affan\":\"moradabad\", \"adeeb\": \"moradabad\",\"zafar\":\"janpur\"}\n",
        "\n",
        "AMUFriends.update(MANUUFriends)\n",
        "\n",
        "print(AMUFriends)\n",
        "\n",
        "AMUFriends.clear()\n",
        "\n",
        "print(AMUFriends)\n",
        "\n",
        "\n",
        "\n",
        "# del MANUUFriends\n",
        "\n",
        "# del AMUFriends\n",
        "\n",
        "# print(AMUFriends)\n"
      ]
    },
    {
      "cell_type": "code",
      "source": [
        "AMUFriends = {\"mazid\": \"Siwan\", \"rashid\":\"siwan\", \"asad\":\"purnea\", \"nishant\": \"Alwar\"}\n",
        "\n",
        "MANUUFriends = {\"affan\":\"moradabad\", \"adeeb\": \"moradabad\",\"zafar\":\"janpur\"}\n",
        "\n",
        "AMUFriends.pop(\"mazid\")\n",
        "\n",
        "print(AMUFriends)"
      ],
      "metadata": {
        "colab": {
          "base_uri": "https://localhost:8080/"
        },
        "id": "CuNpy_1fwKjK",
        "outputId": "bfaad790-a021-42f7-eda9-cb670c16601c"
      },
      "execution_count": 8,
      "outputs": [
        {
          "output_type": "stream",
          "name": "stdout",
          "text": [
            "{'rashid': 'siwan', 'asad': 'purnea', 'nishant': 'Alwar'}\n"
          ]
        }
      ]
    }
  ]
}